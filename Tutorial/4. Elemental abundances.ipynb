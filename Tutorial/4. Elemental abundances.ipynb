{
 "metadata": {
  "name": ""
 },
 "nbformat": 3,
 "nbformat_minor": 0,
 "worksheets": [
  {
   "cells": [
    {
     "cell_type": "heading",
     "level": 1,
     "metadata": {},
     "source": [
      "q2 Tutorial - Elemental abundances"
     ]
    },
    {
     "cell_type": "markdown",
     "metadata": {},
     "source": [
      "Our Hyades \"lines\" CSV file contains rows with atomic data and EWs for C, O, and Ba lines, in addition to the Fe lines we employed before. We can use those data to measure the C, O, and Ba abundances of the stars in our Hyades list.\n",
      "\n",
      "As usual, let's move to the Demo directory, import q2, and upload the data. At this point we should use the atmospheric parameters that we have derived using q2; i.e., not the inputs given in our original CSV file, but those in the Hyades_solution.csv file we created in the Part 3 of the q2 Tutorial. In the original file we referred to the input parameters as teff_in, logg_in, etc. In Hyades_solution.csv, the parameters are teff_out, logg_out, etc. q2 will first try to assign the \"out\" parameters in the CSV file. If they are not there, it will use the \"in\" values."
     ]
    },
    {
     "cell_type": "code",
     "collapsed": false,
     "input": [
      "import os\n",
      "os.chdir('Demo')\n",
      "\n",
      "import q2\n",
      "\n",
      "data = q2.Data('Hyades_solution.csv', '../hyades_lines.csv')"
     ],
     "language": "python",
     "metadata": {},
     "outputs": [],
     "prompt_number": 1
    },
    {
     "cell_type": "markdown",
     "metadata": {},
     "source": [
      "Let's create a star object for hd29310 and load its data. Since we are going to use MOOG to measure the abundances, a model atmosphere is required. We will get one from the marcs grid."
     ]
    },
    {
     "cell_type": "code",
     "collapsed": false,
     "input": [
      "star = q2.Star('hd29310')\n",
      "star.get_data_from(data)\n",
      "star.get_model_atmosphere('marcs')"
     ],
     "language": "python",
     "metadata": {},
     "outputs": [],
     "prompt_number": 2
    },
    {
     "cell_type": "markdown",
     "metadata": {},
     "source": [
      "We should be familiar enough with q2 at this point to know that this is all that is needed to calculate the abundances. We just need to tell q2 which species we are interested in measuring. Our linelist contains not only the C, O, and Ba lines, but also the Fe lines. We do this with a species_id list that we pass to q2.abundances.one. The latter is a function that calculates abundances of elements in species_id for a star object. Let's begin with C and Ba."
     ]
    },
    {
     "cell_type": "code",
     "collapsed": false,
     "input": [
      "species_ids = ['CI', 'BaII']\n",
      "q2.abundances.one(star, species_ids)"
     ],
     "language": "python",
     "metadata": {},
     "outputs": [],
     "prompt_number": 3
    },
    {
     "cell_type": "markdown",
     "metadata": {},
     "source": [
      "The q2.abundances.one function adds \"species\" attributes to the star object. For example, star.CI contains the results of the CI abundace calculation. This new attribute is an array, and the line-by-line abundances are in the 'ab' column."
     ]
    },
    {
     "cell_type": "code",
     "collapsed": false,
     "input": [
      "print(star.CI)\n",
      "print(star.BaII)\n",
      "print(np.mean(star.BaII['ab']))\n",
      "print(np.std(star.BaII['ab']))"
     ],
     "language": "python",
     "metadata": {},
     "outputs": [
      {
       "output_type": "stream",
       "stream": "stdout",
       "text": [
        "[(5052.17, 7.68, 49.5, -5.008872756730358, 8.474, nan)\n",
        " (5380.34, 7.68, 34.8, -5.189230476972263, 8.553, nan)\n",
        " (6587.61, 8.54, 24.5, -5.429561795771692, 8.473, nan)\n",
        " (7111.47, 8.64, 20.5, -5.540205521235365, 8.506, nan)]\n",
        "[(5853.7, 0.6, 77.9, -4.875893003560991, 2.301, nan)\n",
        " (6141.7, 0.7, 145.8, -4.624531074916599, 2.518, nan)\n",
        " (6496.9, 0.6, 148.1, -4.642151123653977, 2.682, nan)]\n",
        "2.50033333333\n",
        "0.156043441245\n"
       ]
      }
     ],
     "prompt_number": 4
    },
    {
     "cell_type": "markdown",
     "metadata": {},
     "source": [
      "If we look at the \"lines\" file again, we will notice that the BaII lines consider hyperfine structure. q2 will figure out when HFS is needed and it will be careful enough to create MOOG linelists in the proper format.\n",
      "\n",
      "Now, let's do oxygen."
     ]
    },
    {
     "cell_type": "code",
     "collapsed": false,
     "input": [
      "species_ids = ['OI']\n",
      "q2.abundances.one(star, species_ids)"
     ],
     "language": "python",
     "metadata": {},
     "outputs": [
      {
       "output_type": "stream",
       "stream": "stdout",
       "text": [
        "\n",
        "777 nm oxygen abundances will be NLTE corrected\n",
        "Wavelength (A) | A(O) LTE | Correction | A(O) NLTE"
       ]
      },
      {
       "output_type": "stream",
       "stream": "stdout",
       "text": [
        "\n",
        "   7771.9      |   8.959  |    0.169   |  8.790\n",
        "   7774.2      |   8.954  |    0.164   |  8.790\n",
        "   7775.4      |   8.896  |    0.144   |  8.752\n",
        "A(O) LTE  =  8.936 +/- 0.029\n",
        "A(O) NLTE =  8.777 +/- 0.018\n"
       ]
      }
     ],
     "prompt_number": 5
    },
    {
     "cell_type": "markdown",
     "metadata": {},
     "source": [
      "Oxygen is a special case in q2. By default it is NLTE corrected using the grid by Ramirez et al. (2007). For reference, details of this correction are printed on screen. \n",
      "\n",
      "Calculating differential abundances is also easy. All we need to do is pass a Ref(erence) object to q2.abundances.one. We will use the vestaOct data as reference, creating a ref object and loading its data onto it, in addition to creating a model atmosphere of the same grid (marcs), for consistency. Note that we are now calculating abundances for all three species."
     ]
    },
    {
     "cell_type": "code",
     "collapsed": false,
     "input": [
      "ref = q2.Star('vestaOct')\n",
      "ref.get_data_from(data)\n",
      "ref.get_model_atmosphere('marcs')\n",
      "\n",
      "species_ids = ['CaI', 'OI', 'BaII']\n",
      "q2.abundances.one(star, species_ids, Ref=ref)"
     ],
     "language": "python",
     "metadata": {},
     "outputs": [
      {
       "output_type": "stream",
       "stream": "stdout",
       "text": [
        "\n",
        "777 nm oxygen abundances will be NLTE corrected\n",
        "Wavelength (A) | A(O) LTE | Correction | A(O) NLTE"
       ]
      },
      {
       "output_type": "stream",
       "stream": "stdout",
       "text": [
        "\n",
        "   7771.9      |   8.959  |    0.169   |  8.790\n",
        "   7774.2      |   8.954  |    0.164   |  8.790\n",
        "   7775.4      |   8.896  |    0.144   |  8.752\n",
        "A(O) LTE  =  8.936 +/- 0.029\n",
        "A(O) NLTE =  8.777 +/- 0.018\n"
       ]
      },
      {
       "output_type": "stream",
       "stream": "stdout",
       "text": [
        "\n",
        "777 nm oxygen abundances will be NLTE corrected (Reference)\n",
        "Wavelength (A) | A(O) LTE | Correction | A(O) NLTE"
       ]
      },
      {
       "output_type": "stream",
       "stream": "stdout",
       "text": [
        "\n",
        "   7771.9      |   8.786  |    0.133   |  8.653\n",
        "   7774.2      |   8.771  |    0.126   |  8.645\n",
        "   7775.4      |   8.781  |    0.117   |  8.664\n",
        "A(O) LTE  =  8.779 +/- 0.006\n",
        "A(O) NLTE =  8.654 +/- 0.008\n"
       ]
      }
     ],
     "prompt_number": 6
    },
    {
     "cell_type": "markdown",
     "metadata": {},
     "source": [
      "Something else"
     ]
    },
    {
     "cell_type": "code",
     "collapsed": false,
     "input": [
      "print(star.OI)\n",
      "print(star.OI['ab'])\n",
      "print(star.OI['difab'])\n",
      "print(np.mean(star.OI['difab']))\n",
      "print(np.std(star.OI['difab']))\n",
      "\n",
      "print(star.BaII)\n",
      "print(star.BaII['ab'])\n",
      "print(star.BaII['difab'])\n",
      "print(np.mean(star.BaII['difab']))\n",
      "print(np.std(star.BaII['difab']))"
     ],
     "language": "python",
     "metadata": {},
     "outputs": [
      {
       "output_type": "stream",
       "stream": "stdout",
       "text": [
        "[ (7771.94, 9.15, 102.7, -4.878958995555184, 8.78975690087852, 0.13711698241575299)\n",
        " (7774.16, 9.15, 91.6, -4.928758000934838, 8.789728287225568, 0.14478900451910803)\n",
        " (7775.39, 9.15, 71.1, -5.038852580969121, 8.751947495045632, 0.08814088397280351)]\n",
        "[ 8.7897569   8.78972829  8.7519475 ]\n",
        "[ 0.13711698  0.144789    0.08814088]\n",
        "0.123348956969\n",
        "0.025092114085\n",
        "[(5853.7, 0.6, 77.9, -4.875893003560991, 2.301, 0.14500000000000002)\n",
        " (6141.7, 0.7, 145.8, -4.624531074916599, 2.518, 0.2739999999999996)\n",
        " (6496.9, 0.6, 148.1, -4.642151123653977, 2.682, 0.5009999999999999)]\n",
        "[ 2.301  2.518  2.682]\n",
        "[ 0.145  0.274  0.501]\n",
        "0.306666666667\n",
        "0.147160532148\n"
       ]
      }
     ],
     "prompt_number": 7
    },
    {
     "cell_type": "markdown",
     "metadata": {},
     "source": [
      "Something something"
     ]
    },
    {
     "cell_type": "code",
     "collapsed": false,
     "input": [
      "q2.abundances.all(data, ['CI', 'OI', 'BaII'], 'marcs', 'Hyades_abundances.csv', 'vestaOct')"
     ],
     "language": "python",
     "metadata": {},
     "outputs": [
      {
       "output_type": "stream",
       "stream": "stdout",
       "text": [
        "------------------------------------------------------\n",
        "Initializing ...\n",
        "- Date and time: 2014-02-07 14:35:15.151296\n",
        "- Model atmospheres: marcs\n",
        "- Star data: Hyades_solution.csv\n",
        "- Line list: ../hyades_lines.csv\n",
        "- Reference star: vestaOct\n",
        "------------------------------------------------------\n"
       ]
      },
      {
       "output_type": "stream",
       "stream": "stdout",
       "text": [
        "\n",
        "*******\n",
        "hd28099\n",
        "*******\n"
       ]
      },
      {
       "output_type": "stream",
       "stream": "stdout",
       "text": [
        "\n",
        "777 nm oxygen abundances will be NLTE corrected\n",
        "Wavelength (A) | A(O) LTE | Correction | A(O) NLTE"
       ]
      },
      {
       "output_type": "stream",
       "stream": "stdout",
       "text": [
        "\n",
        "   7771.9      |   8.938  |    0.112   |  8.826\n",
        "   7774.2      |   8.947  |    0.125   |  8.822\n",
        "   7775.4      |   8.884  |    0.097   |  8.787\n",
        "A(O) LTE  =  8.923 +/- 0.028\n",
        "A(O) NLTE =  8.812 +/- 0.017\n"
       ]
      },
      {
       "output_type": "stream",
       "stream": "stdout",
       "text": [
        "\n",
        "777 nm oxygen abundances will be NLTE corrected (Reference)\n",
        "Wavelength (A) | A(O) LTE | Correction | A(O) NLTE"
       ]
      },
      {
       "output_type": "stream",
       "stream": "stdout",
       "text": [
        "\n",
        "   7771.9      |   8.786  |    0.133   |  8.653\n",
        "   7774.2      |   8.771  |    0.126   |  8.645\n",
        "   7775.4      |   8.781  |    0.117   |  8.664\n",
        "A(O) LTE  =  8.779 +/- 0.006\n",
        "A(O) NLTE =  8.654 +/- 0.008\n",
        "\n",
        "CI\n",
        "--"
       ]
      },
      {
       "output_type": "stream",
       "stream": "stdout",
       "text": [
        "\n",
        "ABS =  8.476 +/-  0.005\n",
        "DIF =  0.139 +/-  0.048\n",
        "\n",
        "Wavelength   ABS    RES    DIF    RES \n",
        "----------  ----- ------  -----  -----\n",
        " 5052.1700  8.468 -0.008  0.111 -0.028\n",
        " 5380.3400  8.478  0.002  0.075 -0.064\n",
        " 6587.6100  8.483  0.007  0.173  0.034\n",
        " 7111.4700  8.476 -0.000  0.196  0.057\n",
        "\n",
        "OI\n",
        "--\n",
        "ABS =  8.812 +/-  0.017\n",
        "DIF =  0.158 +/-  0.024\n",
        "\n",
        "Wavelength   ABS    RES    DIF    RES \n",
        "----------  ----- ------  -----  -----\n",
        " 7771.9400  8.826  0.014  0.173  0.016\n",
        " 7774.1600  8.822  0.010  0.177  0.019\n",
        " 7775.3900  8.787 -0.025  0.123 -0.035\n",
        "\n",
        "BaII\n",
        "----\n",
        "ABS =  2.465 +/-  0.072\n",
        "DIF =  0.271 +/-  0.059\n",
        "\n",
        "Wavelength   ABS    RES    DIF    RES \n",
        "----------  ----- ------  -----  -----\n",
        " 5853.7000  2.365 -0.100  0.209 -0.062\n",
        " 6141.7000  2.497  0.032  0.253 -0.018\n",
        " 6496.9000  2.532  0.067  0.351  0.080\n",
        "\n",
        "*******\n",
        "hd29310\n",
        "*******\n"
       ]
      },
      {
       "output_type": "stream",
       "stream": "stdout",
       "text": [
        "\n",
        "777 nm oxygen abundances will be NLTE corrected\n",
        "Wavelength (A) | A(O) LTE | Correction | A(O) NLTE"
       ]
      },
      {
       "output_type": "stream",
       "stream": "stdout",
       "text": [
        "\n",
        "   7771.9      |   8.959  |    0.169   |  8.790\n",
        "   7774.2      |   8.954  |    0.164   |  8.790\n",
        "   7775.4      |   8.896  |    0.144   |  8.752\n",
        "A(O) LTE  =  8.936 +/- 0.029\n",
        "A(O) NLTE =  8.777 +/- 0.018\n",
        "\n",
        "CI\n",
        "--"
       ]
      },
      {
       "output_type": "stream",
       "stream": "stdout",
       "text": [
        "\n",
        "ABS =  8.502 +/-  0.033\n",
        "DIF =  0.164 +/-  0.040\n",
        "\n",
        "Wavelength   ABS    RES    DIF    RES \n",
        "----------  ----- ------  -----  -----\n",
        " 5052.1700  8.474 -0.027  0.117 -0.047\n",
        " 5380.3400  8.553  0.052  0.150 -0.014\n",
        " 6587.6100  8.473 -0.028  0.163 -0.001\n",
        " 7111.4700  8.506  0.005  0.226  0.062\n",
        "\n",
        "OI\n",
        "--\n",
        "ABS =  8.777 +/-  0.018\n",
        "DIF =  0.123 +/-  0.025\n",
        "\n",
        "Wavelength   ABS    RES    DIF    RES \n",
        "----------  ----- ------  -----  -----\n",
        " 7771.9400  8.790  0.013  0.137  0.014\n",
        " 7774.1600  8.790  0.013  0.145  0.021\n",
        " 7775.3900  8.752 -0.025  0.088 -0.035\n",
        "\n",
        "BaII\n",
        "----\n",
        "ABS =  2.500 +/-  0.156\n",
        "DIF =  0.307 +/-  0.147\n",
        "\n",
        "Wavelength   ABS    RES    DIF    RES \n",
        "----------  ----- ------  -----  -----\n",
        " 5853.7000  2.301 -0.199  0.145 -0.162\n",
        " 6141.7000  2.518  0.018  0.274 -0.033\n",
        " 6496.9000  2.682  0.182  0.501  0.194\n",
        "\n",
        "********\n",
        "vestaOct\n",
        "********\n"
       ]
      },
      {
       "output_type": "stream",
       "stream": "stdout",
       "text": [
        "\n",
        "777 nm oxygen abundances will be NLTE corrected\n",
        "Wavelength (A) | A(O) LTE | Correction | A(O) NLTE"
       ]
      },
      {
       "output_type": "stream",
       "stream": "stdout",
       "text": [
        "\n",
        "   7771.9      |   8.786  |    0.133   |  8.653\n",
        "   7774.2      |   8.771  |    0.126   |  8.645\n",
        "   7775.4      |   8.781  |    0.117   |  8.664\n",
        "A(O) LTE  =  8.779 +/- 0.006\n",
        "A(O) NLTE =  8.654 +/- 0.008\n",
        "\n",
        "CI\n",
        "--"
       ]
      },
      {
       "output_type": "stream",
       "stream": "stdout",
       "text": [
        "\n",
        "ABS =  8.338 +/-  0.047\n",
        "DIF =  0.000 +/-  0.000\n",
        "\n",
        "Wavelength   ABS    RES    DIF    RES \n",
        "----------  ----- ------  -----  -----\n",
        " 5052.1700  8.357  0.019  0.000  0.000\n",
        " 5380.3400  8.403  0.066  0.000  0.000\n",
        " 6587.6100  8.310 -0.027  0.000  0.000\n",
        " 7111.4700  8.280 -0.058  0.000  0.000\n",
        "\n",
        "OI\n",
        "--\n",
        "ABS =  8.654 +/-  0.008\n",
        "DIF =  0.000 +/-  0.000\n",
        "\n",
        "Wavelength   ABS    RES    DIF    RES \n",
        "----------  ----- ------  -----  -----\n",
        " 7771.9400  8.653 -0.001  0.000  0.000\n",
        " 7774.1600  8.645 -0.009  0.000  0.000\n",
        " 7775.3900  8.664  0.010  0.000  0.000\n",
        "\n",
        "BaII\n",
        "----\n",
        "ABS =  2.194 +/-  0.037\n",
        "DIF =  0.000 +/-  0.000\n",
        "\n",
        "Wavelength   ABS    RES    DIF    RES \n",
        "----------  ----- ------  -----  -----\n",
        " 5853.7000  2.156 -0.038  0.000  0.000\n",
        " 6141.7000  2.244  0.050  0.000  0.000\n",
        " 6496.9000  2.181 -0.013  0.000  0.000\n",
        "\n",
        "------------------------------------------------------\n",
        "- Date and time: 2014-02-07 14:35:30.650264\n",
        "- Time elapsed: 0:00:15.498968\n",
        "Done!\n",
        "------------------------------------------------------\n",
        "\n"
       ]
      }
     ],
     "prompt_number": 8
    },
    {
     "cell_type": "markdown",
     "metadata": {},
     "source": [
      "That's it!"
     ]
    }
   ],
   "metadata": {}
  }
 ]
}