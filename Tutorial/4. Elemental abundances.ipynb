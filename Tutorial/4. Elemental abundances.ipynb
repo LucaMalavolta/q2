{
 "metadata": {
  "name": "",
  "signature": "sha256:b40e0609ef2358c9a37f8c00f2d365ba564453713010dcae59485b37952bd20b"
 },
 "nbformat": 3,
 "nbformat_minor": 0,
 "worksheets": [
  {
   "cells": [
    {
     "cell_type": "markdown",
     "metadata": {},
     "source": [
      "*Under Construction*\n",
      "\n",
      "#q<sup>2</sup> Tutorial - 4. Elemental abundances\n",
      "\n",
      "Our hyades_lines.csv file contains rows with atomic data and EWs for C, O, and Ba lines, in addition to the Fe lines we employed before. We can use those data to measure the C, O, and Ba abundances of the stars in our Hyades list.\n",
      "\n",
      "As usual, let's move to the Demo directory, import q<sup>2</sup>, and upload the data. At this point we should use the atmospheric parameters that we have derived using q<sup>2</sup>; i.e., not the inputs given in our original csv file, but those in the Hyades_solution.csv file we created in Part 3 of this Tutorial. In the original file we referred to the input parameters as teff_in, logg_in, etc. In Hyades_solution.csv, the parameters are called teff_out, logg_out, etc. q<sup>2</sup> will first try to assign the \"out\" parameters in the csv file. If they are not there, it will use the \"in\" values."
     ]
    },
    {
     "cell_type": "code",
     "collapsed": false,
     "input": [
      "import os\n",
      "os.chdir('Demo')\n",
      "\n",
      "import q2\n",
      "\n",
      "data = q2.Data('Hyades_solution.csv', '../hyades_lines.csv')"
     ],
     "language": "python",
     "metadata": {},
     "outputs": [],
     "prompt_number": 1
    },
    {
     "cell_type": "markdown",
     "metadata": {},
     "source": [
      "Let's create a star object for hd29310 and load its data. Since we are going to use MOOG to measure the abundances, a model atmosphere is required. We will get one from the marcs grid."
     ]
    },
    {
     "cell_type": "code",
     "collapsed": false,
     "input": [
      "star = q2.Star('hd29310')\n",
      "star.get_data_from(data)\n",
      "star.get_model_atmosphere('marcs')"
     ],
     "language": "python",
     "metadata": {},
     "outputs": [],
     "prompt_number": 2
    },
    {
     "cell_type": "markdown",
     "metadata": {},
     "source": [
      "We should be familiar enough with q2 at this point to know that this is all that is needed to calculate the abundances. We just need to tell q2 which species we are interested in measuring. Our linelist contains not only the C, O, and Ba lines, but also the Fe lines. We do this with a species_id list that we pass to q2.abundances.one. The latter is a function that calculates abundances of elements in species_id for a star object. Let's begin with C and Ba."
     ]
    },
    {
     "cell_type": "code",
     "collapsed": false,
     "input": [
      "species_ids = ['CI', 'BaII']\n",
      "q2.abundances.one(star, species_ids)"
     ],
     "language": "python",
     "metadata": {},
     "outputs": [],
     "prompt_number": 3
    },
    {
     "cell_type": "markdown",
     "metadata": {},
     "source": [
      "The q2.abundances.one function adds \"species\" attributes to the star object. For example, star.CI contains the results of the CI abundace calculation. This new attribute is an array, and the line-by-line abundances are in the 'ab' column."
     ]
    },
    {
     "cell_type": "code",
     "collapsed": false,
     "input": [
      "import numpy as np\n",
      "print(star.CI)\n",
      "print(star.BaII)\n",
      "print(np.mean(star.BaII['ab']))\n",
      "print(np.std(star.BaII['ab']))"
     ],
     "language": "python",
     "metadata": {},
     "outputs": [
      {
       "output_type": "stream",
       "stream": "stdout",
       "text": [
        "{'ab': array([ 8.48 ,  8.559,  8.484,  8.517]), 'difab': array([None, None, None, None], dtype=object), 'rew': array([-5.009, -5.189, -5.43 , -5.54 ]), 'ww': array([ 5052.167,  5380.337,  6587.61 ,  7111.469]), 'ew': array([ 49.5,  34.8,  24.5,  20.5]), 'ep': array([ 7.685,  7.685,  8.537,  8.64 ])}\n",
        "{'ab': array([ 4.297,  6.044,  4.284]), 'difab': array([None, None, None], dtype=object), 'rew': array([-4.876, -4.625, -4.642]), 'ww': array([ 5853.696,  6141.695,  6496.9  ]), 'ew': array([  77.9,  145.8,  148.1]), 'ep': array([ 0.604,  0.704,  0.604])}\n",
        "4.875\n",
        "0.826624864534\n"
       ]
      }
     ],
     "prompt_number": 4
    },
    {
     "cell_type": "markdown",
     "metadata": {},
     "source": [
      "If we look at the \"lines\" file again, we will notice that the BaII lines consider hyperfine structure. q2 will figure out when HFS is needed and it will be careful enough to create MOOG linelists in the proper format.\n",
      "\n",
      "Now, let's do oxygen."
     ]
    },
    {
     "cell_type": "code",
     "collapsed": false,
     "input": [
      "species_ids = ['OI']\n",
      "q2.abundances.one(star, species_ids)\n",
      "star.OI"
     ],
     "language": "python",
     "metadata": {},
     "outputs": [
      {
       "metadata": {},
       "output_type": "pyout",
       "prompt_number": 5,
       "text": [
        "{'ab': masked_array(data = [8.813867956858058 8.813859519732866 8.774539278607632],\n",
        "              mask = [False False False],\n",
        "        fill_value = 1e+20),\n",
        " 'difab': array([None, None, None], dtype=object),\n",
        " 'ep': array([ 9.146,  9.146,  9.146]),\n",
        " 'ew': array([ 102.7,   91.6,   71.1]),\n",
        " 'rew': array([-4.879, -4.929, -5.039]),\n",
        " 'ww': array([ 7771.944,  7774.161,  7775.39 ])}"
       ]
      }
     ],
     "prompt_number": 5
    },
    {
     "cell_type": "markdown",
     "metadata": {},
     "source": [
      "Oxygen is a special case in q2. By default it is NLTE corrected using the grid by Ramirez et al. (2007). For reference, details of this correction are printed on screen. \n",
      "\n",
      "Calculating differential abundances is also easy. All we need to do is pass a Ref(erence) object to q2.abundances.one. We will use the vestaOct data as reference, creating a ref object and loading its data onto it, in addition to creating a model atmosphere of the same grid (marcs), for consistency. Note that we are now calculating abundances for all three species."
     ]
    },
    {
     "cell_type": "code",
     "collapsed": false,
     "input": [
      "ref = q2.Star('vestaOct')\n",
      "ref.get_data_from(data)\n",
      "ref.get_model_atmosphere('marcs')\n",
      "\n",
      "species_ids = ['CaI', 'OI', 'BaII']\n",
      "q2.abundances.one(star, species_ids, Ref=ref)"
     ],
     "language": "python",
     "metadata": {},
     "outputs": [],
     "prompt_number": 6
    },
    {
     "cell_type": "markdown",
     "metadata": {},
     "source": [
      "Something else"
     ]
    },
    {
     "cell_type": "code",
     "collapsed": false,
     "input": [
      "print(star.OI)\n",
      "print(star.OI['ab'])\n",
      "print(star.OI['difab'])\n",
      "print(np.mean(star.OI['difab']))\n",
      "print(np.std(star.OI['difab']))\n",
      "\n",
      "print(star.BaII)\n",
      "print(star.BaII['ab'])\n",
      "print(star.BaII['difab'])\n",
      "print(np.mean(star.BaII['difab']))\n",
      "print(np.std(star.BaII['difab']))"
     ],
     "language": "python",
     "metadata": {},
     "outputs": [
      {
       "output_type": "stream",
       "stream": "stdout",
       "text": [
        "{'ab': masked_array(data = [7.117017500973857 7.524576886051689 7.882822780329848],\n",
        "             mask = [False False False],\n",
        "       fill_value = 1e+20)\n",
        ", 'difab': [-1.5558331448261651, -1.1402637720253637, -0.80013376199836195], 'rew': array([-4.879, -4.929, -5.039]), 'ww': array([ 7771.944,  7774.161,  7775.39 ]), 'ew': array([ 102.7,   91.6,   71.1]), 'ep': array([ 9.146,  9.146,  9.146])}\n",
        "[7.117017500973857 7.524576886051689 7.882822780329848]\n",
        "[-1.5558331448261651, -1.1402637720253637, -0.80013376199836195]\n",
        "-1.16541022628\n",
        "0.309024969242\n",
        "{'ab': array([ 4.297,  6.044,  4.284]), 'difab': [0.15499999999999936, 0.26799999999999979, 0.49299999999999988], 'rew': array([-4.876, -4.625, -4.642]), 'ww': array([ 5853.696,  6141.695,  6496.9  ]), 'ew': array([  77.9,  145.8,  148.1]), 'ep': array([ 0.604,  0.704,  0.604])}\n",
        "[ 4.297  6.044  4.284]\n",
        "[0.15499999999999936, 0.26799999999999979, 0.49299999999999988]\n",
        "0.305333333333\n",
        "0.140490410903\n"
       ]
      }
     ],
     "prompt_number": 7
    },
    {
     "cell_type": "markdown",
     "metadata": {},
     "source": [
      "Something something"
     ]
    },
    {
     "cell_type": "code",
     "collapsed": false,
     "input": [
      "q2.abundances.all(data, ['CI', 'OI', 'BaII'], 'Hyades_abundances.csv', 'vestaOct')"
     ],
     "language": "python",
     "metadata": {},
     "outputs": []
    },
    {
     "cell_type": "markdown",
     "metadata": {},
     "source": [
      "That's it!"
     ]
    }
   ],
   "metadata": {}
  }
 ]
}