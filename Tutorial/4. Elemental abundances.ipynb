{
 "metadata": {
  "name": "",
  "signature": "sha256:9f6f04557448a8d6295cb57a1af62e1831a8ba77cda555ff0f665ef2856e8e13"
 },
 "nbformat": 3,
 "nbformat_minor": 0,
 "worksheets": [
  {
   "cells": [
    {
     "cell_type": "markdown",
     "metadata": {},
     "source": [
      "*Under Construction*\n",
      "\n",
      "#q<sup>2</sup> Tutorial - 4. Elemental abundances\n",
      "\n",
      "Our hyades_lines.csv file contains rows with atomic data and EWs for C, O, and Ba lines, in addition to the Fe lines we employed before. We can use those data to measure the C, O, and Ba abundances of the stars in our Hyades list.\n",
      "\n",
      "As usual, let's move to the Demo directory, import q<sup>2</sup>, and upload the data. At this point we should use the atmospheric parameters that we have derived using q<sup>2</sup>; i.e., not the inputs given in our original csv file, but those in the Hyades_solution.csv file we created in Part 3 of this Tutorial."
     ]
    },
    {
     "cell_type": "code",
     "collapsed": false,
     "input": [
      "import os\n",
      "os.chdir('Demo')\n",
      "\n",
      "import q2\n",
      "\n",
      "data = q2.Data('Hyades_solution.csv', '../hyades_lines.csv')"
     ],
     "language": "python",
     "metadata": {},
     "outputs": [],
     "prompt_number": 1
    },
    {
     "cell_type": "markdown",
     "metadata": {},
     "source": [
      "Let's create a star object for hd29310 and load its data. Since we are going to use MOOG to measure the abundances, a model atmosphere is required. We will get one from the marcs grid."
     ]
    },
    {
     "cell_type": "code",
     "collapsed": false,
     "input": [
      "star = q2.Star('hd29310')\n",
      "star.get_data_from(data)\n",
      "star.get_model_atmosphere('marcs')"
     ],
     "language": "python",
     "metadata": {},
     "outputs": [],
     "prompt_number": 2
    },
    {
     "cell_type": "markdown",
     "metadata": {},
     "source": [
      "We should be familiar enough with q<sup>2</sup> at this point to know that this is all that is needed to calculate the abundances. We just need to tell q<sup>2</sup> which species we are interested in measuring. Our linelist contains not only the C, O, and Ba lines, but also the Fe lines. We do this with a species_id list that we pass to q2.abundances.one. The latter is a function that calculates abundances of elements in species_id for a star object. Let's begin with C and Ba."
     ]
    },
    {
     "cell_type": "code",
     "collapsed": false,
     "input": [
      "species_ids = ['CI', 'BaII']\n",
      "q2.abundances.one(star, species_ids)"
     ],
     "language": "python",
     "metadata": {},
     "outputs": [],
     "prompt_number": 3
    },
    {
     "cell_type": "markdown",
     "metadata": {},
     "source": [
      "The q2.abundances.one function adds \"species\" attributes to the star object. For example, star.CI contains the results of the CI abundace calculation. This new attribute is an array, and the line-by-line abundances are in the 'ab' column."
     ]
    },
    {
     "cell_type": "code",
     "collapsed": false,
     "input": [
      "print star.CI['ab']\n",
      "print star.BaII['ab']\n",
      "\n",
      "import numpy as np\n",
      "print \"Average C abundance:\"\n",
      "print \"A(C) = {0:.2f} +/- {1:.2f}\".format(np.mean(star.CI['ab']), np.std(star.CI['ab']))"
     ],
     "language": "python",
     "metadata": {},
     "outputs": [
      {
       "output_type": "stream",
       "stream": "stdout",
       "text": [
        "[ 8.481  8.559  8.485  8.517]\n",
        "[ 4.296  6.043  4.283]\n",
        "Average C abundance:\n",
        "A(C) = 8.51 +/- 0.03\n"
       ]
      }
     ],
     "prompt_number": 4
    },
    {
     "cell_type": "markdown",
     "metadata": {},
     "source": [
      "If we look at the \"lines\" file again, we will notice that the BaII lines consider hyperfine structure. q2 will figure out when HFS is needed and it will be careful enough to create MOOG linelists in the proper format.\n",
      "\n",
      "Now, let's do oxygen."
     ]
    },
    {
     "cell_type": "code",
     "collapsed": false,
     "input": [
      "species_ids = ['OI']\n",
      "q2.abundances.one(star, species_ids)\n",
      "print star.OI['ab']"
     ],
     "language": "python",
     "metadata": {},
     "outputs": [
      {
       "output_type": "stream",
       "stream": "stdout",
       "text": [
        "[8.813 8.813 8.774]\n"
       ]
      }
     ],
     "prompt_number": 5
    },
    {
     "cell_type": "markdown",
     "metadata": {},
     "source": [
      "Oxygen is a special case in q2. By default it is NLTE corrected using the grid by Ramirez et al. (2007). For reference, details of this correction are printed on screen. \n",
      "\n",
      "Calculating differential abundances is also easy. All we need to do is pass a Ref(erence) object to q2.abundances.one. We will use the vestaOct data as reference, creating a ref object and loading its data onto it, in addition to creating a model atmosphere of the same grid (marcs), for consistency. Note that we are now calculating abundances for all three species."
     ]
    },
    {
     "cell_type": "code",
     "collapsed": false,
     "input": [
      "star.linelist"
     ],
     "language": "python",
     "metadata": {},
     "outputs": [
      {
       "metadata": {},
       "output_type": "pyout",
       "prompt_number": 6,
       "text": [
        "{'ep': array([ 2.28 ,  3.64 ,  4.14 ,  3.64 ,  3.63 ,  4.18 ,  2.85 ,  3.64 ,\n",
        "         0.91 ,  4.3  ,  2.22 ,  3.64 ,  3.64 ,  3.63 ,  4.26 ,  3.69 ,\n",
        "         4.14 ,  4.42 ,  4.21 ,  4.22 ,  4.37 ,  4.43 ,  4.21 ,  4.39 ,\n",
        "         4.26 ,  4.22 ,  5.09 ,  4.28 ,  4.65 ,  4.55 ,  2.56 ,  4.3  ,\n",
        "         4.26 ,  4.55 ,  4.22 ,  2.59 ,  4.22 ,  4.61 ,  3.88 ,  4.29 ,\n",
        "         4.55 ,  4.61 ,  4.29 ,  4.55 ,  4.55 ,  4.65 ,  4.55 ,  0.86 ,\n",
        "         4.08 ,  4.73 ,  4.8  ,  4.65 ,  2.76 ,  4.61 ,  3.98 ,  2.18 ,\n",
        "         4.14 ,  2.22 ,  3.94 ,  2.61 ,  2.2  ,  2.4  ,  2.18 ,  2.2  ,\n",
        "         2.43 ,  4.19 ,  2.43 ,  2.28 ,  2.18 ,  0.96 ,  2.43 ,  4.8  ,\n",
        "         2.76 ,  4.61 ,  4.8  ,  2.42 ,  4.64 ,  4.61 ,  4.64 ,  4.61 ,\n",
        "         4.55 ,  4.56 ,  4.61 ,  2.81 ,  3.22 ,  3.2  ,  3.27 ,  3.2  ,\n",
        "         3.89 ,  3.89 ,  2.89 ,  2.89 ,  7.685,  7.685,  8.537,  8.64 ,\n",
        "         9.146,  9.146,  9.146,  0.604,  0.704,  0.604]),\n",
        " 'ew': array([71.7, 35.3, 71.6, 64.9, 24.1, 59.1, 78.4, 43.1, 92.6, 41.2, 106.0,\n",
        "        53.1, 26.1, 89.9, 64.3, 60.7, 34.4, 29.7, 48.4, 66.5, 52.1, 56.0,\n",
        "        53.7, 34.9, 36.3, 82.5, 50.8, 24.2, 65.9, 16.9, 86.1, 39.0, 39.7,\n",
        "        59.2, 61.9, 22.1, 36.0, 58.8, 56.0, 10.6, 45.6, 28.0, 36.9, 81.0,\n",
        "        97.2, 64.7, 44.7, 48.3, 70.7, 77.8, 86.3, 49.1, 44.6, 34.2, 40.0,\n",
        "        50.3, 51.6, 69.7, 49.0, 78.5, 97.4, 129.2, 94.0, 102.8, 58.2, 55.0,\n",
        "        137.4, 128.7, 122.3, 47.4, 89.2, 48.1, 40.2, 50.7, 23.3, 78.6, 40.9,\n",
        "        54.9, 61.9, 73.2, 60.0, 71.0, 58.8, 33.4, 37.0, 51.3, 19.0, 28.7,\n",
        "        50.3, 58.7, 25.6, 58.7, 49.5, 34.8, 24.5, 20.5, 102.7, 91.6, 71.1,\n",
        "        77.9, 145.8, 148.1], dtype=object),\n",
        " 'gf': array([ -2.52000000e+00,  -2.13000000e+00,  -1.10000000e+00,\n",
        "         -1.51000000e+00,  -2.19000000e+00,  -1.18000000e+00,\n",
        "         -2.06000000e+00,  -1.98000000e+00,  -3.33000000e+00,\n",
        "         -1.54000000e+00,  -2.14000000e+00,  -1.72000000e+00,\n",
        "         -1.78000000e+00,  -9.70000000e-01,  -9.90000000e-01,\n",
        "         -1.51000000e+00,  -1.77000000e+00,  -1.59000000e+00,\n",
        "         -1.45000000e+00,  -1.04000000e+00,  -1.21000000e+00,\n",
        "         -1.09000000e+00,  -1.27000000e+00,  -1.60000000e+00,\n",
        "         -1.79000000e+00,  -7.70000000e-01,  -8.60000000e-01,\n",
        "         -1.76000000e+00,  -8.20000000e-01,  -1.72000000e+00,\n",
        "         -2.16000000e+00,  -1.35000000e+00,  -1.67000000e+00,\n",
        "         -1.18000000e+00,  -1.30000000e+00,  -3.43000000e+00,\n",
        "         -1.62000000e+00,  -9.50000000e-01,  -1.71000000e+00,\n",
        "         -2.24000000e+00,  -1.23000000e+00,  -1.48000000e+00,\n",
        "         -1.46000000e+00,  -4.20000000e-01,  -1.30000000e-01,\n",
        "         -6.90000000e-01,  -1.31000000e+00,  -4.55000000e+00,\n",
        "         -1.09000000e+00,  -4.60000000e-01,  -3.20000000e-01,\n",
        "         -1.02000000e+00,  -3.05000000e+00,  -1.30000000e+00,\n",
        "         -1.81000000e+00,  -3.31000000e+00,  -1.47000000e+00,\n",
        "         -2.88000000e+00,  -1.62000000e+00,  -2.42000000e+00,\n",
        "         -2.43000000e+00,  -1.69000000e+00,  -2.55000000e+00,\n",
        "         -2.26000000e+00,  -2.92000000e+00,  -1.32000000e+00,\n",
        "         -1.60000000e+00,  -2.02000000e+00,  -2.01000000e+00,\n",
        "         -4.70000000e+00,  -2.39000000e+00,  -9.70000000e-01,\n",
        "         -3.02000000e+00,  -9.80000000e-01,  -1.40000000e+00,\n",
        "         -2.62000000e+00,  -1.22000000e+00,  -9.90000000e-01,\n",
        "         -8.20000000e-01,  -7.10000000e-01,  -8.30000000e-01,\n",
        "         -7.40000000e-01,  -9.40000000e-01,  -4.17000000e+00,\n",
        "         -3.58000000e+00,  -3.22000000e+00,  -3.94000000e+00,\n",
        "         -3.83000000e+00,  -2.75000000e+00,  -2.63000000e+00,\n",
        "         -4.11000000e+00,  -3.57000000e+00,  -1.30400000e+00,\n",
        "         -1.61500000e+00,  -1.02100000e+00,  -1.07400000e+00,\n",
        "          3.52000000e-01,   2.23000000e-01,   2.00000000e-03,\n",
        "         -2.91500000e+00,  -3.64100000e+00,  -2.00000000e+00]),\n",
        " 'species': array([ 26. ,  26. ,  26. ,  26. ,  26. ,  26. ,  26. ,  26. ,  26. ,\n",
        "         26. ,  26. ,  26. ,  26. ,  26. ,  26. ,  26. ,  26. ,  26. ,\n",
        "         26. ,  26. ,  26. ,  26. ,  26. ,  26. ,  26. ,  26. ,  26. ,\n",
        "         26. ,  26. ,  26. ,  26. ,  26. ,  26. ,  26. ,  26. ,  26. ,\n",
        "         26. ,  26. ,  26. ,  26. ,  26. ,  26. ,  26. ,  26. ,  26. ,\n",
        "         26. ,  26. ,  26. ,  26. ,  26. ,  26. ,  26. ,  26. ,  26. ,\n",
        "         26. ,  26. ,  26. ,  26. ,  26. ,  26. ,  26. ,  26. ,  26. ,\n",
        "         26. ,  26. ,  26. ,  26. ,  26. ,  26. ,  26. ,  26. ,  26. ,\n",
        "         26. ,  26. ,  26. ,  26. ,  26. ,  26. ,  26. ,  26. ,  26. ,\n",
        "         26. ,  26. ,  26.1,  26.1,  26.1,  26.1,  26.1,  26.1,  26.1,\n",
        "         26.1,  26.1,   6. ,   6. ,   6. ,   6. ,   8. ,   8. ,   8. ,\n",
        "         56.1,  56.1,  56.1]),\n",
        " 'wavelength': array([ 4630.12  ,  4799.41  ,  4800.64  ,  4802.88  ,  4961.91  ,\n",
        "         4962.57  ,  5044.21  ,  5054.64  ,  5127.36  ,  5197.94  ,\n",
        "         5198.71  ,  5217.92  ,  5223.18  ,  5242.49  ,  5243.77  ,\n",
        "         5288.52  ,  5293.96  ,  5295.31  ,  5522.45  ,  5543.94  ,\n",
        "         5546.51  ,  5560.21  ,  5618.63  ,  5619.6   ,  5635.82  ,\n",
        "         5638.26  ,  5650.71  ,  5661.35  ,  5679.02  ,  5696.09  ,\n",
        "         5701.54  ,  5705.46  ,  5741.85  ,  5752.03  ,  5775.08  ,\n",
        "         5778.45  ,  5793.91  ,  5806.73  ,  5809.22  ,  5837.7   ,\n",
        "         5852.22  ,  5855.08  ,  5856.09  ,  5859.59  ,  5862.36  ,\n",
        "         5905.67  ,  5929.68  ,  5956.69  ,  6027.05  ,  6056.01  ,\n",
        "         6078.49  ,  6079.01  ,  6085.26  ,  6093.64  ,  6096.67  ,\n",
        "         6151.62  ,  6165.36  ,  6173.33  ,  6187.99  ,  6200.31  ,\n",
        "         6219.28  ,  6252.56  ,  6265.13  ,  6335.33  ,  6344.15  ,\n",
        "         6380.74  ,  6393.6   ,  6421.35  ,  6430.85  ,  6498.94  ,\n",
        "         6593.87  ,  6597.56  ,  6703.57  ,  6705.1   ,  6713.75  ,\n",
        "         6750.15  ,  6752.71  ,  6810.26  ,  6828.59  ,  6841.34  ,\n",
        "         6843.66  ,  6855.16  ,  6858.15  ,  5132.66  ,  5414.07  ,\n",
        "         5425.26  ,  5525.12  ,  6084.09  ,  6149.24  ,  6238.38  ,\n",
        "         6369.46  ,  6432.68  ,  5052.167 ,  5380.3369,  6587.6099,\n",
        "         7111.469 ,  7771.9438,  7774.1611,  7775.3901,  5853.696 ,\n",
        "         6141.695 ,  6496.9   ])}"
       ]
      }
     ],
     "prompt_number": 6
    },
    {
     "cell_type": "code",
     "collapsed": false,
     "input": [
      "ref = q2.Star('vestaOct')\n",
      "ref.get_data_from(data)\n",
      "ref.get_model_atmosphere('marcs')\n",
      "\n",
      "species_ids = ['CaI', 'OI', 'BaII']\n",
      "q2.abundances.one(star, species_ids, Ref=ref)"
     ],
     "language": "python",
     "metadata": {},
     "outputs": [],
     "prompt_number": 7
    },
    {
     "cell_type": "markdown",
     "metadata": {},
     "source": [
      "Something else"
     ]
    },
    {
     "cell_type": "code",
     "collapsed": false,
     "input": [
      "print np.mean(ref.OI['ab'])\n",
      "print np.mean(star.OI['ab'])"
     ],
     "language": "python",
     "metadata": {},
     "outputs": [
      {
       "output_type": "stream",
       "stream": "stdout",
       "text": [
        "8.67366666667\n",
        "8.8\n"
       ]
      }
     ],
     "prompt_number": 8
    },
    {
     "cell_type": "code",
     "collapsed": false,
     "input": [
      "print(star.OI)\n",
      "print(star.OI['ab'])\n",
      "print(star.OI['difab'])\n",
      "print(np.mean(star.OI['difab']))\n",
      "print(np.std(star.OI['difab']))\n",
      "\n",
      "print(star.BaII)\n",
      "print(star.BaII['ab'])\n",
      "print(star.BaII['difab'])\n",
      "print(np.mean(star.BaII['difab']))\n",
      "print(np.std(star.BaII['difab']))"
     ],
     "language": "python",
     "metadata": {},
     "outputs": [
      {
       "output_type": "stream",
       "stream": "stdout",
       "text": [
        "{'ab': masked_array(data = [8.813 8.813 8.774],\n",
        "             mask = [False False False],\n",
        "       fill_value = 1e+20)\n",
        ", 'difab': [0.14000000000000057, 0.14800000000000146, 0.090999999999999304], 'rew': array([-4.879, -4.929, -5.039]), 'ww': array([ 7771.944,  7774.161,  7775.39 ]), 'ew': array([ 102.7,   91.6,   71.1]), 'ep': array([ 9.146,  9.146,  9.146])}\n",
        "[8.813 8.813 8.774]\n",
        "[0.14000000000000057, 0.14800000000000146, 0.090999999999999304]\n",
        "0.126333333333\n",
        "0.0251970015853\n",
        "{'ab': array([ 4.296,  6.043,  4.283]), 'difab': [0.15399999999999991, 0.26700000000000035, 0.49200000000000044], 'rew': array([-4.876, -4.625, -4.642]), 'ww': array([ 5853.696,  6141.695,  6496.9  ]), 'ew': array([  77.9,  145.8,  148.1]), 'ep': array([ 0.604,  0.704,  0.604])}\n",
        "[ 4.296  6.043  4.283]\n",
        "[0.15399999999999991, 0.26700000000000035, 0.49200000000000044]\n",
        "0.304333333333\n",
        "0.140490410903\n"
       ]
      }
     ],
     "prompt_number": 9
    },
    {
     "cell_type": "markdown",
     "metadata": {},
     "source": [
      "Something something"
     ]
    },
    {
     "cell_type": "code",
     "collapsed": false,
     "input": [
      "q2.abundances.all(data, ['CI', 'OI', 'BaII'], 'Hyades_abundances.csv', 'vestaOct')"
     ],
     "language": "python",
     "metadata": {},
     "outputs": [
      {
       "output_type": "stream",
       "stream": "stdout",
       "text": [
        "------------------------------------------------------\n",
        "Initializing ...\n",
        "- Date and time: 2014-11-18 05:20:05.013734\n",
        "- Model atmospheres: odfnew\n",
        "- Star data: Hyades_solution.csv\n",
        "- Line list: ../hyades_lines.csv\n",
        "- Reference star: vestaOct\n",
        "------------------------------------------------------\n"
       ]
      },
      {
       "output_type": "stream",
       "stream": "stdout",
       "text": [
        "\n",
        "*******\n",
        "hd28099\n",
        "*******\n",
        "\n",
        "CI\n",
        "--"
       ]
      },
      {
       "output_type": "stream",
       "stream": "stdout",
       "text": [
        "\n",
        "ABS =  8.500 +/-  0.006\n",
        "DIF =  0.140 +/-  0.049\n",
        "\n",
        "Wavelength   ABS    RES    DIF    RES \n",
        "----------  ----- ------  -----  -----\n",
        " 5052.1670  8.491 -0.009  0.112 -0.028\n",
        " 5380.3370  8.499 -0.001  0.076 -0.064\n",
        " 6587.6100  8.509  0.009  0.175  0.035\n",
        " 7111.4690  8.500  0.000  0.198  0.058\n",
        "\n",
        "OI\n",
        "--\n",
        "ABS =  8.847 +/-  0.018\n",
        "DIF =  0.164 +/-  0.025\n",
        "\n",
        "Wavelength   ABS    RES    DIF    RES \n",
        "----------  ----- ------  -----  -----\n",
        " 7771.9440  8.862  0.015  0.179  0.015\n",
        " 7774.1610  8.858  0.011  0.183  0.019\n",
        " 7775.3900  8.822 -0.025  0.129 -0.035\n",
        "\n",
        "BaII\n",
        "----\n",
        "ABS =  4.870 +/-  0.844\n",
        "DIF =  0.277 +/-  0.053\n",
        "\n",
        "Wavelength   ABS    RES    DIF    RES \n",
        "----------  ----- ------  -----  -----\n",
        " 5853.6960  4.387 -0.483  0.227 -0.050\n",
        " 6141.6950  6.057  1.187  0.253 -0.024\n",
        " 6496.9000  4.166 -0.704  0.351  0.074\n",
        "\n",
        "*******\n",
        "hd29310\n",
        "*******\n",
        "\n",
        "CI\n",
        "--"
       ]
      },
      {
       "output_type": "stream",
       "stream": "stdout",
       "text": [
        "\n",
        "ABS =  8.527 +/-  0.032\n",
        "DIF =  0.168 +/-  0.040\n",
        "\n",
        "Wavelength   ABS    RES    DIF    RES \n",
        "----------  ----- ------  -----  -----\n",
        " 5052.1670  8.500 -0.027  0.121 -0.047\n",
        " 5380.3370  8.577  0.050  0.154 -0.014\n",
        " 6587.6100  8.500 -0.027  0.166 -0.002\n",
        " 7111.4690  8.532  0.005  0.230  0.062\n",
        "\n",
        "OI\n",
        "--\n",
        "ABS =  8.813 +/-  0.019\n",
        "DIF =  0.129 +/-  0.026\n",
        "\n",
        "Wavelength   ABS    RES    DIF    RES \n",
        "----------  ----- ------  -----  -----\n",
        " 7771.9440  8.826  0.013  0.143  0.014\n",
        " 7774.1610  8.826  0.013  0.151  0.022\n",
        " 7775.3900  8.786 -0.027  0.093 -0.036\n",
        "\n",
        "BaII\n",
        "----\n",
        "ABS =  4.904 +/-  0.830\n",
        "DIF =  0.311 +/-  0.147\n",
        "\n",
        "Wavelength   ABS    RES    DIF    RES \n",
        "----------  ----- ------  -----  -----\n",
        " 5853.6960  4.312 -0.592  0.152 -0.159\n",
        " 6141.6950  6.078  1.174  0.274 -0.037\n",
        " 6496.9000  4.322 -0.582  0.507  0.196\n",
        "\n",
        "********\n",
        "vestaOct\n",
        "********\n",
        "\n",
        "CI\n",
        "--"
       ]
      },
      {
       "output_type": "stream",
       "stream": "stdout",
       "text": [
        "\n",
        "ABS =  8.360 +/-  0.046\n",
        "DIF =  0.000 +/-  0.000\n",
        "\n",
        "Wavelength   ABS    RES    DIF    RES \n",
        "----------  ----- ------  -----  -----\n",
        " 5052.1670  8.379  0.019  0.000  0.000\n",
        " 5380.3370  8.423  0.063  0.000  0.000\n",
        " 6587.6100  8.334 -0.026  0.000  0.000\n",
        " 7111.4690  8.302 -0.058  0.000  0.000\n",
        "\n",
        "OI\n",
        "--\n",
        "ABS =  8.684 +/-  0.007\n",
        "DIF =  0.000 +/-  0.000\n",
        "\n",
        "Wavelength   ABS    RES    DIF    RES \n",
        "----------  ----- ------  -----  -----\n",
        " 7771.9440  8.683 -0.001  0.000  0.000\n",
        " 7774.1610  8.675 -0.009  0.000  0.000\n",
        " 7775.3900  8.693  0.009  0.000  0.000\n",
        "\n",
        "BaII\n",
        "----\n",
        "ABS =  4.593 +/-  0.868\n",
        "DIF =  0.000 +/-  0.000\n",
        "\n",
        "Wavelength   ABS    RES    DIF    RES \n",
        "----------  ----- ------  -----  -----\n",
        " 5853.6960  4.160 -0.433  0.000  0.000\n",
        " 6141.6950  5.804  1.211  0.000  0.000\n",
        " 6496.9000  3.815 -0.778  0.000  0.000\n",
        "\n",
        "------------------------------------------------------\n",
        "- Date and time: 2014-11-18 05:20:12.258980\n",
        "- Time elapsed: 0:00:07.245246\n",
        "Done!\n",
        "------------------------------------------------------\n",
        "\n"
       ]
      }
     ],
     "prompt_number": 10
    },
    {
     "cell_type": "markdown",
     "metadata": {},
     "source": [
      "That's it!"
     ]
    }
   ],
   "metadata": {}
  }
 ]
}