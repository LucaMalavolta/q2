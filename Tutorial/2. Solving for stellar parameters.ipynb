{
 "metadata": {
  "name": ""
 },
 "nbformat": 3,
 "nbformat_minor": 0,
 "worksheets": [
  {
   "cells": [
    {
     "cell_type": "heading",
     "level": 2,
     "metadata": {},
     "source": [
      "q2 Tutorial - 2. Solving for stellar parameters"
     ]
    },
    {
     "cell_type": "markdown",
     "metadata": {},
     "source": [
      "MOOG is frequently used to derive atmospheric parameters of stars. It doesn't actually do it by itself, but it allows us to do the basic calculations required to achieve that goal. q2 helps us talk to MOOG and perform this task easily.\n",
      "\n",
      "First, lets go to the Demo directory, import q2, and load our data (this is the same data set used in the Introduction). We are also defining an arcturus Star object and assigning it the input data."
     ]
    },
    {
     "cell_type": "code",
     "collapsed": false,
     "input": [
      "import os\n",
      "os.chdir('Demo')\n",
      "\n",
      "import q2\n",
      "\n",
      "data = q2.Data('../standards_stars.csv', '../standards_lines.csv')\n",
      "arcturus = q2.Star('Arcturus')\n",
      "arcturus.get_data_from(data)"
     ],
     "language": "python",
     "metadata": {},
     "outputs": [],
     "prompt_number": 1
    },
    {
     "cell_type": "markdown",
     "metadata": {},
     "source": [
      "Before, we used the q2.specpars module to calculate iron_stats for a fixed set of parameters. Now we can use it to solve for better parameters (\"better\" here means consistent with 1D-LTE excitation/ionization equilibrium).\n",
      "\n",
      "First, we need to define some parameters for the solution procedure. As usual, starting from the input Teff, logg, and vt, q2 will try to find those values that minimize the slopes of iron abundance versus line EP and REW. This is an iterative procedure. We can set the initial steps for the changes in those parameters using the SolvePars object. Also, it is a good idea to set a maximum number of iterations (niter) in case q2 is not able to converge quickly. At this point we can also set what model atmosphere grid we want to use. In this example we are using MARCS models again.\n",
      "\n",
      "Note that we are using also the PlotPars object to make our output figure look nice.\n",
      "\n",
      "The q2.specpars.solve_one function does all the magic. This will take a little while."
     ]
    },
    {
     "cell_type": "code",
     "collapsed": false,
     "input": [
      "sp = q2.specpars.SolvePars()\n",
      "sp.step_teff = 8\n",
      "sp.step_logg = 0.08\n",
      "sp.step_vt = 0.08\n",
      "sp.niter = 30\n",
      "sp.grid = 'marcs'\n",
      "\n",
      "pp = q2.specpars.PlotPars()\n",
      "pp.afe = [-1000, 0.25]\n",
      "\n",
      "q2.specpars.solve_one(arcturus, sp, PlotPars=pp)"
     ],
     "language": "python",
     "metadata": {},
     "outputs": [
      {
       "output_type": "stream",
       "stream": "stdout",
       "text": [
        "it Teff logg [Fe/H]  vt\n",
        "-- ---- ---- ------ ----\n",
        " 0 4286 1.66 -0.520 1.74 --->  6.874"
       ]
      },
      {
       "output_type": "stream",
       "stream": "stdout",
       "text": [
        "\n",
        " 1 4294 1.58 -0.576 1.66 --->  6.863"
       ]
      },
      {
       "output_type": "stream",
       "stream": "stdout",
       "text": [
        "\n",
        " 2 4302 1.50 -0.587 1.58 --->  6.854"
       ]
      },
      {
       "output_type": "stream",
       "stream": "stdout",
       "text": [
        "\n",
        " 3 4294 1.58 -0.596 1.66 --->  6.860"
       ]
      },
      {
       "output_type": "stream",
       "stream": "stdout",
       "text": [
        "\n",
        " 4 4302 1.50 -0.590 1.58 --->  6.854"
       ]
      },
      {
       "output_type": "stream",
       "stream": "stdout",
       "text": [
        "\n",
        "-- Converged at iteration 4 of 30\n",
        " 5 4298 1.54 -0.596 1.62 --->  6.857"
       ]
      },
      {
       "output_type": "stream",
       "stream": "stdout",
       "text": [
        "\n",
        " 6 4302 1.58 -0.593 1.66 --->  6.859"
       ]
      },
      {
       "output_type": "stream",
       "stream": "stdout",
       "text": [
        "\n",
        " 7 4306 1.54 -0.591 1.62 --->  6.856"
       ]
      },
      {
       "output_type": "stream",
       "stream": "stdout",
       "text": [
        "\n",
        " 8 4302 1.58 -0.594 1.66 --->  6.859"
       ]
      },
      {
       "output_type": "stream",
       "stream": "stdout",
       "text": [
        "\n",
        "-- Converged at iteration 8 of 30\n",
        " 9 4304 1.56 -0.591 1.64 --->  6.857"
       ]
      },
      {
       "output_type": "stream",
       "stream": "stdout",
       "text": [
        "\n",
        "10 4306 1.58 -0.593 1.66 --->  6.858"
       ]
      },
      {
       "output_type": "stream",
       "stream": "stdout",
       "text": [
        "\n",
        "11 4308 1.56 -0.592 1.64 --->  6.857"
       ]
      },
      {
       "output_type": "stream",
       "stream": "stdout",
       "text": [
        "\n",
        "12 4310 1.58 -0.593 1.66 --->  6.857"
       ]
      },
      {
       "output_type": "stream",
       "stream": "stdout",
       "text": [
        "\n",
        "13 4312 1.56 -0.593 1.64 --->  6.856"
       ]
      },
      {
       "output_type": "stream",
       "stream": "stdout",
       "text": [
        "\n",
        "14 4314 1.58 -0.594 1.66 --->  6.856"
       ]
      },
      {
       "output_type": "stream",
       "stream": "stdout",
       "text": [
        "\n",
        "15 4316 1.60 -0.594 1.68 --->  6.856"
       ]
      },
      {
       "output_type": "stream",
       "stream": "stdout",
       "text": [
        "\n",
        "16 4318 1.58 -0.594 1.66 --->  6.855"
       ]
      },
      {
       "output_type": "stream",
       "stream": "stdout",
       "text": [
        "\n",
        "17 4320 1.60 -0.595 1.68 --->  6.856"
       ]
      },
      {
       "output_type": "stream",
       "stream": "stdout",
       "text": [
        "\n",
        "18 4322 1.62 -0.594 1.66 --->  6.870"
       ]
      },
      {
       "output_type": "stream",
       "stream": "stdout",
       "text": [
        "\n",
        "19 4324 1.60 -0.580 1.68 --->  6.856"
       ]
      },
      {
       "output_type": "stream",
       "stream": "stdout",
       "text": [
        "\n",
        "20 4326 1.62 -0.594 1.66 --->  6.869"
       ]
      },
      {
       "output_type": "stream",
       "stream": "stdout",
       "text": [
        "\n",
        "21 4324 1.64 -0.581 1.68 --->  6.871"
       ]
      },
      {
       "output_type": "stream",
       "stream": "stdout",
       "text": [
        "\n",
        "22 4326 1.62 -0.579 1.66 --->  6.871"
       ]
      },
      {
       "output_type": "stream",
       "stream": "stdout",
       "text": [
        "\n",
        "-- Converged at iteration 22 of 30\n",
        "-- Begin final loop\n",
        "23 4325 1.61 -0.579 1.67 --->  6.864"
       ]
      },
      {
       "output_type": "stream",
       "stream": "stdout",
       "text": [
        "\n",
        "24 4326 1.62 -0.586 1.66 --->  6.870"
       ]
      },
      {
       "output_type": "stream",
       "stream": "stdout",
       "text": [
        "\n",
        "25 4325 1.63 -0.580 1.67 --->  6.871"
       ]
      },
      {
       "output_type": "stream",
       "stream": "stdout",
       "text": [
        "\n",
        "26 4326 1.62 -0.579 1.68 --->  6.864"
       ]
      },
      {
       "output_type": "stream",
       "stream": "stdout",
       "text": [
        "\n",
        "-- Converged at iteration 26 of 30\n",
        "------------------------------------------------------"
       ]
      },
      {
       "output_type": "stream",
       "stream": "stdout",
       "text": [
        "\n",
        "    A(Fe)     ||      A(Fe I)      |     A(Fe II)   \n",
        " 6.864  0.053 ||  6.863  0.051  37 |  6.865  0.060   9\n",
        "------------------------------------------------------\n"
       ]
      }
     ],
     "prompt_number": 2
    },
    {
     "cell_type": "markdown",
     "metadata": {},
     "source": [
      "In each iteration, the parameters have changed in order to approach spectroscopic equilibrium. After the parameters converge within the initial steps, they are divided by 2 and a new iteration block begins. This is done repeatedly until the steps are 1 K, 0.01 dex, and 0.01 dex (final loop).\n",
      "\n",
      "We have found the Teff/logg/vt combination that makes Arcturus' iron abundances independent of EP and REW, and also the FeI and FeII abundances match. We haven't touched a single MOOG outfile nor done any of the statistics needed to get to this solution. A hardcopy of this figure is created as well, with the id of the star object as the file name.\n",
      "\n",
      "Note that the y-axis here is A(Fe), i.e., the absolute iron abundance. We can repeat this calculation, but using the solar EW values to calculate differential abundances and parameters of Arcturus.\n",
      "\n",
      "Before we do that, we are going to reduce the initial steps for the solution. Why? Because the parameters of Arcturus may be closer to the \"real\" ones, so we can probably get to the solution quicker if the initial steps are small (this is not necessarily always the case, but it's a good guess).\n",
      "\n",
      "As before, to calculate differential abundances we pass a Ref object, sun, to q2.specpars.solve_one. This object should have the data assigned to it before performing these calculations."
     ]
    },
    {
     "cell_type": "code",
     "collapsed": false,
     "input": [
      "sp.step_teff = 4\n",
      "sp.step_logg = 0.04\n",
      "sp.step_vt = 0.04\n",
      "\n",
      "sun = q2.Star('Sun')\n",
      "sun.get_data_from(data)\n",
      "\n",
      "q2.specpars.solve_one(arcturus, sp, Ref=sun, PlotPars=pp)"
     ],
     "language": "python",
     "metadata": {},
     "outputs": [
      {
       "output_type": "stream",
       "stream": "stdout",
       "text": [
        "it Teff logg [Fe/H]  vt\n",
        "-- ---- ---- ------ ----\n",
        " 0 4326 1.62 -0.579 1.68 ---> -0.556"
       ]
      },
      {
       "output_type": "stream",
       "stream": "stdout",
       "text": [
        "\n",
        " 1 4330 1.58 -0.556 1.64 ---> -0.554"
       ]
      },
      {
       "output_type": "stream",
       "stream": "stdout",
       "text": [
        "\n",
        " 2 4334 1.54 -0.554 1.68 ---> -0.585"
       ]
      },
      {
       "output_type": "stream",
       "stream": "stdout",
       "text": [
        "\n",
        " 3 4338 1.58 -0.585 1.64 ---> -0.559"
       ]
      },
      {
       "output_type": "stream",
       "stream": "stdout",
       "text": [
        "\n",
        " 4 4342 1.62 -0.559 1.68 ---> -0.556"
       ]
      },
      {
       "output_type": "stream",
       "stream": "stdout",
       "text": [
        "\n",
        " 5 4346 1.58 -0.556 1.72 ---> -0.585"
       ]
      },
      {
       "output_type": "stream",
       "stream": "stdout",
       "text": [
        "\n",
        " 6 4350 1.62 -0.585 1.68 ---> -0.561"
       ]
      },
      {
       "output_type": "stream",
       "stream": "stdout",
       "text": [
        "\n",
        " 7 4354 1.66 -0.561 1.72 ---> -0.559"
       ]
      },
      {
       "output_type": "stream",
       "stream": "stdout",
       "text": [
        "\n",
        " 8 4358 1.62 -0.559 1.68 ---> -0.559"
       ]
      },
      {
       "output_type": "stream",
       "stream": "stdout",
       "text": [
        "\n",
        " 9 4362 1.66 -0.559 1.72 ---> -0.560"
       ]
      },
      {
       "output_type": "stream",
       "stream": "stdout",
       "text": [
        "\n",
        "10 4366 1.70 -0.560 1.68 ---> -0.535"
       ]
      },
      {
       "output_type": "stream",
       "stream": "stdout",
       "text": [
        "\n",
        "11 4362 1.66 -0.535 1.72 ---> -0.557"
       ]
      },
      {
       "output_type": "stream",
       "stream": "stdout",
       "text": [
        "\n",
        "12 4366 1.70 -0.557 1.68 ---> -0.535"
       ]
      },
      {
       "output_type": "stream",
       "stream": "stdout",
       "text": [
        "\n",
        "-- Converged at iteration 12 of 30\n",
        "13 4364 1.68 -0.535 1.70 ---> -0.544"
       ]
      },
      {
       "output_type": "stream",
       "stream": "stdout",
       "text": [
        "\n",
        "14 4366 1.66 -0.544 1.68 ---> -0.545"
       ]
      },
      {
       "output_type": "stream",
       "stream": "stdout",
       "text": [
        "\n",
        "15 4364 1.68 -0.545 1.70 ---> -0.546"
       ]
      },
      {
       "output_type": "stream",
       "stream": "stdout",
       "text": [
        "\n",
        "-- Converged at iteration 15 of 30\n",
        "-- Begin final loop\n",
        "16 4365 1.67 -0.546 1.69 ---> -0.545"
       ]
      },
      {
       "output_type": "stream",
       "stream": "stdout",
       "text": [
        "\n",
        "17 4366 1.68 -0.545 1.70 ---> -0.546"
       ]
      },
      {
       "output_type": "stream",
       "stream": "stdout",
       "text": [
        "\n",
        "18 4367 1.69 -0.546 1.69 ---> -0.539"
       ]
      },
      {
       "output_type": "stream",
       "stream": "stdout",
       "text": [
        "\n",
        "19 4366 1.68 -0.539 1.70 ---> -0.545"
       ]
      },
      {
       "output_type": "stream",
       "stream": "stdout",
       "text": [
        "\n",
        "20 4367 1.67 -0.545 1.69 ---> -0.546"
       ]
      },
      {
       "output_type": "stream",
       "stream": "stdout",
       "text": [
        "\n",
        "-- Converged at iteration 20 of 30\n",
        "------------------------------------------------------"
       ]
      },
      {
       "output_type": "stream",
       "stream": "stdout",
       "text": [
        "\n",
        "   D[Fe/H]    ||    D[Fe/H] Fe I   |   D[Fe/H] Fe II\n",
        "-0.546  0.023 || -0.544  0.023  37 | -0.551  0.023   9\n",
        "------------------------------------------------------\n"
       ]
      }
     ],
     "prompt_number": 3
    },
    {
     "cell_type": "markdown",
     "metadata": {},
     "source": [
      "How cool is that? Note that the iron_stats attribute of the star object is updated in every iteration, and that the last one contains our 'final' solution (if it converged). The same is true for the stellar parameters:"
     ]
    },
    {
     "cell_type": "code",
     "collapsed": false,
     "input": [
      "print(arcturus.iron_stats)\n",
      "print('')\n",
      "print(\"Teff = {0:4.0f} K, logg = {1:4.2f}, [Fe/H]= {2:5.2f}, vt = {3:4.2f} km/s\".\n",
      "      format(arcturus.teff, arcturus.logg, arcturus.feh, arcturus.vt))"
     ],
     "language": "python",
     "metadata": {},
     "outputs": [
      {
       "output_type": "stream",
       "stream": "stdout",
       "text": [
        "{'err_slope_rew': 0.025958584470491861, 'reference': 'Sun', 'slope_ep': 0.0001567611964759634, 'afe2': -0.55055555555555558, 'afe1': -0.54443243243243233, 'err_afe2': 0.022847859666892765, 'nfe2': 9, 'nfe1': 37, 'err_afe1': 0.023155806627491018, 'afe': -0.54563043478260864, 'slope_rew': 0.0056552893984108026, 'err_slope_ep': 0.005657370635429454, 'err_afe': 0.023223262976791694}\n",
        "\n",
        "Teff = 4367 K, logg = 1.67, [Fe/H]= -0.55, vt = 1.69 km/s\n"
       ]
      }
     ],
     "prompt_number": 4
    },
    {
     "cell_type": "markdown",
     "metadata": {},
     "source": [
      "A hardcopy of the figure above is created, as usual. The file name follows the convention: \"Star_id-Ref_id\".\n",
      "\n",
      "What about errors?\n",
      "\n",
      "To calculate formal errors, we use the q2.errors.error_one function. When it is done calculating the errors, q2 adds a sp_err attribute, containing those errors, to the star object:"
     ]
    },
    {
     "cell_type": "code",
     "collapsed": false,
     "input": [
      "q2.errors.error_one(arcturus, sp, Ref=sun)\n",
      "print(\"err_Teff = {0:2.0f} K, err_logg = {1:4.2f}, err_[Fe/H] = {2:4.2f}, err_vt = {3:4.2f}\".\n",
      "      format(arcturus.sp_err['teff'], arcturus.sp_err['logg'], arcturus.sp_err['afe'], arcturus.sp_err['vt']))"
     ],
     "language": "python",
     "metadata": {},
     "outputs": [
      {
       "output_type": "stream",
       "stream": "stdout",
       "text": [
        "err_Teff = 42 K, err_logg = 0.14, err_[Fe/H] = 0.05, err_vt = 0.05\n"
       ]
      }
     ],
     "prompt_number": 5
    },
    {
     "cell_type": "markdown",
     "metadata": {},
     "source": [
      "These values correspond to the precision of this technique at minimizing Fe abundance trends and FeI vs FeII iron abundance differences. We have to be careful and not report these errors as the true uncertainties in the star's parameters or iron abundance. Those are dominated by systematic uncertainties.\n",
      "\n",
      "q2's solutions are not necessarily unique. The final Teff, logg, etc. parameters that we derive will be somewhat dependent on the initial guess parameters and parameter steps (try it!). The solve_one function inside the q2.specpars module is the one actually finding the solution. It is there that we should go for improvements to the solution method. That said, why would we do that? For most purposes, these solutions are more than good enough.\n",
      "\n",
      "This concludes Part 2 of the Tutorial. We have learned how to solve for Teff/logg etc. using the standard spectroscopic method for one star: Arcturus. But what do we do if we have a sample of many stars instead of just one problem star? Let's move on to Part 3 to find out!"
     ]
    }
   ],
   "metadata": {}
  }
 ]
}