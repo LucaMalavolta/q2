{
 "metadata": {
  "name": "",
  "signature": "sha256:0104539e55bab2bebc68dd68a2019945f30d596e4bc19b0e6367542a9ba760c1"
 },
 "nbformat": 3,
 "nbformat_minor": 0,
 "worksheets": [
  {
   "cells": [
    {
     "cell_type": "heading",
     "level": 2,
     "metadata": {},
     "source": [
      "q2 Tutorial - 2. Solving for stellar parameters"
     ]
    },
    {
     "cell_type": "markdown",
     "metadata": {},
     "source": [
      "MOOG is frequently used to derive atmospheric parameters of stars. It doesn't actually do it by itself, but it allows us to do the basic calculations required to achieve that goal. q2 helps us talk to MOOG and perform this task easily.\n",
      "\n",
      "First, lets go to the Demo directory, import q2, and load our data (this is the same data set used in the Introduction). We are also defining an arcturus Star object and assigning it the input data."
     ]
    },
    {
     "cell_type": "code",
     "collapsed": false,
     "input": [
      "import os\n",
      "os.chdir('Demo')\n",
      "\n",
      "import q2\n",
      "\n",
      "data = q2.Data('../standards_stars.csv', '../standards_lines.csv')\n",
      "arcturus = q2.Star('Arcturus')\n",
      "arcturus.get_data_from(data)"
     ],
     "language": "python",
     "metadata": {},
     "outputs": [],
     "prompt_number": 1
    },
    {
     "cell_type": "markdown",
     "metadata": {},
     "source": [
      "Before, we used the q2.specpars module to calculate iron_stats for a fixed set of parameters. Now we can use it to solve for better parameters (\"better\" here means consistent with 1D-LTE excitation/ionization equilibrium).\n",
      "\n",
      "First, we need to define some parameters for the solution procedure. As usual, starting from the input Teff, logg, and vt, q2 will try to find those values that minimize the slopes of iron abundance versus line EP and REW. This is an iterative procedure. We can set the initial steps for the changes in those parameters using the SolvePars object. Also, it is a good idea to set a maximum number of iterations (niter) in case q2 is not able to converge quickly. At this point we can also set what model atmosphere grid we want to use. In this example we are using MARCS models again.\n",
      "\n",
      "Note that we are using also the PlotPars object to make our output figure look nice.\n",
      "\n",
      "The q2.specpars.solve_one function does all the magic. This will take a little while."
     ]
    },
    {
     "cell_type": "code",
     "collapsed": false,
     "input": [
      "sp = q2.specpars.SolvePars()\n",
      "sp.step_teff = 8\n",
      "sp.step_logg = 0.08\n",
      "sp.step_vt = 0.08\n",
      "sp.niter = 35\n",
      "sp.grid = 'marcs'\n",
      "\n",
      "pp = q2.specpars.PlotPars()\n",
      "pp.afe = [-1000, 0.25]\n",
      "\n",
      "q2.specpars.solve_one(arcturus, sp, PlotPars=pp)"
     ],
     "language": "python",
     "metadata": {},
     "outputs": [
      {
       "output_type": "stream",
       "stream": "stdout",
       "text": [
        "it Teff logg [Fe/H]  vt           [Fe/H]\n",
        "-- ---- ---- ------ ----      --------------\n",
        " 0 4286 1.66 -0.520 1.74 --->  6.875+/-0.066"
       ]
      },
      {
       "output_type": "stream",
       "stream": "stdout",
       "text": [
        "\n",
        " 1 4294 1.58 -0.575 1.66 --->  6.862+/-0.054"
       ]
      },
      {
       "output_type": "stream",
       "stream": "stdout",
       "text": [
        "\n",
        " 2 4302 1.50 -0.588 1.58 --->  6.852+/-0.055"
       ]
      },
      {
       "output_type": "stream",
       "stream": "stdout",
       "text": [
        "\n",
        " 3 4294 1.58 -0.598 1.66 --->  6.859+/-0.054"
       ]
      },
      {
       "output_type": "stream",
       "stream": "stdout",
       "text": [
        "\n",
        " 4 4302 1.50 -0.591 1.58 --->  6.852+/-0.055"
       ]
      },
      {
       "output_type": "stream",
       "stream": "stdout",
       "text": [
        "\n",
        "-- Converged at iteration 4 of 35\n",
        " 5 4298 1.54 -0.598 1.62 --->  6.855+/-0.053"
       ]
      },
      {
       "output_type": "stream",
       "stream": "stdout",
       "text": [
        "\n",
        " 6 4302 1.58 -0.595 1.66 --->  6.858+/-0.053"
       ]
      },
      {
       "output_type": "stream",
       "stream": "stdout",
       "text": [
        "\n",
        " 7 4306 1.54 -0.592 1.62 --->  6.855+/-0.053"
       ]
      },
      {
       "output_type": "stream",
       "stream": "stdout",
       "text": [
        "\n",
        " 8 4310 1.58 -0.595 1.66 --->  6.856+/-0.053"
       ]
      },
      {
       "output_type": "stream",
       "stream": "stdout",
       "text": [
        "\n",
        " 9 4314 1.62 -0.594 1.62 --->  6.885+/-0.053"
       ]
      },
      {
       "output_type": "stream",
       "stream": "stdout",
       "text": [
        "\n",
        "10 4310 1.58 -0.565 1.66 --->  6.860+/-0.053"
       ]
      },
      {
       "output_type": "stream",
       "stream": "stdout",
       "text": [
        "\n",
        "11 4314 1.54 -0.590 1.62 --->  6.853+/-0.054"
       ]
      },
      {
       "output_type": "stream",
       "stream": "stdout",
       "text": [
        "\n",
        "-- Converged at iteration 11 of 35\n",
        "12 4316 1.56 -0.597 1.64 --->  6.853+/-0.054"
       ]
      },
      {
       "output_type": "stream",
       "stream": "stdout",
       "text": [
        "\n",
        "13 4318 1.58 -0.597 1.66 --->  6.854+/-0.053"
       ]
      },
      {
       "output_type": "stream",
       "stream": "stdout",
       "text": [
        "\n",
        "14 4320 1.60 -0.596 1.64 --->  6.869+/-0.053"
       ]
      },
      {
       "output_type": "stream",
       "stream": "stdout",
       "text": [
        "\n",
        "15 4322 1.62 -0.581 1.66 --->  6.871+/-0.053"
       ]
      },
      {
       "output_type": "stream",
       "stream": "stdout",
       "text": [
        "\n",
        "16 4324 1.60 -0.579 1.64 --->  6.870+/-0.053"
       ]
      },
      {
       "output_type": "stream",
       "stream": "stdout",
       "text": [
        "\n",
        "17 4326 1.62 -0.580 1.66 --->  6.870+/-0.053"
       ]
      },
      {
       "output_type": "stream",
       "stream": "stdout",
       "text": [
        "\n",
        "18 4328 1.64 -0.580 1.68 --->  6.870+/-0.053"
       ]
      },
      {
       "output_type": "stream",
       "stream": "stdout",
       "text": [
        "\n",
        "19 4330 1.62 -0.580 1.66 --->  6.869+/-0.053"
       ]
      },
      {
       "output_type": "stream",
       "stream": "stdout",
       "text": [
        "\n",
        "20 4332 1.64 -0.581 1.68 --->  6.869+/-0.053"
       ]
      },
      {
       "output_type": "stream",
       "stream": "stdout",
       "text": [
        "\n",
        "21 4334 1.66 -0.581 1.66 --->  6.882+/-0.053"
       ]
      },
      {
       "output_type": "stream",
       "stream": "stdout",
       "text": [
        "\n",
        "22 4332 1.64 -0.568 1.68 --->  6.870+/-0.053"
       ]
      },
      {
       "output_type": "stream",
       "stream": "stdout",
       "text": [
        "\n",
        "23 4334 1.62 -0.580 1.66 --->  6.868+/-0.053"
       ]
      },
      {
       "output_type": "stream",
       "stream": "stdout",
       "text": [
        "\n",
        "-- Converged at iteration 23 of 35\n",
        "-- Begin final loop\n",
        "24 4335 1.63 -0.582 1.67 --->  6.868+/-0.053"
       ]
      },
      {
       "output_type": "stream",
       "stream": "stdout",
       "text": [
        "\n",
        "25 4336 1.64 -0.582 1.66 --->  6.875+/-0.053"
       ]
      },
      {
       "output_type": "stream",
       "stream": "stdout",
       "text": [
        "\n",
        "26 4335 1.65 -0.575 1.67 --->  6.876+/-0.053"
       ]
      },
      {
       "output_type": "stream",
       "stream": "stdout",
       "text": [
        "\n",
        "27 4336 1.64 -0.574 1.66 --->  6.876+/-0.053"
       ]
      },
      {
       "output_type": "stream",
       "stream": "stdout",
       "text": [
        "\n",
        "28 4335 1.65 -0.574 1.67 --->  6.876+/-0.053"
       ]
      },
      {
       "output_type": "stream",
       "stream": "stdout",
       "text": [
        "\n",
        "-- Converged at iteration 28 of 35\n",
        "------------------------------------------------------"
       ]
      },
      {
       "output_type": "stream",
       "stream": "stdout",
       "text": [
        "\n",
        "    A(Fe)     ||      A(Fe I)      |     A(Fe II)   \n",
        " 6.876  0.053 ||  6.876  0.050  37 |  6.876  0.070   9\n",
        "------------------------------------------------------\n"
       ]
      }
     ],
     "prompt_number": 2
    },
    {
     "cell_type": "markdown",
     "metadata": {},
     "source": [
      "In each iteration, the parameters have changed in order to approach spectroscopic equilibrium. After the parameters converge within the initial steps, they are divided by 2 and a new iteration block begins. This is done repeatedly until the steps are 1 K, 0.01 dex, and 0.01 dex (final loop).\n",
      "\n",
      "We have found the Teff/logg/vt combination that makes Arcturus' iron abundances independent of EP and REW, and also the FeI and FeII abundances match. We haven't touched a single MOOG outfile nor done any of the statistics needed to get to this solution. A hardcopy of this figure is created as well, with the id of the star object as the file name.\n",
      "\n",
      "Note that the y-axis here is A(Fe), i.e., the absolute iron abundance. We can repeat this calculation, but using the solar EW values to calculate differential abundances and parameters of Arcturus.\n",
      "\n",
      "Before we do that, we are going to reduce the initial steps for the solution. Why? Because the parameters of Arcturus may be closer to the \"real\" ones, so we can probably get to the solution quicker if the initial steps are small (this is not necessarily always the case, but it's a good guess).\n",
      "\n",
      "As before, to calculate differential abundances we pass a Ref object, sun, to q2.specpars.solve_one. This object should have the data assigned to it before performing these calculations."
     ]
    },
    {
     "cell_type": "code",
     "collapsed": false,
     "input": [
      "sp.step_teff = 4\n",
      "sp.step_logg = 0.04\n",
      "sp.step_vt = 0.04\n",
      "\n",
      "sun = q2.Star('Sun')\n",
      "sun.get_data_from(data)\n",
      "\n",
      "q2.specpars.solve_one(arcturus, sp, Ref=sun, PlotPars=pp)"
     ],
     "language": "python",
     "metadata": {},
     "outputs": [
      {
       "output_type": "stream",
       "stream": "stdout",
       "text": [
        "it Teff logg [Fe/H]  vt           [Fe/H]\n",
        "-- ---- ---- ------ ----      --------------\n",
        " 0 4335 1.65 -0.574 1.67 ---> -0.542+/-0.027"
       ]
      },
      {
       "output_type": "stream",
       "stream": "stdout",
       "text": [
        "\n",
        " 1 4339 1.61 -0.542 1.63 ---> -0.540+/-0.024"
       ]
      },
      {
       "output_type": "stream",
       "stream": "stdout",
       "text": [
        "\n",
        " 2 4343 1.57 -0.540 1.67 ---> -0.569+/-0.025"
       ]
      },
      {
       "output_type": "stream",
       "stream": "stdout",
       "text": [
        "\n",
        " 3 4347 1.61 -0.569 1.63 ---> -0.544+/-0.024"
       ]
      },
      {
       "output_type": "stream",
       "stream": "stdout",
       "text": [
        "\n",
        " 4 4351 1.65 -0.544 1.67 ---> -0.542+/-0.024"
       ]
      },
      {
       "output_type": "stream",
       "stream": "stdout",
       "text": [
        "\n",
        " 5 4355 1.61 -0.542 1.63 ---> -0.543+/-0.025"
       ]
      },
      {
       "output_type": "stream",
       "stream": "stdout",
       "text": [
        "\n",
        " 6 4351 1.65 -0.543 1.67 ---> -0.542+/-0.024"
       ]
      },
      {
       "output_type": "stream",
       "stream": "stdout",
       "text": [
        "\n",
        " 7 4355 1.61 -0.542 1.63 ---> -0.543+/-0.025"
       ]
      },
      {
       "output_type": "stream",
       "stream": "stdout",
       "text": [
        "\n",
        "-- Converged at iteration 7 of 35\n",
        " 8 4353 1.63 -0.543 1.65 ---> -0.542+/-0.023"
       ]
      },
      {
       "output_type": "stream",
       "stream": "stdout",
       "text": [
        "\n",
        " 9 4355 1.61 -0.542 1.67 ---> -0.556+/-0.024"
       ]
      },
      {
       "output_type": "stream",
       "stream": "stdout",
       "text": [
        "\n",
        "10 4357 1.63 -0.556 1.65 ---> -0.544+/-0.024"
       ]
      },
      {
       "output_type": "stream",
       "stream": "stdout",
       "text": [
        "\n",
        "11 4359 1.65 -0.544 1.67 ---> -0.543+/-0.023"
       ]
      },
      {
       "output_type": "stream",
       "stream": "stdout",
       "text": [
        "\n",
        "12 4361 1.63 -0.543 1.65 ---> -0.544+/-0.024"
       ]
      },
      {
       "output_type": "stream",
       "stream": "stdout",
       "text": [
        "\n",
        "13 4359 1.65 -0.544 1.67 ---> -0.543+/-0.023"
       ]
      },
      {
       "output_type": "stream",
       "stream": "stdout",
       "text": [
        "\n",
        "14 4361 1.63 -0.543 1.65 ---> -0.544+/-0.024"
       ]
      },
      {
       "output_type": "stream",
       "stream": "stdout",
       "text": [
        "\n",
        "-- Converged at iteration 14 of 35\n",
        "-- Begin final loop\n",
        "15 4360 1.64 -0.544 1.66 ---> -0.544+/-0.023"
       ]
      },
      {
       "output_type": "stream",
       "stream": "stdout",
       "text": [
        "\n",
        "16 4361 1.65 -0.544 1.67 ---> -0.544+/-0.023"
       ]
      },
      {
       "output_type": "stream",
       "stream": "stdout",
       "text": [
        "\n",
        "17 4362 1.64 -0.544 1.66 ---> -0.544+/-0.023"
       ]
      },
      {
       "output_type": "stream",
       "stream": "stdout",
       "text": [
        "\n",
        "18 4363 1.65 -0.544 1.67 ---> -0.544+/-0.023"
       ]
      },
      {
       "output_type": "stream",
       "stream": "stdout",
       "text": [
        "\n",
        "19 4364 1.66 -0.544 1.66 ---> -0.538+/-0.023"
       ]
      },
      {
       "output_type": "stream",
       "stream": "stdout",
       "text": [
        "\n",
        "20 4363 1.65 -0.538 1.67 ---> -0.544+/-0.023"
       ]
      },
      {
       "output_type": "stream",
       "stream": "stdout",
       "text": [
        "\n",
        "21 4364 1.66 -0.544 1.66 ---> -0.538+/-0.023"
       ]
      },
      {
       "output_type": "stream",
       "stream": "stdout",
       "text": [
        "\n",
        "-- Converged at iteration 21 of 35\n",
        "------------------------------------------------------"
       ]
      },
      {
       "output_type": "stream",
       "stream": "stdout",
       "text": [
        "\n",
        "   D[Fe/H]    ||    D[Fe/H] Fe I   |   D[Fe/H] Fe II\n",
        "-0.538  0.023 || -0.538  0.024  37 | -0.538  0.022   9\n",
        "------------------------------------------------------\n"
       ]
      }
     ],
     "prompt_number": 3
    },
    {
     "cell_type": "markdown",
     "metadata": {},
     "source": [
      "The iron_stats attribute of the star object is updated in every iteration. The last one contains our 'final' solution (if it converged). The same is true for the stellar parameters:"
     ]
    },
    {
     "cell_type": "code",
     "collapsed": false,
     "input": [
      "print(\"[Fe/H](Fe I)  = {0:5.3f} +/- {1:5.3f}\".\n",
      "      format(arcturus.iron_stats['afe1'], arcturus.iron_stats['err_afe1']))\n",
      "print(\"[Fe/H](Fe II) = {0:5.3f} +/- {1:5.3f}\".\n",
      "      format(arcturus.iron_stats['afe2'], arcturus.iron_stats['err_afe2']))\n",
      "print(\"A(FeI) vs. EP slope  = {0:.6f}\".format(arcturus.iron_stats['slope_ep']))\n",
      "print(\"A(FeI) vs. REW slope = {0:.6f}\".format(arcturus.iron_stats['slope_rew']))\n",
      "\n",
      "print(\"Final stellar parameters:\")\n",
      "print(\"Teff = {0:4.0f} K, logg = {1:4.2f}, [Fe/H]= {2:5.2f}, vt = {3:4.2f} km/s\".\n",
      "      format(arcturus.teff, arcturus.logg, arcturus.feh, arcturus.vt))"
     ],
     "language": "python",
     "metadata": {},
     "outputs": [
      {
       "output_type": "stream",
       "stream": "stdout",
       "text": [
        "[Fe/H](Fe I)  = -0.538 +/- 0.024\n",
        "[Fe/H](Fe II) = -0.538 +/- 0.022\n",
        "A(FeI) vs. EP slope  = -0.000698\n",
        "A(FeI) vs. REW slope = 0.009750\n",
        "Final stellar parameters:\n",
        "Teff = 4364 K, logg = 1.66, [Fe/H]= -0.54, vt = 1.66 km/s\n"
       ]
      }
     ],
     "prompt_number": 4
    },
    {
     "cell_type": "markdown",
     "metadata": {},
     "source": [
      "A hardcopy of the figure above is created, as usual. The file name follows the convention: \"Star_id-Ref_id\".\n",
      "\n",
      "To calculate formal errors, we use the q2.errors.error_one function. When it is done calculating the errors, q2 adds a sp_err attribute, containing those errors, to the star object:"
     ]
    },
    {
     "cell_type": "code",
     "collapsed": false,
     "input": [
      "q2.errors.error_one(arcturus, sp, Ref=sun)\n",
      "print(\"err_Teff = {0:2.0f} K, err_logg = {1:4.2f}, err_[Fe/H] = {2:4.2f}, err_vt = {3:4.2f}\".\n",
      "      format(arcturus.sp_err['teff'], arcturus.sp_err['logg'], arcturus.sp_err['afe'], arcturus.sp_err['vt']))"
     ],
     "language": "python",
     "metadata": {},
     "outputs": [
      {
       "output_type": "stream",
       "stream": "stdout",
       "text": [
        "err_Teff = 33 K, err_logg = 0.10, err_[Fe/H] = 0.04, err_vt = 0.05\n"
       ]
      }
     ],
     "prompt_number": 5
    },
    {
     "cell_type": "markdown",
     "metadata": {},
     "source": [
      "These values correspond to the precision of this technique at minimizing Fe abundance trends and FeI vs FeII iron abundance differences. We have to be careful and not report these errors as the true uncertainties in the star's parameters or iron abundance. Those are dominated by systematic uncertainties.\n",
      "\n",
      "q2's solutions are not necessarily unique. The final Teff, logg, etc. parameters that we derive will be somewhat dependent on the initial guess parameters and parameter steps (try it!). The solve_one function inside the q2.specpars module is the one actually finding the solution. It is there that we should go for improvements to the solution method. That said, why would we do that? For most purposes, these solutions are more than good enough.\n",
      "\n",
      "This concludes Part 2 of the Tutorial. We have learned how to solve for Teff/logg etc. using the standard spectroscopic method for one star: Arcturus. But what do we do if we have a sample of many stars instead of just one problem star? Let's move on to Part 3 to find out."
     ]
    }
   ],
   "metadata": {}
  }
 ]
}