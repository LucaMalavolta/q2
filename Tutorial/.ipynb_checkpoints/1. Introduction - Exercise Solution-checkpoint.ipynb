{
 "cells": [
  {
   "cell_type": "markdown",
   "metadata": {},
   "source": [
    "We'll start as in the Tutorial by just reading the csv files into a data object:"
   ]
  },
  {
   "cell_type": "code",
   "execution_count": 1,
   "metadata": {
    "collapsed": true
   },
   "outputs": [],
   "source": [
    "import os\n",
    "if not os.path.exists('Demo'):\n",
    "    os.mkdir('Demo')\n",
    "os.chdir('Demo')\n",
    "\n",
    "import q2\n",
    "\n",
    "%matplotlib inline\n",
    "\n",
    "data = q2.Data('../standards_stars.csv', '../standards_lines.csv')"
   ]
  },
  {
   "cell_type": "markdown",
   "metadata": {},
   "source": [
    "We want to create a sun object with data for the Sun. Fix the error:"
   ]
  },
  {
   "cell_type": "code",
   "execution_count": 30,
   "metadata": {
    "collapsed": false
   },
   "outputs": [
    {
     "name": "stdout",
     "output_type": "stream",
     "text": [
      "['Arcturus', 'Sun', 'ep', 'gf', 'wavelength', 'species']\n",
      "['teff', 'spectrum', 'feh', 'ew measurements', 'logg', 'vt', 'id']\n",
      "5777\n"
     ]
    }
   ],
   "source": [
    "print data.lines.keys()\n",
    "print data.star_data.keys()\n",
    "\n",
    "sun = q2.Star('sun')\n",
    "sun = q2.Star('Sun') #this is the answer\n",
    "sun.get_data_from(data)\n",
    "print sun.teff"
   ]
  },
  {
   "cell_type": "markdown",
   "metadata": {},
   "source": [
    "Get a Kurucz' odfnew model atmosphere for your sun object:"
   ]
  },
  {
   "cell_type": "code",
   "execution_count": 33,
   "metadata": {
    "collapsed": false
   },
   "outputs": [],
   "source": [
    "sun.get_model_atmosphere('odfnew')"
   ]
  },
  {
   "cell_type": "markdown",
   "metadata": {},
   "source": [
    "Show the temperature of the first three layers of the model atmosphere:"
   ]
  },
  {
   "cell_type": "code",
   "execution_count": 28,
   "metadata": {
    "collapsed": false
   },
   "outputs": [
    {
     "name": "stdout",
     "output_type": "stream",
     "text": [
      "[ 3758.68247505  3762.44491997  3790.7998404 ]\n"
     ]
    }
   ],
   "source": [
    "print sun.model_atmosphere['T'][:3]"
   ]
  },
  {
   "cell_type": "markdown",
   "metadata": {},
   "source": [
    "Create an object for Arcturus and get its odfnew model atmosphere. Print the temperature of the top layer:"
   ]
  },
  {
   "cell_type": "code",
   "execution_count": 46,
   "metadata": {
    "collapsed": false
   },
   "outputs": [
    {
     "name": "stdout",
     "output_type": "stream",
     "text": [
      "2433.81752508\n"
     ]
    }
   ],
   "source": [
    "arcturus = q2.Star('Arcturus')\n",
    "arcturus.get_data_from(data)\n",
    "arcturus.get_model_atmosphere('odfnew')\n",
    "print arcturus.model_atmosphere['T'][0]"
   ]
  },
  {
   "cell_type": "markdown",
   "metadata": {},
   "source": [
    "What would be the temperature of the top layer of Arcturus if its effective temperature were 100 K cooler?"
   ]
  },
  {
   "cell_type": "code",
   "execution_count": 54,
   "metadata": {
    "collapsed": false
   },
   "outputs": [
    {
     "name": "stdout",
     "output_type": "stream",
     "text": [
      "2397.6270738\n"
     ]
    }
   ],
   "source": [
    "arcturus.teff -= 100\n",
    "arcturus.get_model_atmosphere('odfnew')\n",
    "print arcturus.model_atmosphere['T'][0]"
   ]
  },
  {
   "cell_type": "markdown",
   "metadata": {},
   "source": [
    "Print the effective temperature of Arcturus. If it isn't what is in the csv file, re-assign the \"correct\" Teff value for this star and double check by printing the teff again:"
   ]
  },
  {
   "cell_type": "code",
   "execution_count": 55,
   "metadata": {
    "collapsed": false
   },
   "outputs": [
    {
     "name": "stdout",
     "output_type": "stream",
     "text": [
      "4186\n",
      "4286\n"
     ]
    }
   ],
   "source": [
    "print arcturus.teff\n",
    "arcturus.get_data_from(data)\n",
    "print arcturus.teff"
   ]
  },
  {
   "cell_type": "markdown",
   "metadata": {},
   "source": [
    "Make a loop that changes the Teff of Arcturus by -200K, -150K, -100K, ..., +150K, +200K and show the temperature of the top layer for each case:"
   ]
  },
  {
   "cell_type": "code",
   "execution_count": 66,
   "metadata": {
    "collapsed": false
   },
   "outputs": [
    {
     "name": "stdout",
     "output_type": "stream",
     "text": [
      "-200 2708.98821405\n",
      "-150 2756.8375838\n",
      "-100 2798.76027398\n",
      "-50 2838.33212689\n",
      "0 2877.90397979\n",
      "50 2917.4758327\n",
      "100 2957.0476856\n",
      "150 3000.61398416\n",
      "200 3045.79327078\n"
     ]
    }
   ],
   "source": [
    "teff = arcturus.teff\n",
    "for dteff in range(-200, 201, 50):\n",
    "    arcturus.teff = teff+dteff\n",
    "    arcturus.get_model_atmosphere('odfnew')\n",
    "    print dteff, arcturus.model_atmosphere['T'][0]"
   ]
  },
  {
   "cell_type": "code",
   "execution_count": null,
   "metadata": {
    "collapsed": true
   },
   "outputs": [],
   "source": []
  }
 ],
 "metadata": {
  "kernelspec": {
   "display_name": "Python 2",
   "language": "python",
   "name": "python2"
  },
  "language_info": {
   "codemirror_mode": {
    "name": "ipython",
    "version": 2
   },
   "file_extension": ".py",
   "mimetype": "text/x-python",
   "name": "python",
   "nbconvert_exporter": "python",
   "pygments_lexer": "ipython2",
   "version": "2.7.10"
  }
 },
 "nbformat": 4,
 "nbformat_minor": 0
}
