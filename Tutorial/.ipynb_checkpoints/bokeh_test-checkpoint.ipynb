{
 "metadata": {
  "name": "",
  "signature": "sha256:f24c1d3209b73325e52c507e89bfcf6131ec6442920b1618509f2a537610d263"
 },
 "nbformat": 3,
 "nbformat_minor": 0,
 "worksheets": [
  {
   "cells": [
    {
     "cell_type": "code",
     "collapsed": false,
     "input": [
      "import os\n",
      "if not os.path.exists('Demo'):\n",
      "    os.mkdir('Demo')\n",
      "os.chdir('Demo')\n",
      "\n",
      "import q2"
     ],
     "language": "python",
     "metadata": {},
     "outputs": [],
     "prompt_number": 1
    },
    {
     "cell_type": "code",
     "collapsed": false,
     "input": [
      "data = q2.Data('../standards_stars.csv', '../standards_lines.csv')\n",
      "\n",
      "sun = q2.Star('Sun')\n",
      "arcturus = q2.Star('Arcturus')\n",
      "\n",
      "sun.get_data_from(data)\n",
      "arcturus.get_data_from(data)\n",
      "\n",
      "sun.get_model_atmosphere('marcs')\n",
      "arcturus.get_model_atmosphere('marcs')\n",
      "\n",
      "q2.specpars.iron_stats(arcturus, Ref=sun)"
     ],
     "language": "python",
     "metadata": {},
     "outputs": [],
     "prompt_number": 2
    },
    {
     "cell_type": "code",
     "collapsed": false,
     "input": [
      "from collections import OrderedDict\n",
      "from bokeh.plotting import *\n",
      "from bokeh.objects import HoverTool"
     ],
     "language": "python",
     "metadata": {},
     "outputs": [],
     "prompt_number": 8
    },
    {
     "cell_type": "code",
     "collapsed": false,
     "input": [
      "TOOLS=\"pan,wheel_zoom,box_zoom,reset,hover\"\n",
      "\n",
      "source = ColumnDataSource(\n",
      "    data=dict(\n",
      "        x = @arcturus.fe1['ww'],\n",
      "        y = arcturus.fe1['difab'],\n",
      "    )\n",
      ")\n",
      "\n",
      "circle(arcturus.fe1['ww'], arcturus.fe1['difab'], source=source, tools=TOOLS)\n",
      "\n",
      "output_notebook()\n",
      "show()"
     ],
     "language": "python",
     "metadata": {},
     "outputs": [
      {
       "ename": "NameError",
       "evalue": "name 'y' is not defined",
       "output_type": "pyerr",
       "traceback": [
        "\u001b[1;31m---------------------------------------------------------------------------\u001b[0m\n\u001b[1;31mNameError\u001b[0m                                 Traceback (most recent call last)",
        "\u001b[1;32m<ipython-input-22-8742793c0fbd>\u001b[0m in \u001b[0;36m<module>\u001b[1;34m()\u001b[0m\n\u001b[0;32m      8\u001b[0m )\n\u001b[0;32m      9\u001b[0m \u001b[1;33m\u001b[0m\u001b[0m\n\u001b[1;32m---> 10\u001b[1;33m \u001b[0mcircle\u001b[0m\u001b[1;33m(\u001b[0m\u001b[0mx\u001b[0m\u001b[1;33m,\u001b[0m \u001b[0my\u001b[0m\u001b[1;33m,\u001b[0m \u001b[0msource\u001b[0m\u001b[1;33m=\u001b[0m\u001b[0msource\u001b[0m\u001b[1;33m,\u001b[0m \u001b[0mtools\u001b[0m\u001b[1;33m=\u001b[0m\u001b[0mTOOLS\u001b[0m\u001b[1;33m)\u001b[0m\u001b[1;33m\u001b[0m\u001b[0m\n\u001b[0m\u001b[0;32m     11\u001b[0m \u001b[1;33m\u001b[0m\u001b[0m\n\u001b[0;32m     12\u001b[0m \u001b[0moutput_notebook\u001b[0m\u001b[1;33m(\u001b[0m\u001b[1;33m)\u001b[0m\u001b[1;33m\u001b[0m\u001b[0m\n",
        "\u001b[1;31mNameError\u001b[0m: name 'y' is not defined"
       ]
      }
     ],
     "prompt_number": 22
    },
    {
     "cell_type": "code",
     "collapsed": false,
     "input": [],
     "language": "python",
     "metadata": {},
     "outputs": []
    }
   ],
   "metadata": {}
  }
 ]
}