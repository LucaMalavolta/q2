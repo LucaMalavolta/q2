{
 "metadata": {
  "name": "",
  "signature": "sha256:70edbf95b38945cbef70aa405c045c24c5031b9e200be21fa8247c943d700706"
 },
 "nbformat": 3,
 "nbformat_minor": 0,
 "worksheets": [
  {
   "cells": [
    {
     "cell_type": "heading",
     "level": 2,
     "metadata": {},
     "source": [
      "q2 Tutorial - 1. Introduction"
     ]
    },
    {
     "cell_type": "markdown",
     "metadata": {},
     "source": [
      "Welcome to the q2 Python package!\n",
      "\n",
      "Before we begin this tutorial, make sure to have the 2014 version of <a href=\"http://www.as.utexas.edu/~chris/moog.html\">MOOGSILENT</a> installed.\n",
      "\n",
      "Ready? Go!\n",
      "\n",
      "First, let's create a directory Demo, move other there, and import the q2 package."
     ]
    },
    {
     "cell_type": "code",
     "collapsed": false,
     "input": [
      "import os\n",
      "if not os.path.exists('Demo'):\n",
      "    os.mkdir('Demo')\n",
      "os.chdir('Demo')\n",
      "\n",
      "import q2"
     ],
     "language": "python",
     "metadata": {},
     "outputs": [],
     "prompt_number": 1
    },
    {
     "cell_type": "markdown",
     "metadata": {},
     "source": [
      "For any given project, two csv (comma-separated-values) files are required: one with star data such as Teff, logg, etc., and the other one with spectral line data, i.e., a line list with atomic data and measured equivalent widths. Let's take a look at the two files used in this example (\"standard_stars.csv\" and \"standards_lines.csv\") to have an idea of the format. Column order is not important, but a few columns are required: id, teff_in, logg_in, feh_in, and vt_in in the \"stars\" file, and wavelength, species, ep, and gf in the \"lines\" file. The EW values of the stars should be given in the \"lines\" file with a heading corresponding to the id of the star.\n",
      "\n",
      "In this first step, the data from the csv files are loaded into an object called data. Nothing will happen to our csv files from now on; in fact, q2 will never modify them."
     ]
    },
    {
     "cell_type": "code",
     "collapsed": false,
     "input": [
      "data = q2.Data('../standards_stars.csv', '../standards_lines.csv')"
     ],
     "language": "python",
     "metadata": {},
     "outputs": [],
     "prompt_number": 2
    },
    {
     "cell_type": "markdown",
     "metadata": {},
     "source": [
      "We can inspect our data by calling the object attributes star_data and lines (data.star_data and data.lines are dictionaries of numpy arrays). For example, let's check the stars' ids, Teffs, and the first five EWs of the Sun:"
     ]
    },
    {
     "cell_type": "code",
     "collapsed": false,
     "input": [
      "print(data.star_data['id'])\n",
      "print(data.star_data['teff_in'])\n",
      "print(data.lines['Sun'][:5])"
     ],
     "language": "python",
     "metadata": {},
     "outputs": [
      {
       "output_type": "stream",
       "stream": "stdout",
       "text": [
        "['Sun' 'Arcturus']\n",
        "[5777 4286]\n",
        "[ 29.   62.5  32.6  32.5  80. ]\n"
       ]
      }
     ],
     "prompt_number": 3
    },
    {
     "cell_type": "markdown",
     "metadata": {},
     "source": [
      "To begin using q2 we need to create Star objects."
     ]
    },
    {
     "cell_type": "code",
     "collapsed": false,
     "input": [
      "sun = q2.Star('Sun')\n",
      "arcturus = q2.Star('Arcturus')"
     ],
     "language": "python",
     "metadata": {},
     "outputs": [],
     "prompt_number": 4
    },
    {
     "cell_type": "markdown",
     "metadata": {},
     "source": [
      "To asign the correct attributes to these stars, as given in our csv files, we use the get_data_from method. Our csv files are no longer being used to get this information; the data object is instead employed for that. Let's get the input data for our two stars and print their Teff and logg values (nicely)."
     ]
    },
    {
     "cell_type": "code",
     "collapsed": false,
     "input": [
      "sun.get_data_from(data)\n",
      "arcturus.get_data_from(data)\n",
      "\n",
      "print(\"Sun     : Teff = {0:4.0f} K, logg = {1:4.2f}\".\n",
      "      format(sun.teff, sun.logg))\n",
      "print(\"Arcturus: Teff = {0:4.0f} K, logg = {1:4.2f}\".\n",
      "      format(arcturus.teff, arcturus.logg))"
     ],
     "language": "python",
     "metadata": {},
     "outputs": [
      {
       "output_type": "stream",
       "stream": "stdout",
       "text": [
        "Sun     : Teff = 5777 K, logg = 4.44\n",
        "Arcturus: Teff = 4286 K, logg = 1.66\n"
       ]
      }
     ],
     "prompt_number": 5
    },
    {
     "cell_type": "markdown",
     "metadata": {},
     "source": [
      "Since we also uploaded a master line list (the \"lines\" csv file), the star objects now also have their own linelist data. These data were also asigned by the get_data_from method."
     ]
    },
    {
     "cell_type": "code",
     "collapsed": false,
     "input": [
      "print(\"Wavelength column (first five):\")\n",
      "print(sun.linelist['wavelength'][:5])\n",
      "print(\"Equivalent width column (first five):\")\n",
      "print(sun.linelist['ew'][:5])"
     ],
     "language": "python",
     "metadata": {},
     "outputs": [
      {
       "output_type": "stream",
       "stream": "stdout",
       "text": [
        "Wavelength column (first five):\n",
        "[ 5295.3101  5379.5698  5386.3301  5441.3398  5638.2598]\n",
        "Equivalent width column (first five):\n",
        "[ 29.   62.5  32.6  32.5  80. ]\n"
       ]
      }
     ],
     "prompt_number": 6
    },
    {
     "cell_type": "markdown",
     "metadata": {},
     "source": [
      "Since our stars have all fundamental atmospheric parameters defined (they can be input guess values at this point), we can use the get_model_atmosphere method to look for models or interpolate them from the available grids. Here we will use MARCS models, hence the 'marcs' argument that is passed to this method. For Kurucz models we can use 'odfnew', 'aodfnew', 'over', or 'nover'."
     ]
    },
    {
     "cell_type": "code",
     "collapsed": false,
     "input": [
      "sun.get_model_atmosphere('marcs')\n",
      "arcturus.get_model_atmosphere('marcs')"
     ],
     "language": "python",
     "metadata": {},
     "outputs": [],
     "prompt_number": 7
    },
    {
     "cell_type": "markdown",
     "metadata": {},
     "source": [
      "What we just did is to add an attribute model_atmosphere to our star objects sun and arcturus. This attribute is a dictionary of numpy arrays with the model atmosphere information. At any point, we can check what grid the model attached to a given Star object was taken or interpolated from by looking at the model_atmosphere_grid attribute. The code below makes the classic RHOX vs T graph:"
     ]
    },
    {
     "cell_type": "code",
     "collapsed": false,
     "input": [
      "import matplotlib.pylab as plt\n",
      "%matplotlib inline\n",
      "plt.plot(sun.model_atmosphere['RHOX'], sun.model_atmosphere['T'])\n",
      "plt.xlabel(\"RHOX\")\n",
      "plt.ylabel(\"T (K)\")\n",
      "print(\"Interpolated solar model atmosphere. Grid: \"+sun.model_atmosphere_grid)"
     ],
     "language": "python",
     "metadata": {},
     "outputs": [
      {
       "output_type": "stream",
       "stream": "stdout",
       "text": [
        "Interpolated solar model atmosphere. Grid: marcs\n"
       ]
      },
      {
       "metadata": {},
       "output_type": "display_data",
       "png": "[encoded data removed]",
       "text": [
        "<matplotlib.figure.Figure at 0x7ffbed1c2f10>"
       ]
      }
     ],
     "prompt_number": 8
    },
    {
     "cell_type": "markdown",
     "metadata": {},
     "source": [
      "Note that the model_atmosphere attribute/dictionary has all the necessary physical information to run a MOOG abfind calculation (and our star objects have the linelist data as well). The 'q2.moog' module can help us create input files for a typical MOOG abfind run:"
     ]
    },
    {
     "cell_type": "code",
     "collapsed": false,
     "input": [
      "md = q2.moog.Driver()\n",
      "md.create_file() #Creates simple MOOGSILENT abfind driver\n",
      "q2.moog.create_model_in(sun) #creates the model atmosphere file\n",
      "q2.moog.create_lines_in(sun) #returns True if successful (for checks)"
     ],
     "language": "python",
     "metadata": {},
     "outputs": [
      {
       "metadata": {},
       "output_type": "pyout",
       "prompt_number": 9,
       "text": [
        "True"
       ]
      }
     ],
     "prompt_number": 9
    },
    {
     "cell_type": "markdown",
     "metadata": {},
     "source": [
      "Look for the files in the Demo folder and inspect them. They should have the familiar MOOG formats. At this point, you could go to your terminal and try to run MOOGSILENT (or MOOG and then enter batch.par as the driver) on the Demo folder. If it worked, we should be ready to connect q2 and MOOG.\n",
      "\n",
      "Of course, it is not terribly helpful if we are still going to have to call MOOG manually from the terminal. Instead, we can use q2's moog.abfind function to calculate abundances within MOOG (let's keep our fingers crossed; this is when q2 actually talks to MOOG!). In this example, we are computing line-by-line \"FeII abundances\" for the Sun:"
     ]
    },
    {
     "cell_type": "code",
     "collapsed": false,
     "input": [
      "q2.moog.abfind(sun, 26.1, 'fe2')\n",
      "print(sun.fe2.keys())\n",
      "print(sun.fe2['ww'])\n",
      "print(sun.fe2['ab'])"
     ],
     "language": "python",
     "metadata": {},
     "outputs": [
      {
       "output_type": "stream",
       "stream": "stdout",
       "text": [
        "['ab', 'difab', 'rew', 'ww', 'ew', 'ep']\n",
        "[ 4576.333  4620.513  5234.624  5264.804  5414.072  5425.257  6369.462\n",
        "  6432.676  6516.077]\n",
        "[ 7.353  7.282  7.318  7.45   7.432  7.412  7.402  7.424  7.456]\n"
       ]
      }
     ],
     "prompt_number": 10
    },
    {
     "cell_type": "markdown",
     "metadata": {},
     "source": [
      "The moog.abfind function ran MOOGSILENT for us, creating the MOOG input files and deleting them when done. The sun object in this example now has an fe2 attribute, which is a dictionary containing the MOOG outputs: ww=wavelength, ab=abundance, etc.\n",
      "\n",
      "A common exercise in stellar spectroscopy is to derive iron abundances from FeI and FeII lines separately, in addition to calculating some statistics like abundance versus EP or REW slopes. This can be done with the specpars module:"
     ]
    },
    {
     "cell_type": "code",
     "collapsed": false,
     "input": [
      "q2.specpars.iron_stats(sun, plot='sun')"
     ],
     "language": "python",
     "metadata": {},
     "outputs": [],
     "prompt_number": 11
    },
    {
     "cell_type": "markdown",
     "metadata": {},
     "source": [
      "Not only did we make a nice figure (look in the Demo folder for the \"sun.png\" file; the name of this file is set by the plot argument above), but the sun object now has an iron_stats attribute with the results of this calculation, so we can use these for statistics. By the way, in the figure, blue crosses here are the FeI lines and green circles the FeII lines. We should not need to be told that by now!"
     ]
    },
    {
     "cell_type": "code",
     "collapsed": false,
     "input": [
      "print(\"A(Fe I)  = {0:5.3f} +/- {1:5.3f}\".\n",
      "      format(sun.iron_stats['afe1'], sun.iron_stats['err_afe1']))\n",
      "print(\"A(Fe II) = {0:5.3f} +/- {1:5.3f}\".\n",
      "      format(sun.iron_stats['afe2'], sun.iron_stats['err_afe2']))\n",
      "print(\"A(FeI) vs. EP slope  = {0:.6f}\".format(sun.iron_stats['slope_ep']))\n",
      "print(\"A(FeI) vs. REW slope = {0:.6f}\".format(sun.iron_stats['slope_rew']))"
     ],
     "language": "python",
     "metadata": {},
     "outputs": [
      {
       "output_type": "stream",
       "stream": "stdout",
       "text": [
        "A(Fe I)  = 7.424 +/- 0.049\n",
        "A(Fe II) = 7.392 +/- 0.061\n",
        "A(FeI) vs. EP slope  = -0.006651\n",
        "A(FeI) vs. REW slope = -0.003948\n"
       ]
      }
     ],
     "prompt_number": 12
    },
    {
     "cell_type": "markdown",
     "metadata": {},
     "source": [
      "There is some flexibility to modify the plots generated by q2 with a PlotPars object, which can be passed on to q2.specpars. For example, we can set the y-axis to be +/-0.25 from the mean iron abundance derived as shown below. Also, note that now we are doing a calculation for Arcturus (check the Demo folder again after this calculation for the output figure: \"arcturus.png\")."
     ]
    },
    {
     "cell_type": "code",
     "collapsed": false,
     "input": [
      "pp = q2.specpars.PlotPars()\n",
      "pp.afe = [-1000, 0.25]\n",
      "q2.specpars.iron_stats(arcturus, plot='arcturus', PlotPars=pp)"
     ],
     "language": "python",
     "metadata": {},
     "outputs": [],
     "prompt_number": 13
    },
    {
     "cell_type": "markdown",
     "metadata": {},
     "source": [
      "So far we have used q2 to calculate absolute abundances of the Sun and Arcturus, but what about a differential analysis? We can run q2.specpars.iron_stats for Arcturus using the Sun as the reference star and all we have to do is pass the object sun as Ref(erence):"
     ]
    },
    {
     "cell_type": "code",
     "collapsed": false,
     "input": [
      "q2.specpars.iron_stats(arcturus, Ref=sun, plot='arcturus_sun', PlotPars=pp)"
     ],
     "language": "python",
     "metadata": {},
     "outputs": [],
     "prompt_number": 14
    },
    {
     "cell_type": "markdown",
     "metadata": {},
     "source": [
      "Have a look at the \"arcturus_sun.png\" figure. Note that we didn't have to deal with the MOOG outputs, match line lists, create tables and do the math separately. All that was handled by q2.\n",
      "\n",
      "This concludes the Introduction. So far we have calculated iron abundances using input parameters as given in our csv files. As shown in the figure we just made, the iron abundances of Arcturus show trends with excitation potential and line-strength. Also, the mean FeI and FeII abundances are a bit different. This could be indicating that the input parameters used are not correct (within our 1D-LTE model assumptions). Let's move on to Part 2 of this Tutorial and use q2 to derive \"better\" fundamental stellar parameters of stars.\n",
      "\n",
      "[If you are using the terminal, exit Python and re-launch it at the start of each Part of this Tutorial.]"
     ]
    }
   ],
   "metadata": {}
  }
 ]
}