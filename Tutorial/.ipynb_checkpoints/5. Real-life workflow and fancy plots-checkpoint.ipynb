{
 "metadata": {
  "name": "",
  "signature": "sha256:0803dbc46a2667eebd32f36f23a308141b3c2fca6e620e7f2ffb62a094ed9251"
 },
 "nbformat": 3,
 "nbformat_minor": 0,
 "worksheets": []
}