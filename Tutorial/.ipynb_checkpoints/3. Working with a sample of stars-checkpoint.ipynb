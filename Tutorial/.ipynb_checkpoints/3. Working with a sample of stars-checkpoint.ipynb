{
 "metadata": {
  "name": "",
  "signature": "sha256:2c1be5cab1718a9bdd3db9e11d55e82134b5c4f0dcbb53d210f633a9e60c2f83"
 },
 "nbformat": 3,
 "nbformat_minor": 0,
 "worksheets": [
  {
   "cells": [
    {
     "cell_type": "heading",
     "level": 2,
     "metadata": {},
     "source": [
      "q2 Tutorial - 3. Working with a sample of stars"
     ]
    },
    {
     "cell_type": "markdown",
     "metadata": {},
     "source": [
      "Let's say we have N stars and we want to derive the spectroscopic parameters for all of them. We could use q2.specpars.solve_one on each star, as we did for Arcturus before, but q2 offers a better option: q2.specpars.solve_all. As the name suggests, this one will solve for parameters for all stars in our input files.\n",
      "\n",
      "For this part of the tutorial we will use data for a couple of Hyades stars. Take a look at the \"hyades_stars.csv\" and \"hyades_lines.csv\" files to know what we are working with. Note that the files contain vestaOct, which corresponds to a solar spectrum to be used as reference.\n",
      "\n",
      "In Parts 1 and 2 of this Tutorial, both stars had EW measurements for all lines, but q2 is smart enough to identify missing data and will have no problems performing calculations for stars that do not have EW measurements for all lines in the reference star (or viceversa). In fact, our Hyades lines file has some missing EW data.\n",
      "\n",
      "As usual, we move to the Demo folder, import q2, and upload the data."
     ]
    },
    {
     "cell_type": "code",
     "collapsed": false,
     "input": [
      "import os\n",
      "os.chdir('Demo')\n",
      "\n",
      "import q2\n",
      "\n",
      "data = q2.Data('../hyades_stars.csv', '../hyades_lines.csv')"
     ],
     "language": "python",
     "metadata": {},
     "outputs": [],
     "prompt_number": 1
    },
    {
     "cell_type": "markdown",
     "metadata": {},
     "source": [
      "The solve_all function works very much like solve_one, except that instead of referring to a star object, we refer to the data object. q2 will figure out which stars need to be solved (excludes the reference, for example, which in this case is vestaOct --yes, we are doing differential analysis!, and stars that do not have any EWs in the lines csv file --that is not the case of this example, though).\n",
      "\n",
      "Note that in this example we are not setting the steps for SolvePars (step_teff, etc.), so they will be large at the beginning. As the parameters converge within those steps, they will reduce automatically. This is common practice when we work on a sample of unknown stars and all we know is that they are solar-type stars. That's why the input parameters for all stars are set to solar.\n",
      "\n",
      "Finally, when working on a sample of stars, the results are saved to an output csv file, which we are calling \"Hyades_solution.csv\". The output on screen can be informative as well, so we should keep an eye on it (if the number of stars is large, it may be best to send it to a logfile)."
     ]
    },
    {
     "cell_type": "code",
     "collapsed": false,
     "input": [
      "sp = q2.specpars.SolvePars()\n",
      "sp.grid = 'marcs'\n",
      "\n",
      "q2.specpars.solve_all(data, sp, 'Hyades_solution.csv', 'vestaOct')"
     ],
     "language": "python",
     "metadata": {},
     "outputs": [
      {
       "output_type": "stream",
       "stream": "stdout",
       "text": [
        "------------------------------------------------------\n",
        "Initializing ...\n",
        "- Date and time: 07-Oct-2014, 14:25:32\n",
        "- Model atmospheres: marcs\n",
        "- Star data: ../hyades_stars.csv\n",
        "- Line list: ../hyades_lines.csv\n",
        "------------------------------------------------------\n",
        "\n",
        "*******\n",
        "hd28099\n",
        "*******\n",
        "it Teff logg [Fe/H]  vt           [Fe/H]"
       ]
      },
      {
       "output_type": "stream",
       "stream": "stdout",
       "text": [
        "\n",
        "-- ---- ---- ------ ----      --------------\n",
        " 0 5777 4.44  0.000 1.00 --->  0.171+/-0.034"
       ]
      },
      {
       "output_type": "stream",
       "stream": "stdout",
       "text": [
        "\n",
        " 1 5745 4.76  0.171 1.32 --->  0.088+/-0.083"
       ]
      },
      {
       "output_type": "stream",
       "stream": "stdout",
       "text": [
        "\n",
        " 2 5777 4.44  0.088 1.00 --->  0.180+/-0.034"
       ]
      },
      {
       "output_type": "stream",
       "stream": "stdout",
       "text": [
        "\n",
        " 3 5745 4.76  0.180 1.32 --->  0.090+/-0.083"
       ]
      },
      {
       "output_type": "stream",
       "stream": "stdout",
       "text": [
        "\n",
        " 4 5777 4.44  0.090 1.00 --->  0.180+/-0.034"
       ]
      },
      {
       "output_type": "stream",
       "stream": "stdout",
       "text": [
        "\n",
        "-- Converged at iteration 4 of 50\n",
        " 5 5761 4.60  0.180 1.16 --->  0.137+/-0.045"
       ]
      },
      {
       "output_type": "stream",
       "stream": "stdout",
       "text": [
        "\n",
        " 6 5777 4.44  0.137 1.00 --->  0.185+/-0.035"
       ]
      },
      {
       "output_type": "stream",
       "stream": "stdout",
       "text": [
        "\n",
        " 7 5761 4.60  0.185 1.16 --->  0.138+/-0.045"
       ]
      },
      {
       "output_type": "stream",
       "stream": "stdout",
       "text": [
        "\n",
        "-- Converged at iteration 7 of 50\n",
        " 8 5769 4.52  0.138 1.08 --->  0.159+/-0.031"
       ]
      },
      {
       "output_type": "stream",
       "stream": "stdout",
       "text": [
        "\n",
        " 9 5761 4.44  0.159 1.16 --->  0.143+/-0.030"
       ]
      },
      {
       "output_type": "stream",
       "stream": "stdout",
       "text": [
        "\n",
        "10 5769 4.36  0.143 1.24 --->  0.130+/-0.032"
       ]
      },
      {
       "output_type": "stream",
       "stream": "stdout",
       "text": [
        "\n",
        "11 5777 4.44  0.130 1.32 --->  0.115+/-0.032"
       ]
      },
      {
       "output_type": "stream",
       "stream": "stdout",
       "text": [
        "\n",
        "12 5785 4.36  0.115 1.24 --->  0.138+/-0.032"
       ]
      },
      {
       "output_type": "stream",
       "stream": "stdout",
       "text": [
        "\n",
        "13 5793 4.44  0.138 1.32 --->  0.126+/-0.031"
       ]
      },
      {
       "output_type": "stream",
       "stream": "stdout",
       "text": [
        "\n",
        "14 5801 4.52  0.126 1.24 --->  0.144+/-0.029"
       ]
      },
      {
       "output_type": "stream",
       "stream": "stdout",
       "text": [
        "\n",
        "15 5809 4.44  0.144 1.16 --->  0.171+/-0.031"
       ]
      },
      {
       "output_type": "stream",
       "stream": "stdout",
       "text": [
        "\n",
        "16 5801 4.52  0.171 1.24 --->  0.149+/-0.030"
       ]
      },
      {
       "output_type": "stream",
       "stream": "stdout",
       "text": [
        "\n",
        "17 5809 4.44  0.149 1.16 --->  0.171+/-0.031"
       ]
      },
      {
       "output_type": "stream",
       "stream": "stdout",
       "text": [
        "\n",
        "-- Converged at iteration 17 of 50\n",
        "18 5805 4.48  0.171 1.20 --->  0.162+/-0.028"
       ]
      },
      {
       "output_type": "stream",
       "stream": "stdout",
       "text": [
        "\n",
        "19 5801 4.44  0.162 1.24 --->  0.150+/-0.029"
       ]
      },
      {
       "output_type": "stream",
       "stream": "stdout",
       "text": [
        "\n",
        "20 5805 4.48  0.150 1.28 --->  0.142+/-0.029"
       ]
      },
      {
       "output_type": "stream",
       "stream": "stdout",
       "text": [
        "\n",
        "21 5809 4.44  0.142 1.24 --->  0.153+/-0.029"
       ]
      },
      {
       "output_type": "stream",
       "stream": "stdout",
       "text": [
        "\n",
        "22 5813 4.48  0.153 1.28 --->  0.147+/-0.029"
       ]
      },
      {
       "output_type": "stream",
       "stream": "stdout",
       "text": [
        "\n",
        "23 5817 4.52  0.147 1.24 --->  0.156+/-0.028"
       ]
      },
      {
       "output_type": "stream",
       "stream": "stdout",
       "text": [
        "\n",
        "24 5821 4.48  0.156 1.20 --->  0.170+/-0.029"
       ]
      },
      {
       "output_type": "stream",
       "stream": "stdout",
       "text": [
        "\n",
        "25 5817 4.52  0.170 1.24 --->  0.158+/-0.029"
       ]
      },
      {
       "output_type": "stream",
       "stream": "stdout",
       "text": [
        "\n",
        "26 5821 4.48  0.158 1.20 --->  0.170+/-0.029"
       ]
      },
      {
       "output_type": "stream",
       "stream": "stdout",
       "text": [
        "\n",
        "-- Converged at iteration 26 of 50\n",
        "27 5819 4.50  0.170 1.22 --->  0.165+/-0.028"
       ]
      },
      {
       "output_type": "stream",
       "stream": "stdout",
       "text": [
        "\n",
        "28 5817 4.52  0.165 1.20 --->  0.166+/-0.028"
       ]
      },
      {
       "output_type": "stream",
       "stream": "stdout",
       "text": [
        "\n",
        "29 5815 4.50  0.166 1.18 --->  0.171+/-0.028"
       ]
      },
      {
       "output_type": "stream",
       "stream": "stdout",
       "text": [
        "\n",
        "30 5813 4.52  0.171 1.20 --->  0.164+/-0.028"
       ]
      },
      {
       "output_type": "stream",
       "stream": "stdout",
       "text": [
        "\n",
        "31 5811 4.50  0.164 1.18 --->  0.169+/-0.028"
       ]
      },
      {
       "output_type": "stream",
       "stream": "stdout",
       "text": [
        "\n",
        "32 5809 4.52  0.169 1.20 --->  0.162+/-0.028"
       ]
      },
      {
       "output_type": "stream",
       "stream": "stdout",
       "text": [
        "\n",
        "33 5807 4.50  0.162 1.18 --->  0.166+/-0.028"
       ]
      },
      {
       "output_type": "stream",
       "stream": "stdout",
       "text": [
        "\n",
        "34 5805 4.48  0.166 1.20 --->  0.161+/-0.028"
       ]
      },
      {
       "output_type": "stream",
       "stream": "stdout",
       "text": [
        "\n",
        "35 5803 4.50  0.161 1.22 --->  0.155+/-0.028"
       ]
      },
      {
       "output_type": "stream",
       "stream": "stdout",
       "text": [
        "\n",
        "36 5805 4.48  0.155 1.20 --->  0.160+/-0.028"
       ]
      },
      {
       "output_type": "stream",
       "stream": "stdout",
       "text": [
        "\n",
        "37 5803 4.50  0.160 1.22 --->  0.155+/-0.028"
       ]
      },
      {
       "output_type": "stream",
       "stream": "stdout",
       "text": [
        "\n",
        "-- Converged at iteration 37 of 50\n",
        "-- Begin final loop\n",
        "38 5804 4.49  0.155 1.21 --->  0.157+/-0.028"
       ]
      },
      {
       "output_type": "stream",
       "stream": "stdout",
       "text": [
        "\n",
        "39 5805 4.48  0.157 1.20 --->  0.160+/-0.028"
       ]
      },
      {
       "output_type": "stream",
       "stream": "stdout",
       "text": [
        "\n",
        "40 5804 4.49  0.160 1.21 --->  0.158+/-0.028"
       ]
      },
      {
       "output_type": "stream",
       "stream": "stdout",
       "text": [
        "\n",
        "-- Converged at iteration 40 of 50\n",
        "------------------------------------------------------"
       ]
      },
      {
       "output_type": "stream",
       "stream": "stdout",
       "text": [
        "\n",
        "   D[Fe/H]    ||    D[Fe/H] Fe I   |   D[Fe/H] Fe II\n",
        " 0.158  0.028 ||  0.157  0.029  83 |  0.161  0.022   9\n",
        "------------------------------------------------------\n",
        "\n",
        "*******\n",
        "hd29310\n",
        "*******\n",
        "it Teff logg [Fe/H]  vt           [Fe/H]"
       ]
      },
      {
       "output_type": "stream",
       "stream": "stdout",
       "text": [
        "\n",
        "-- ---- ---- ------ ----      --------------\n",
        " 0 5777 4.44  0.000 1.00 --->  0.069+/-0.079"
       ]
      },
      {
       "output_type": "stream",
       "stream": "stdout",
       "text": [
        "\n",
        " 1 5809 4.12  0.069 1.32 --->  0.035+/-0.061"
       ]
      },
      {
       "output_type": "stream",
       "stream": "stdout",
       "text": [
        "\n",
        " 2 5841 3.80  0.035 1.64 ---> -0.017+/-0.079"
       ]
      },
      {
       "output_type": "stream",
       "stream": "stdout",
       "text": [
        "\n",
        " 3 5873 4.12 -0.017 1.32 --->  0.072+/-0.055"
       ]
      },
      {
       "output_type": "stream",
       "stream": "stdout",
       "text": [
        "\n",
        " 4 5905 4.44  0.072 1.64 --->  0.024+/-0.074"
       ]
      },
      {
       "output_type": "stream",
       "stream": "stdout",
       "text": [
        "\n",
        " 5 5937 4.12  0.024 1.32 --->  0.109+/-0.058"
       ]
      },
      {
       "output_type": "stream",
       "stream": "stdout",
       "text": [
        "\n",
        " 6 5969 4.44  0.109 1.64 --->  0.059+/-0.062"
       ]
      },
      {
       "output_type": "stream",
       "stream": "stdout",
       "text": [
        "\n",
        " 7 6001 4.12  0.059 1.32 --->  0.143+/-0.067"
       ]
      },
      {
       "output_type": "stream",
       "stream": "stdout",
       "text": [
        "\n",
        " 8 5969 4.44  0.143 1.64 --->  0.060+/-0.063"
       ]
      },
      {
       "output_type": "stream",
       "stream": "stdout",
       "text": [
        "\n",
        " 9 6001 4.12  0.060 1.32 --->  0.143+/-0.067"
       ]
      },
      {
       "output_type": "stream",
       "stream": "stdout",
       "text": [
        "\n",
        "-- Converged at iteration 9 of 50\n",
        "10 5985 4.28  0.143 1.48 --->  0.098+/-0.049"
       ]
      },
      {
       "output_type": "stream",
       "stream": "stdout",
       "text": [
        "\n",
        "11 6001 4.44  0.098 1.32 --->  0.135+/-0.045"
       ]
      },
      {
       "output_type": "stream",
       "stream": "stdout",
       "text": [
        "\n",
        "12 5985 4.28  0.135 1.48 --->  0.098+/-0.049"
       ]
      },
      {
       "output_type": "stream",
       "stream": "stdout",
       "text": [
        "\n",
        "-- Converged at iteration 12 of 50\n",
        "13 5993 4.36  0.098 1.40 --->  0.116+/-0.046"
       ]
      },
      {
       "output_type": "stream",
       "stream": "stdout",
       "text": [
        "\n",
        "14 6001 4.28  0.116 1.32 --->  0.138+/-0.050"
       ]
      },
      {
       "output_type": "stream",
       "stream": "stdout",
       "text": [
        "\n",
        "15 5993 4.36  0.138 1.40 --->  0.117+/-0.046"
       ]
      },
      {
       "output_type": "stream",
       "stream": "stdout",
       "text": [
        "\n",
        "-- Converged at iteration 15 of 50\n",
        "16 5997 4.32  0.117 1.36 --->  0.127+/-0.047"
       ]
      },
      {
       "output_type": "stream",
       "stream": "stdout",
       "text": [
        "\n",
        "17 6001 4.36  0.127 1.40 --->  0.121+/-0.046"
       ]
      },
      {
       "output_type": "stream",
       "stream": "stdout",
       "text": [
        "\n",
        "18 6005 4.40  0.121 1.36 --->  0.131+/-0.045"
       ]
      },
      {
       "output_type": "stream",
       "stream": "stdout",
       "text": [
        "\n",
        "19 6009 4.36  0.131 1.40 --->  0.126+/-0.046"
       ]
      },
      {
       "output_type": "stream",
       "stream": "stdout",
       "text": [
        "\n",
        "20 6013 4.40  0.126 1.36 --->  0.137+/-0.045"
       ]
      },
      {
       "output_type": "stream",
       "stream": "stdout",
       "text": [
        "\n",
        "21 6017 4.36  0.137 1.40 --->  0.132+/-0.046"
       ]
      },
      {
       "output_type": "stream",
       "stream": "stdout",
       "text": [
        "\n",
        "22 6021 4.40  0.132 1.44 --->  0.126+/-0.046"
       ]
      },
      {
       "output_type": "stream",
       "stream": "stdout",
       "text": [
        "\n",
        "23 6025 4.36  0.126 1.40 --->  0.137+/-0.046"
       ]
      },
      {
       "output_type": "stream",
       "stream": "stdout",
       "text": [
        "\n",
        "24 6029 4.40  0.137 1.44 --->  0.131+/-0.046"
       ]
      },
      {
       "output_type": "stream",
       "stream": "stdout",
       "text": [
        "\n",
        "25 6033 4.44  0.131 1.40 --->  0.142+/-0.045"
       ]
      },
      {
       "output_type": "stream",
       "stream": "stdout",
       "text": [
        "\n",
        "26 6029 4.40  0.142 1.36 --->  0.148+/-0.046"
       ]
      },
      {
       "output_type": "stream",
       "stream": "stdout",
       "text": [
        "\n",
        "27 6025 4.44  0.148 1.40 --->  0.138+/-0.045"
       ]
      },
      {
       "output_type": "stream",
       "stream": "stdout",
       "text": [
        "\n",
        "-- Converged at iteration 27 of 50\n",
        "28 6027 4.42  0.138 1.38 --->  0.142+/-0.045"
       ]
      },
      {
       "output_type": "stream",
       "stream": "stdout",
       "text": [
        "\n",
        "29 6025 4.40  0.142 1.40 --->  0.137+/-0.045"
       ]
      },
      {
       "output_type": "stream",
       "stream": "stdout",
       "text": [
        "\n",
        "30 6027 4.42  0.137 1.38 --->  0.142+/-0.045"
       ]
      },
      {
       "output_type": "stream",
       "stream": "stdout",
       "text": [
        "\n",
        "-- Converged at iteration 30 of 50\n",
        "-- Begin final loop\n",
        "31 6026 4.41  0.142 1.39 --->  0.140+/-0.045"
       ]
      },
      {
       "output_type": "stream",
       "stream": "stdout",
       "text": [
        "\n",
        "32 6027 4.40  0.140 1.38 --->  0.142+/-0.045"
       ]
      },
      {
       "output_type": "stream",
       "stream": "stdout",
       "text": [
        "\n",
        "33 6026 4.41  0.142 1.39 --->  0.140+/-0.045"
       ]
      },
      {
       "output_type": "stream",
       "stream": "stdout",
       "text": [
        "\n",
        "-- Converged at iteration 33 of 50\n",
        "------------------------------------------------------"
       ]
      },
      {
       "output_type": "stream",
       "stream": "stdout",
       "text": [
        "\n",
        "   D[Fe/H]    ||    D[Fe/H] Fe I   |   D[Fe/H] Fe II\n",
        " 0.140  0.045 ||  0.140  0.046  81 |  0.142  0.039   9\n",
        "------------------------------------------------------\n",
        "\n",
        "********\n",
        "vestaOct\n",
        "********\n",
        "Reference star. No calculations needed.\n",
        "it Teff logg [Fe/H]  vt           [Fe/H]"
       ]
      },
      {
       "output_type": "stream",
       "stream": "stdout",
       "text": [
        "\n",
        "-- ---- ---- ------ ----      --------------\n",
        " 0 5777 4.44  0.000 1.00 --->  0.000+/-0.000\n",
        "--\n",
        "------------------------------------------------------\n",
        "   D[Fe/H]    ||    D[Fe/H] Fe I   |   D[Fe/H] Fe II\n",
        " 0.000  0.000 ||  0.000  0.000   0 |  0.000  0.000   0\n",
        "------------------------------------------------------\n",
        "\n",
        "------------------------------------------------------\n",
        "- Date and time: 07-Oct-2014, 14:26:26\n",
        "- Time elapsed: 0H 0M 53S\n",
        "Done!\n",
        "------------------------------------------------------\n",
        "\n"
       ]
      }
     ],
     "prompt_number": 2
    },
    {
     "cell_type": "markdown",
     "metadata": {},
     "source": [
      "Let's have a look at the output file (Hyades_solution.csv). It contains all the final parameters that we would now use to derive abundances of elements other than iron, for example, or whatever it is that we need them for.\n",
      "\n",
      "We should always check the column converged. They should all be True; otherwise we need to re-iterate.\n",
      "\n",
      "Automating MOOG has many advantages. Let's say, for example, that for whatever reason we want to re-do all the calculations, but using Kurucz's ODFNEW model atmospheres instead of MARCS. All we have to do then is re-define sp.grid and run q2.specpars.solve_all again. We will do that now.\n",
      "\n",
      "By default, q2.specpars.solve_all does not calculate the formal errors (hence the -1 values in the error columns of the output file). The reason is that error calculation can be time-consuming and we only really need to do it once we are happy with our solutions. We will now turn-on error calculation by changing the errors attribute of the SolvePars object to True.\n",
      "\n",
      "For this next step, we will set PlotPars so that the range of D[Fe/H] in the plots is the same for all stars. In addition, the figures will be saved in eps format. By default, q2 saves figures in png format, but that can be changed via the figure_format attribute of the PlotPars object.\n",
      "\n",
      "One last thing: to keep things in order, we will send the plots to a directory odfnew."
     ]
    },
    {
     "cell_type": "code",
     "collapsed": false,
     "input": [
      "sp.grid = 'odfnew'\n",
      "sp.errors = True\n",
      "\n",
      "pp = q2.specpars.PlotPars()\n",
      "pp.afe = [-0.05, 0.35]\n",
      "pp.figure_format = 'eps'\n",
      "pp.directory = 'odfnew'\n",
      "\n",
      "q2.specpars.solve_all(data, sp, 'Hyades_solution_odfnew_err.csv', 'vestaOct', pp)"
     ],
     "language": "python",
     "metadata": {},
     "outputs": [
      {
       "output_type": "stream",
       "stream": "stdout",
       "text": [
        "------------------------------------------------------\n",
        "Initializing ...\n",
        "- Date and time: 07-Oct-2014, 14:29:55\n",
        "- Model atmospheres: odfnew\n",
        "- Star data: ../hyades_stars.csv\n",
        "- Line list: ../hyades_lines.csv\n",
        "------------------------------------------------------\n",
        "\n",
        "*******\n",
        "hd28099\n",
        "*******\n",
        "it Teff logg [Fe/H]  vt           [Fe/H]"
       ]
      },
      {
       "output_type": "stream",
       "stream": "stdout",
       "text": [
        "\n",
        "-- ---- ---- ------ ----      --------------\n",
        " 0 5777 4.44  0.000 1.00 --->  0.172+/-0.035"
       ]
      },
      {
       "output_type": "stream",
       "stream": "stdout",
       "text": [
        "\n",
        " 1 5745 4.76  0.172 1.32 --->  0.093+/-0.083"
       ]
      },
      {
       "output_type": "stream",
       "stream": "stdout",
       "text": [
        "\n",
        " 2 5777 4.44  0.093 1.00 --->  0.182+/-0.034"
       ]
      },
      {
       "output_type": "stream",
       "stream": "stdout",
       "text": [
        "\n",
        " 3 5745 4.76  0.182 1.32 --->  0.094+/-0.083"
       ]
      },
      {
       "output_type": "stream",
       "stream": "stdout",
       "text": [
        "\n",
        " 4 5777 4.44  0.094 1.00 --->  0.182+/-0.034"
       ]
      },
      {
       "output_type": "stream",
       "stream": "stdout",
       "text": [
        "\n",
        "-- Converged at iteration 4 of 50\n",
        " 5 5761 4.60  0.182 1.16 --->  0.144+/-0.045"
       ]
      },
      {
       "output_type": "stream",
       "stream": "stdout",
       "text": [
        "\n",
        " 6 5777 4.44  0.144 1.00 --->  0.189+/-0.035"
       ]
      },
      {
       "output_type": "stream",
       "stream": "stdout",
       "text": [
        "\n",
        " 7 5761 4.60  0.189 1.16 --->  0.145+/-0.045"
       ]
      },
      {
       "output_type": "stream",
       "stream": "stdout",
       "text": [
        "\n",
        "-- Converged at iteration 7 of 50\n",
        " 8 5769 4.52  0.145 1.08 --->  0.166+/-0.032"
       ]
      },
      {
       "output_type": "stream",
       "stream": "stdout",
       "text": [
        "\n",
        " 9 5761 4.44  0.166 1.16 --->  0.146+/-0.030"
       ]
      },
      {
       "output_type": "stream",
       "stream": "stdout",
       "text": [
        "\n",
        "10 5769 4.36  0.146 1.24 --->  0.132+/-0.032"
       ]
      },
      {
       "output_type": "stream",
       "stream": "stdout",
       "text": [
        "\n",
        "11 5777 4.44  0.132 1.32 --->  0.117+/-0.033"
       ]
      },
      {
       "output_type": "stream",
       "stream": "stdout",
       "text": [
        "\n",
        "12 5785 4.36  0.117 1.24 --->  0.139+/-0.033"
       ]
      },
      {
       "output_type": "stream",
       "stream": "stdout",
       "text": [
        "\n",
        "13 5793 4.44  0.139 1.32 --->  0.127+/-0.031"
       ]
      },
      {
       "output_type": "stream",
       "stream": "stdout",
       "text": [
        "\n",
        "14 5801 4.52  0.127 1.24 --->  0.148+/-0.029"
       ]
      },
      {
       "output_type": "stream",
       "stream": "stdout",
       "text": [
        "\n",
        "15 5809 4.44  0.148 1.16 --->  0.173+/-0.031"
       ]
      },
      {
       "output_type": "stream",
       "stream": "stdout",
       "text": [
        "\n",
        "16 5801 4.52  0.173 1.24 --->  0.154+/-0.030"
       ]
      },
      {
       "output_type": "stream",
       "stream": "stdout",
       "text": [
        "\n",
        "17 5809 4.44  0.154 1.16 --->  0.173+/-0.031"
       ]
      },
      {
       "output_type": "stream",
       "stream": "stdout",
       "text": [
        "\n",
        "-- Converged at iteration 17 of 50\n",
        "18 5805 4.48  0.173 1.20 --->  0.164+/-0.029"
       ]
      },
      {
       "output_type": "stream",
       "stream": "stdout",
       "text": [
        "\n",
        "19 5801 4.52  0.164 1.24 --->  0.153+/-0.030"
       ]
      },
      {
       "output_type": "stream",
       "stream": "stdout",
       "text": [
        "\n",
        "20 5805 4.48  0.153 1.20 --->  0.161+/-0.029"
       ]
      },
      {
       "output_type": "stream",
       "stream": "stdout",
       "text": [
        "\n",
        "-- Converged at iteration 20 of 50\n",
        "21 5803 4.50  0.161 1.22 --->  0.156+/-0.029"
       ]
      },
      {
       "output_type": "stream",
       "stream": "stdout",
       "text": [
        "\n",
        "22 5805 4.48  0.156 1.20 --->  0.162+/-0.028"
       ]
      },
      {
       "output_type": "stream",
       "stream": "stdout",
       "text": [
        "\n",
        "23 5803 4.50  0.162 1.22 --->  0.157+/-0.029"
       ]
      },
      {
       "output_type": "stream",
       "stream": "stdout",
       "text": [
        "\n",
        "-- Converged at iteration 23 of 50\n",
        "-- Begin final loop\n",
        "24 5804 4.49  0.157 1.21 --->  0.159+/-0.028"
       ]
      },
      {
       "output_type": "stream",
       "stream": "stdout",
       "text": [
        "\n",
        "25 5805 4.48  0.159 1.20 --->  0.162+/-0.028"
       ]
      },
      {
       "output_type": "stream",
       "stream": "stdout",
       "text": [
        "\n",
        "26 5804 4.49  0.162 1.21 --->  0.159+/-0.028"
       ]
      },
      {
       "output_type": "stream",
       "stream": "stdout",
       "text": [
        "\n",
        "-- Converged at iteration 26 of 50\n",
        "------------------------------------------------------"
       ]
      },
      {
       "output_type": "stream",
       "stream": "stdout",
       "text": [
        "\n",
        "   D[Fe/H]    ||    D[Fe/H] Fe I   |   D[Fe/H] Fe II\n",
        " 0.159  0.028 ||  0.159  0.029  83 |  0.162  0.022   9\n",
        "------------------------------------------------------\n",
        "Solution with formal errors:"
       ]
      },
      {
       "output_type": "stream",
       "stream": "stdout",
       "text": [
        "\n",
        "Teff    =   5804 +/-    23\n",
        "log g   =  4.490 +/- 0.038\n",
        "D[Fe/H] =  0.159 +/- 0.016\n",
        "vt      =   1.21 +/-  0.04\n",
        "------------------------------------------------------\n",
        "\n",
        "*******\n",
        "hd29310\n",
        "*******\n",
        "it Teff logg [Fe/H]  vt           [Fe/H]"
       ]
      },
      {
       "output_type": "stream",
       "stream": "stdout",
       "text": [
        "\n",
        "-- ---- ---- ------ ----      --------------\n",
        " 0 5777 4.44  0.000 1.00 --->  0.069+/-0.080"
       ]
      },
      {
       "output_type": "stream",
       "stream": "stdout",
       "text": [
        "\n",
        " 1 5809 4.12  0.069 1.32 --->  0.033+/-0.061"
       ]
      },
      {
       "output_type": "stream",
       "stream": "stdout",
       "text": [
        "\n",
        " 2 5841 3.80  0.033 1.64 ---> -0.018+/-0.079"
       ]
      },
      {
       "output_type": "stream",
       "stream": "stdout",
       "text": [
        "\n",
        " 3 5873 4.12 -0.018 1.32 --->  0.069+/-0.055"
       ]
      },
      {
       "output_type": "stream",
       "stream": "stdout",
       "text": [
        "\n",
        " 4 5905 4.44  0.069 1.64 --->  0.020+/-0.075"
       ]
      },
      {
       "output_type": "stream",
       "stream": "stdout",
       "text": [
        "\n",
        " 5 5937 4.12  0.020 1.32 --->  0.104+/-0.058"
       ]
      },
      {
       "output_type": "stream",
       "stream": "stdout",
       "text": [
        "\n",
        " 6 5969 4.44  0.104 1.64 --->  0.054+/-0.063"
       ]
      },
      {
       "output_type": "stream",
       "stream": "stdout",
       "text": [
        "\n",
        " 7 6001 4.12  0.054 1.32 --->  0.139+/-0.067"
       ]
      },
      {
       "output_type": "stream",
       "stream": "stdout",
       "text": [
        "\n",
        " 8 5969 4.44  0.139 1.64 --->  0.056+/-0.064"
       ]
      },
      {
       "output_type": "stream",
       "stream": "stdout",
       "text": [
        "\n",
        " 9 6001 4.12  0.056 1.32 --->  0.139+/-0.067"
       ]
      },
      {
       "output_type": "stream",
       "stream": "stdout",
       "text": [
        "\n",
        "-- Converged at iteration 9 of 50\n",
        "10 5985 4.28  0.139 1.48 --->  0.093+/-0.049"
       ]
      },
      {
       "output_type": "stream",
       "stream": "stdout",
       "text": [
        "\n",
        "11 6001 4.44  0.093 1.32 --->  0.133+/-0.045"
       ]
      },
      {
       "output_type": "stream",
       "stream": "stdout",
       "text": [
        "\n",
        "12 5985 4.28  0.133 1.48 --->  0.093+/-0.049"
       ]
      },
      {
       "output_type": "stream",
       "stream": "stdout",
       "text": [
        "\n",
        "-- Converged at iteration 12 of 50\n",
        "13 5993 4.36  0.093 1.40 --->  0.111+/-0.046"
       ]
      },
      {
       "output_type": "stream",
       "stream": "stdout",
       "text": [
        "\n",
        "14 6001 4.28  0.111 1.32 --->  0.136+/-0.050"
       ]
      },
      {
       "output_type": "stream",
       "stream": "stdout",
       "text": [
        "\n",
        "15 5993 4.36  0.136 1.40 --->  0.113+/-0.047"
       ]
      },
      {
       "output_type": "stream",
       "stream": "stdout",
       "text": [
        "\n",
        "-- Converged at iteration 15 of 50\n",
        "16 5997 4.32  0.113 1.36 --->  0.122+/-0.047"
       ]
      },
      {
       "output_type": "stream",
       "stream": "stdout",
       "text": [
        "\n",
        "17 6001 4.36  0.122 1.40 --->  0.118+/-0.046"
       ]
      },
      {
       "output_type": "stream",
       "stream": "stdout",
       "text": [
        "\n",
        "18 6005 4.32  0.118 1.36 --->  0.130+/-0.047"
       ]
      },
      {
       "output_type": "stream",
       "stream": "stdout",
       "text": [
        "\n",
        "19 6009 4.36  0.130 1.40 --->  0.124+/-0.046"
       ]
      },
      {
       "output_type": "stream",
       "stream": "stdout",
       "text": [
        "\n",
        "20 6013 4.40  0.124 1.36 --->  0.134+/-0.046"
       ]
      },
      {
       "output_type": "stream",
       "stream": "stdout",
       "text": [
        "\n",
        "21 6017 4.36  0.134 1.40 --->  0.129+/-0.046"
       ]
      },
      {
       "output_type": "stream",
       "stream": "stdout",
       "text": [
        "\n",
        "22 6021 4.40  0.129 1.36 --->  0.140+/-0.046"
       ]
      },
      {
       "output_type": "stream",
       "stream": "stdout",
       "text": [
        "\n",
        "23 6017 4.36  0.140 1.40 --->  0.130+/-0.046"
       ]
      },
      {
       "output_type": "stream",
       "stream": "stdout",
       "text": [
        "\n",
        "24 6021 4.40  0.130 1.44 --->  0.123+/-0.046"
       ]
      },
      {
       "output_type": "stream",
       "stream": "stdout",
       "text": [
        "\n",
        "-- Converged at iteration 24 of 50\n",
        "25 6023 4.38  0.123 1.42 --->  0.128+/-0.046"
       ]
      },
      {
       "output_type": "stream",
       "stream": "stdout",
       "text": [
        "\n",
        "26 6025 4.40  0.128 1.40 --->  0.134+/-0.046"
       ]
      },
      {
       "output_type": "stream",
       "stream": "stdout",
       "text": [
        "\n",
        "27 6027 4.38  0.134 1.38 --->  0.140+/-0.046"
       ]
      },
      {
       "output_type": "stream",
       "stream": "stdout",
       "text": [
        "\n",
        "28 6025 4.40  0.140 1.40 --->  0.135+/-0.046"
       ]
      },
      {
       "output_type": "stream",
       "stream": "stdout",
       "text": [
        "\n",
        "29 6027 4.38  0.135 1.38 --->  0.140+/-0.046"
       ]
      },
      {
       "output_type": "stream",
       "stream": "stdout",
       "text": [
        "\n",
        "-- Converged at iteration 29 of 50\n",
        "-- Begin final loop\n",
        "30 6026 4.39  0.140 1.39 --->  0.137+/-0.046"
       ]
      },
      {
       "output_type": "stream",
       "stream": "stdout",
       "text": [
        "\n",
        "31 6027 4.40  0.137 1.40 --->  0.136+/-0.046"
       ]
      },
      {
       "output_type": "stream",
       "stream": "stdout",
       "text": [
        "\n",
        "32 6028 4.41  0.136 1.39 --->  0.138+/-0.046"
       ]
      },
      {
       "output_type": "stream",
       "stream": "stdout",
       "text": [
        "\n",
        "33 6029 4.40  0.138 1.38 --->  0.141+/-0.046"
       ]
      },
      {
       "output_type": "stream",
       "stream": "stdout",
       "text": [
        "\n",
        "34 6028 4.41  0.141 1.39 --->  0.139+/-0.046"
       ]
      },
      {
       "output_type": "stream",
       "stream": "stdout",
       "text": [
        "\n",
        "35 6027 4.40  0.139 1.38 --->  0.140+/-0.046"
       ]
      },
      {
       "output_type": "stream",
       "stream": "stdout",
       "text": [
        "\n",
        "-- Converged at iteration 35 of 50\n",
        "------------------------------------------------------"
       ]
      },
      {
       "output_type": "stream",
       "stream": "stdout",
       "text": [
        "\n",
        "   D[Fe/H]    ||    D[Fe/H] Fe I   |   D[Fe/H] Fe II\n",
        " 0.140  0.046 ||  0.140  0.047  81 |  0.139  0.039   9\n",
        "------------------------------------------------------\n",
        "Solution with formal errors:"
       ]
      },
      {
       "output_type": "stream",
       "stream": "stdout",
       "text": [
        "\n",
        "Teff    =   6027 +/-    35\n",
        "log g   =  4.400 +/- 0.067\n",
        "D[Fe/H] =  0.140 +/- 0.025\n",
        "vt      =   1.38 +/-  0.05\n",
        "------------------------------------------------------\n",
        "\n",
        "********\n",
        "vestaOct\n",
        "********\n",
        "Reference star. No calculations needed.\n",
        "it Teff logg [Fe/H]  vt           [Fe/H]"
       ]
      },
      {
       "output_type": "stream",
       "stream": "stdout",
       "text": [
        "\n",
        "-- ---- ---- ------ ----      --------------\n",
        " 0 5777 4.44  0.000 1.00 --->  0.000+/-0.000\n",
        "--\n",
        "------------------------------------------------------\n",
        "   D[Fe/H]    ||    D[Fe/H] Fe I   |   D[Fe/H] Fe II\n",
        " 0.000  0.000 ||  0.000  0.000   0 |  0.000  0.000   0\n",
        "------------------------------------------------------\n",
        "\n",
        "------------------------------------------------------\n",
        "- Date and time: 07-Oct-2014, 14:31:09\n",
        "- Time elapsed: 0H 1M 13S\n",
        "Done!\n",
        "------------------------------------------------------\n",
        "\n"
       ]
      }
     ],
     "prompt_number": 3
    },
    {
     "cell_type": "markdown",
     "metadata": {},
     "source": [
      "Let's have a look at the output file Hyades_solution_odfnew_err.csv. Our final \"spectroscopic\" parameters and their formal errors are there (teff_out, logg_out, etc.). The information from the last iteration of iron_stats is also copied there for reference.\n",
      "\n",
      "The most tedious part of elemental abundance work is the derivation of fundamental parameters Teff, logg, vt. Once those are set (as they are now in this Hyades example) deriving abundances is really straightforward. In Part 4 of this Tutorial we will deal with that."
     ]
    }
   ],
   "metadata": {}
  }
 ]
}