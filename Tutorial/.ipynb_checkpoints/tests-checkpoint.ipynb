{
 "metadata": {
  "name": "",
  "signature": "sha256:e9d58d967ff5322fe7bf156aee7231c576a815c3b9b92bc2f93a833c152f5c84"
 },
 "nbformat": 3,
 "nbformat_minor": 0,
 "worksheets": [
  {
   "cells": [
    {
     "cell_type": "code",
     "collapsed": false,
     "input": [
      "import q2"
     ],
     "language": "python",
     "metadata": {},
     "outputs": [],
     "prompt_number": 6
    },
    {
     "cell_type": "code",
     "collapsed": false,
     "input": [
      "reload(q2.star)\n",
      "sun = q2.star.Star('Sun', 5777, 4.437, 0, 1.0)\n",
      "sun"
     ],
     "language": "python",
     "metadata": {},
     "outputs": [
      {
       "metadata": {},
       "output_type": "pyout",
       "prompt_number": 36,
       "text": [
        "Star object named 'Sun':\n",
        "  Teff = 5777 K, logg = 4.437, feh = 0, vt = 1.0 km/s"
       ]
      }
     ],
     "prompt_number": 36
    },
    {
     "cell_type": "code",
     "collapsed": false,
     "input": [
      "st = q2.star.Star()\n",
      "st"
     ],
     "language": "python",
     "metadata": {},
     "outputs": [
      {
       "metadata": {},
       "output_type": "pyout",
       "prompt_number": 34,
       "text": [
        "Star object named 'Unnamed star':\n",
        "  Teff = None K, logg = None, feh = None, vt = None km/s"
       ]
      }
     ],
     "prompt_number": 34
    },
    {
     "cell_type": "code",
     "collapsed": false,
     "input": [],
     "language": "python",
     "metadata": {},
     "outputs": []
    }
   ],
   "metadata": {}
  }
 ]
}