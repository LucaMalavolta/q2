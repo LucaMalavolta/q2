{
 "metadata": {
  "name": "",
  "signature": "sha256:953a1a3e1c4b6a7df26595c50bfb34f3df562282eb55f40377f6af2e0ebc95fc"
 },
 "nbformat": 3,
 "nbformat_minor": 0,
 "worksheets": [
  {
   "cells": [
    {
     "cell_type": "markdown",
     "metadata": {},
     "source": [
      "*Under Construction*\n",
      "\n",
      "#q<sup>2</sup> Tutorial - 4. Elemental abundances\n",
      "\n",
      "Our hyades_lines.csv file contains rows with atomic data and EWs for C, O, and Ba lines, in addition to the Fe lines we employed before. We can use those data to measure the C, O, and Ba abundances of the stars in our Hyades list.\n",
      "\n",
      "As usual, let's move to the Demo directory, import q<sup>2</sup>, and upload the data. At this point we should use the atmospheric parameters that we have derived using q<sup>2</sup>; i.e., not the inputs given in our original csv file, but those in the Hyades_solution.csv file we created in Part 3 of this Tutorial."
     ]
    },
    {
     "cell_type": "code",
     "collapsed": false,
     "input": [
      "import os\n",
      "os.chdir('Demo')\n",
      "\n",
      "import q2\n",
      "\n",
      "data = q2.Data('Hyades_solution.csv', '../hyades_lines.csv')"
     ],
     "language": "python",
     "metadata": {},
     "outputs": [],
     "prompt_number": 1
    },
    {
     "cell_type": "markdown",
     "metadata": {},
     "source": [
      "Let's create a star object for hd29310 and load its data. Since we are going to use MOOG to measure the abundances, a model atmosphere is required. We will get one from the marcs grid."
     ]
    },
    {
     "cell_type": "code",
     "collapsed": false,
     "input": [
      "star = q2.Star('hd29310')\n",
      "star.get_data_from(data)\n",
      "star.get_model_atmosphere('marcs')"
     ],
     "language": "python",
     "metadata": {},
     "outputs": [],
     "prompt_number": 2
    },
    {
     "cell_type": "markdown",
     "metadata": {},
     "source": [
      "We should be familiar enough with q<sup>2</sup> at this point to know that this is all that is needed to calculate the abundances. We just need to tell q<sup>2</sup> which species we are interested in measuring. Our linelist contains not only the C, O, and Ba lines, but also the Fe lines. We do this with a species_id list that we pass to q2.abundances.one. The latter is a function that calculates abundances of elements in species_id for a star object. Let's begin with C and Ba."
     ]
    },
    {
     "cell_type": "code",
     "collapsed": false,
     "input": [
      "species_ids = ['CI', 'BaII']\n",
      "q2.abundances.one(star, species_ids)"
     ],
     "language": "python",
     "metadata": {},
     "outputs": [],
     "prompt_number": 3
    },
    {
     "cell_type": "markdown",
     "metadata": {},
     "source": [
      "The q2.abundances.one function adds \"species\" attributes to the star object. For example, star.CI contains the results of the CI abundace calculation. This new attribute is an array, and the line-by-line abundances are in the 'ab' column."
     ]
    },
    {
     "cell_type": "code",
     "collapsed": false,
     "input": [
      "print star.CI['ab']\n",
      "print star.BaII['ab']\n",
      "\n",
      "import numpy as np\n",
      "print \"Average C and Ba abundances:\"\n",
      "print \"A(C)  = {0:.2f} +/- {1:.2f}\".format(np.mean(star.CI['ab']), np.std(star.CI['ab']))\n",
      "print \"A(Ba) = {0:.2f} +/- {1:.2f}\".format(np.mean(star.BaII['ab']), np.std(star.BaII['ab']))"
     ],
     "language": "python",
     "metadata": {},
     "outputs": [
      {
       "output_type": "stream",
       "stream": "stdout",
       "text": [
        "[ 8.481  8.559  8.485  8.517]\n",
        "[ 4.296  6.043  4.283]\n",
        "Average C and Ba abundances:\n",
        "A(C)  = 8.51 +/- 0.03\n",
        "A(Ba) = 4.87 +/- 0.83\n"
       ]
      }
     ],
     "prompt_number": 4
    },
    {
     "cell_type": "markdown",
     "metadata": {},
     "source": [
      "If we look at the \"lines\" file again, we will notice that the BaII lines take into account hyperfine structure (HFS). q<sup>2</sup> will figure out when HFS is needed and it will be careful enough to create MOOG linelists in the proper format.\n",
      "\n",
      "The line-to-line scatter of the Ba abundances is huge. This is probably due to non-LTE effects. Differential analysis could reduce that error a bit (see below).\n",
      "\n",
      "Now, let's do oxygen."
     ]
    },
    {
     "cell_type": "code",
     "collapsed": false,
     "input": [
      "species_ids = ['OI']\n",
      "q2.abundances.one(star, species_ids, silent=False)"
     ],
     "language": "python",
     "metadata": {},
     "outputs": [
      {
       "output_type": "stream",
       "stream": "stdout",
       "text": [
        "\n",
        "777 nm oxygen abundances will be NLTE corrected\n",
        "Wavelength (A) | A(O) LTE | Correction | A(O) NLTE"
       ]
      },
      {
       "output_type": "stream",
       "stream": "stdout",
       "text": [
        "\n",
        "   7771.9      |   8.986  |    0.173   |  8.813\n",
        "   7774.2      |   8.981  |    0.168   |  8.813\n",
        "   7775.4      |   8.921  |    0.147   |  8.774\n",
        "A(O) LTE  =  8.963 +/- 0.030\n",
        "A(O) NLTE =  8.800 +/- 0.018\n"
       ]
      }
     ],
     "prompt_number": 5
    },
    {
     "cell_type": "markdown",
     "metadata": {},
     "source": [
      "Oxygen is a special case in q2. By default it is NLTE corrected using the grid by Ramirez et al. (2007). For reference, details of this correction are printed on screen, if requested by the silent parameter (True by default, set to False here to print the information on screen).\n",
      "\n",
      "Calculating differential abundances is also easy. All we need to do is pass a Ref(erence) object to q2.abundances.one. We will use the vestaOct data as reference, creating a ref object and loading its data onto it, in addition to creating a model atmosphere of the same grid (marcs), for consistency. Note that we are now calculating abundances for all three species at once."
     ]
    },
    {
     "cell_type": "code",
     "collapsed": false,
     "input": [
      "ref = q2.Star('vestaOct')\n",
      "ref.get_data_from(data)\n",
      "ref.get_model_atmosphere('marcs')\n",
      "\n",
      "species_ids = ['CaI', 'OI', 'BaII']\n",
      "q2.abundances.one(star, species_ids, Ref=ref, silent=False)"
     ],
     "language": "python",
     "metadata": {},
     "outputs": [
      {
       "output_type": "stream",
       "stream": "stdout",
       "text": [
        "\n",
        "777 nm oxygen abundances will be NLTE corrected\n",
        "Wavelength (A) | A(O) LTE | Correction | A(O) NLTE"
       ]
      },
      {
       "output_type": "stream",
       "stream": "stdout",
       "text": [
        "\n",
        "   7771.9      |   8.986  |    0.173   |  8.813\n",
        "   7774.2      |   8.981  |    0.168   |  8.813\n",
        "   7775.4      |   8.921  |    0.147   |  8.774\n",
        "A(O) LTE  =  8.963 +/- 0.030\n",
        "A(O) NLTE =  8.800 +/- 0.018\n"
       ]
      },
      {
       "output_type": "stream",
       "stream": "stdout",
       "text": [
        "\n",
        "777 nm oxygen abundances will be NLTE corrected (Reference)\n",
        "OI done"
       ]
      },
      {
       "output_type": "stream",
       "stream": "stdout",
       "text": [
        "\n",
        "BaII done"
       ]
      },
      {
       "output_type": "stream",
       "stream": "stdout",
       "text": [
        "\n",
        "All species completed\n"
       ]
      }
     ],
     "prompt_number": 6
    },
    {
     "cell_type": "markdown",
     "metadata": {},
     "source": [
      "Something else"
     ]
    },
    {
     "cell_type": "code",
     "collapsed": false,
     "input": [
      "print star.OI.keys()\n",
      "print star.OI['ab']\n",
      "print star.OI['difab']\n",
      "print np.mean(star.OI['difab'])\n",
      "print np.std(star.OI['difab'])\n",
      "\n",
      "print(star.BaII)\n",
      "print(star.BaII['ab'])\n",
      "print(star.BaII['difab'])\n",
      "print(np.mean(star.BaII['difab']))\n",
      "print(np.std(star.BaII['difab']))"
     ],
     "language": "python",
     "metadata": {},
     "outputs": [
      {
       "output_type": "stream",
       "stream": "stdout",
       "text": [
        "['ab', 'difab', 'rew', 'ww', 'ew', 'ep']\n",
        "[8.813 8.813 8.774]\n",
        "[0.14000000000000057, 0.14800000000000146, 0.090999999999999304]\n",
        "0.126333333333\n",
        "0.0251970015853\n",
        "{'ab': array([ 4.296,  6.043,  4.283]), 'difab': [0.15399999999999991, 0.26700000000000035, 0.49200000000000044], 'rew': array([-4.876, -4.625, -4.642]), 'ww': array([ 5853.696,  6141.695,  6496.9  ]), 'ew': array([  77.9,  145.8,  148.1]), 'ep': array([ 0.604,  0.704,  0.604])}\n",
        "[ 4.296  6.043  4.283]\n",
        "[0.15399999999999991, 0.26700000000000035, 0.49200000000000044]\n",
        "0.304333333333\n",
        "0.140490410903\n"
       ]
      }
     ],
     "prompt_number": 7
    },
    {
     "cell_type": "markdown",
     "metadata": {},
     "source": [
      "Something something"
     ]
    },
    {
     "cell_type": "code",
     "collapsed": false,
     "input": [
      "q2.abundances.all(data, ['CI', 'OI', 'BaII'], 'Hyades_abundances.csv', 'vestaOct')"
     ],
     "language": "python",
     "metadata": {},
     "outputs": [
      {
       "output_type": "stream",
       "stream": "stdout",
       "text": [
        "------------------------------------------------------\n",
        "Initializing ...\n",
        "- Date and time: 2014-11-18 06:40:38.621226\n",
        "- Model atmospheres: odfnew\n",
        "- Star data: Hyades_solution.csv\n",
        "- Line list: ../hyades_lines.csv\n",
        "- Reference star: vestaOct\n",
        "------------------------------------------------------\n"
       ]
      },
      {
       "output_type": "stream",
       "stream": "stdout",
       "text": [
        "\n",
        "*******\n",
        "hd28099\n",
        "*******\n",
        "\n",
        "CI\n",
        "--"
       ]
      },
      {
       "output_type": "stream",
       "stream": "stdout",
       "text": [
        "\n",
        "ABS =  8.500 +/-  0.006\n",
        "DIF =  0.140 +/-  0.049\n",
        "\n",
        "Wavelength   ABS    RES    DIF    RES \n",
        "----------  ----- ------  -----  -----\n",
        " 5052.1670  8.491 -0.009  0.112 -0.028\n",
        " 5380.3370  8.499 -0.001  0.076 -0.064\n",
        " 6587.6100  8.509  0.009  0.175  0.035\n",
        " 7111.4690  8.500  0.000  0.198  0.058\n",
        "\n",
        "OI\n",
        "--\n",
        "ABS =  8.847 +/-  0.018\n",
        "DIF =  0.164 +/-  0.025\n",
        "\n",
        "Wavelength   ABS    RES    DIF    RES \n",
        "----------  ----- ------  -----  -----\n",
        " 7771.9440  8.862  0.015  0.179  0.015\n",
        " 7774.1610  8.858  0.011  0.183  0.019\n",
        " 7775.3900  8.822 -0.025  0.129 -0.035\n",
        "\n",
        "BaII\n",
        "----\n",
        "ABS =  4.870 +/-  0.844\n",
        "DIF =  0.277 +/-  0.053\n",
        "\n",
        "Wavelength   ABS    RES    DIF    RES \n",
        "----------  ----- ------  -----  -----\n",
        " 5853.6960  4.387 -0.483  0.227 -0.050\n",
        " 6141.6950  6.057  1.187  0.253 -0.024\n",
        " 6496.9000  4.166 -0.704  0.351  0.074\n",
        "\n",
        "*******\n",
        "hd29310\n",
        "*******\n",
        "\n",
        "CI\n",
        "--"
       ]
      },
      {
       "output_type": "stream",
       "stream": "stdout",
       "text": [
        "\n",
        "ABS =  8.527 +/-  0.032\n",
        "DIF =  0.168 +/-  0.040\n",
        "\n",
        "Wavelength   ABS    RES    DIF    RES \n",
        "----------  ----- ------  -----  -----\n",
        " 5052.1670  8.500 -0.027  0.121 -0.047\n",
        " 5380.3370  8.577  0.050  0.154 -0.014\n",
        " 6587.6100  8.500 -0.027  0.166 -0.002\n",
        " 7111.4690  8.532  0.005  0.230  0.062\n",
        "\n",
        "OI\n",
        "--\n",
        "ABS =  8.813 +/-  0.019\n",
        "DIF =  0.129 +/-  0.026\n",
        "\n",
        "Wavelength   ABS    RES    DIF    RES \n",
        "----------  ----- ------  -----  -----\n",
        " 7771.9440  8.826  0.013  0.143  0.014\n",
        " 7774.1610  8.826  0.013  0.151  0.022\n",
        " 7775.3900  8.786 -0.027  0.093 -0.036\n",
        "\n",
        "BaII\n",
        "----\n",
        "ABS =  4.904 +/-  0.830\n",
        "DIF =  0.311 +/-  0.147\n",
        "\n",
        "Wavelength   ABS    RES    DIF    RES \n",
        "----------  ----- ------  -----  -----\n",
        " 5853.6960  4.312 -0.592  0.152 -0.159\n",
        " 6141.6950  6.078  1.174  0.274 -0.037\n",
        " 6496.9000  4.322 -0.582  0.507  0.196\n",
        "\n",
        "********\n",
        "vestaOct\n",
        "********\n",
        "\n",
        "CI\n",
        "--"
       ]
      },
      {
       "output_type": "stream",
       "stream": "stdout",
       "text": [
        "\n",
        "ABS =  8.360 +/-  0.046\n",
        "DIF =  0.000 +/-  0.000\n",
        "\n",
        "Wavelength   ABS    RES    DIF    RES \n",
        "----------  ----- ------  -----  -----\n",
        " 5052.1670  8.379  0.019  0.000  0.000\n",
        " 5380.3370  8.423  0.063  0.000  0.000\n",
        " 6587.6100  8.334 -0.026  0.000  0.000\n",
        " 7111.4690  8.302 -0.058  0.000  0.000\n",
        "\n",
        "OI\n",
        "--\n",
        "ABS =  8.684 +/-  0.007\n",
        "DIF =  0.000 +/-  0.000\n",
        "\n",
        "Wavelength   ABS    RES    DIF    RES \n",
        "----------  ----- ------  -----  -----\n",
        " 7771.9440  8.683 -0.001  0.000  0.000\n",
        " 7774.1610  8.675 -0.009  0.000  0.000\n",
        " 7775.3900  8.693  0.009  0.000  0.000\n",
        "\n",
        "BaII\n",
        "----\n",
        "ABS =  4.593 +/-  0.868\n",
        "DIF =  0.000 +/-  0.000\n",
        "\n",
        "Wavelength   ABS    RES    DIF    RES \n",
        "----------  ----- ------  -----  -----\n",
        " 5853.6960  4.160 -0.433  0.000  0.000\n",
        " 6141.6950  5.804  1.211  0.000  0.000\n",
        " 6496.9000  3.815 -0.778  0.000  0.000\n",
        "\n",
        "------------------------------------------------------\n",
        "- Date and time: 2014-11-18 06:40:45.530571\n",
        "- Time elapsed: 0:00:06.909345\n",
        "Done!\n",
        "------------------------------------------------------\n",
        "\n"
       ]
      }
     ],
     "prompt_number": 8
    },
    {
     "cell_type": "markdown",
     "metadata": {},
     "source": [
      "That's it!"
     ]
    }
   ],
   "metadata": {}
  }
 ]
}