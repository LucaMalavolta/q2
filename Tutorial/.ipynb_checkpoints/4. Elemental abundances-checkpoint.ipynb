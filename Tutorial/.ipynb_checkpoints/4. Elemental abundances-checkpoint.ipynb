{
 "metadata": {
  "name": "",
  "signature": "sha256:c7caf66f2ec5d56f6171de16785f33108e2a8b40628345d0310dec7a48021692"
 },
 "nbformat": 3,
 "nbformat_minor": 0,
 "worksheets": [
  {
   "cells": [
    {
     "cell_type": "markdown",
     "metadata": {},
     "source": [
      "*Under Construction*\n",
      "\n",
      "#q<sup>2</sup> Tutorial - 4. Elemental abundances\n",
      "\n",
      "Our hyades_lines.csv file contains rows with atomic data and EWs for C, O, and Ba lines, in addition to the Fe lines we employed before. We can use those data to measure the C, O, and Ba abundances of the stars in our Hyades list.\n",
      "\n",
      "As usual, let's move to the Demo directory, import q<sup>2</sup>, and upload the data. At this point we should use the atmospheric parameters that we have derived using q<sup>2</sup>; i.e., not the inputs given in our original csv file, but those in the Hyades_solution.csv file we created in Part 3 of this Tutorial. In the original file we referred to the input parameters as teff_in, logg_in, etc. In Hyades_solution.csv, the parameters are called teff_out, logg_out, etc. q<sup>2</sup> will first try to assign the \"out\" parameters in the csv file. If they are not there, it will use the \"in\" values."
     ]
    },
    {
     "cell_type": "code",
     "collapsed": false,
     "input": [
      "import os\n",
      "os.chdir('Demo')\n",
      "\n",
      "import q2\n",
      "\n",
      "data = q2.Data('Hyades_solution.csv', '../hyades_lines.csv')"
     ],
     "language": "python",
     "metadata": {},
     "outputs": []
    },
    {
     "cell_type": "markdown",
     "metadata": {},
     "source": [
      "Let's create a star object for hd29310 and load its data. Since we are going to use MOOG to measure the abundances, a model atmosphere is required. We will get one from the marcs grid."
     ]
    },
    {
     "cell_type": "code",
     "collapsed": false,
     "input": [
      "star = q2.Star('hd29310')\n",
      "star.get_data_from(data)\n",
      "star.get_model_atmosphere('marcs')"
     ],
     "language": "python",
     "metadata": {},
     "outputs": []
    },
    {
     "cell_type": "markdown",
     "metadata": {},
     "source": [
      "We should be familiar enough with q2 at this point to know that this is all that is needed to calculate the abundances. We just need to tell q2 which species we are interested in measuring. Our linelist contains not only the C, O, and Ba lines, but also the Fe lines. We do this with a species_id list that we pass to q2.abundances.one. The latter is a function that calculates abundances of elements in species_id for a star object. Let's begin with C and Ba."
     ]
    },
    {
     "cell_type": "code",
     "collapsed": false,
     "input": [
      "species_ids = ['CI', 'BaII']\n",
      "q2.abundances.one(star, species_ids)"
     ],
     "language": "python",
     "metadata": {},
     "outputs": []
    },
    {
     "cell_type": "markdown",
     "metadata": {},
     "source": [
      "The q2.abundances.one function adds \"species\" attributes to the star object. For example, star.CI contains the results of the CI abundace calculation. This new attribute is an array, and the line-by-line abundances are in the 'ab' column."
     ]
    },
    {
     "cell_type": "code",
     "collapsed": false,
     "input": [
      "import numpy as np\n",
      "print(star.CI)\n",
      "print(star.BaII)\n",
      "print(np.mean(star.BaII['ab']))\n",
      "print(np.std(star.BaII['ab']))"
     ],
     "language": "python",
     "metadata": {},
     "outputs": []
    },
    {
     "cell_type": "markdown",
     "metadata": {},
     "source": [
      "If we look at the \"lines\" file again, we will notice that the BaII lines consider hyperfine structure. q2 will figure out when HFS is needed and it will be careful enough to create MOOG linelists in the proper format.\n",
      "\n",
      "Now, let's do oxygen."
     ]
    },
    {
     "cell_type": "code",
     "collapsed": false,
     "input": [
      "species_ids = ['OI']\n",
      "q2.abundances.one(star, species_ids)\n",
      "star.OI"
     ],
     "language": "python",
     "metadata": {},
     "outputs": []
    },
    {
     "cell_type": "markdown",
     "metadata": {},
     "source": [
      "Oxygen is a special case in q2. By default it is NLTE corrected using the grid by Ramirez et al. (2007). For reference, details of this correction are printed on screen. \n",
      "\n",
      "Calculating differential abundances is also easy. All we need to do is pass a Ref(erence) object to q2.abundances.one. We will use the vestaOct data as reference, creating a ref object and loading its data onto it, in addition to creating a model atmosphere of the same grid (marcs), for consistency. Note that we are now calculating abundances for all three species."
     ]
    },
    {
     "cell_type": "code",
     "collapsed": false,
     "input": [
      "ref = q2.Star('vestaOct')\n",
      "ref.get_data_from(data)\n",
      "ref.get_model_atmosphere('marcs')\n",
      "\n",
      "species_ids = ['CaI', 'OI', 'BaII']\n",
      "q2.abundances.one(star, species_ids, Ref=ref)"
     ],
     "language": "python",
     "metadata": {},
     "outputs": []
    },
    {
     "cell_type": "markdown",
     "metadata": {},
     "source": [
      "Something else"
     ]
    },
    {
     "cell_type": "code",
     "collapsed": false,
     "input": [
      "print(star.OI)\n",
      "print(star.OI['ab'])\n",
      "print(star.OI['difab'])\n",
      "print(np.mean(star.OI['difab']))\n",
      "print(np.std(star.OI['difab']))\n",
      "\n",
      "print(star.BaII)\n",
      "print(star.BaII['ab'])\n",
      "print(star.BaII['difab'])\n",
      "print(np.mean(star.BaII['difab']))\n",
      "print(np.std(star.BaII['difab']))"
     ],
     "language": "python",
     "metadata": {},
     "outputs": []
    },
    {
     "cell_type": "markdown",
     "metadata": {},
     "source": [
      "Something something"
     ]
    },
    {
     "cell_type": "code",
     "collapsed": false,
     "input": [
      "q2.abundances.all(data, ['CI', 'OI', 'BaII'], 'Hyades_abundances.csv', 'vestaOct')"
     ],
     "language": "python",
     "metadata": {},
     "outputs": []
    },
    {
     "cell_type": "markdown",
     "metadata": {},
     "source": [
      "That's it!"
     ]
    }
   ],
   "metadata": {}
  }
 ]
}