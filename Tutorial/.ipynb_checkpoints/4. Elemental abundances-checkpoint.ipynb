{
 "metadata": {
  "name": ""
 },
 "nbformat": 3,
 "nbformat_minor": 0,
 "worksheets": [
  {
   "cells": [
    {
     "cell_type": "heading",
     "level": 1,
     "metadata": {},
     "source": [
      "q2 Tutorial - Elemental abundances"
     ]
    },
    {
     "cell_type": "markdown",
     "metadata": {},
     "source": [
      "Our lines CSV file contains a few rows with atomic data and EWs for C, O, and Ba lines. We can use those data to measure the C and O abundances of the stars in our Hyades list.\n",
      "\n",
      "As usual, let's move to the Demo directory and upload the data. At this point we should use the atmospheric parameters that we have derived using q2; i.e., not the inputs given in our original CSV file, but those in the Hyades_solution.csv file we create in the previous Part 3 of the q2 Tutorial. In the original file we referred to the input parameters as teff_in, logg_in, etc. In Hyades_solution.csv, the parameters are teff_out, logg_out, etc. q2 will first try to assign the \"out\" parameters in the CSV file. If they are not there, it will use the \"in\" values."
     ]
    },
    {
     "cell_type": "code",
     "collapsed": false,
     "input": [
      "import os\n",
      "os.chdir('Demo')\n",
      "\n",
      "import q2\n",
      "data = q2.Data('Hyades_solution.csv', '../Hyades - Lines.csv')"
     ],
     "language": "python",
     "metadata": {},
     "outputs": [],
     "prompt_number": 1
    },
    {
     "cell_type": "markdown",
     "metadata": {},
     "source": [
      "Let's create a star object for hd29310 and load its data. Since we are going to use MOOG to measure the abundances, a model atmosphere is required. We will get one from the marcs grid."
     ]
    },
    {
     "cell_type": "code",
     "collapsed": false,
     "input": [
      "star = q2.Star('hd29310')\n",
      "star.get_data_from(data)\n",
      "star.get_model_atmosphere('marcs')\n",
      "q2.moog.create_lines_in(star, species=56.1)\n",
      "star.linelist['wavelength']"
     ],
     "language": "python",
     "metadata": {},
     "outputs": [
      {
       "metadata": {},
       "output_type": "pyout",
       "prompt_number": 9,
       "text": [
        "<Column name='wavelength' units=None format=None description=None>\n",
        "array([ 4630.12  ,  4799.41  ,  4800.64  ,  4802.88  ,  4961.91  ,\n",
        "        4962.57  ,  5044.21  ,  5054.64  ,  5127.36  ,  5197.94  ,\n",
        "        5198.71  ,  5217.92  ,  5223.18  ,  5242.49  ,  5243.77  ,\n",
        "        5288.52  ,  5293.96  ,  5295.31  ,  5321.1   ,  5379.57  ,\n",
        "        5386.33  ,  5398.28  ,  5441.34  ,  5464.28  ,  5522.45  ,\n",
        "        5543.94  ,  5546.51  ,  5560.21  ,  5618.63  ,  5619.6   ,\n",
        "        5635.82  ,  5638.26  ,  5650.71  ,  5661.35  ,  5679.02  ,\n",
        "        5696.09  ,  5701.54  ,  5705.46  ,  5741.85  ,  5752.03  ,\n",
        "        5775.08  ,  5778.45  ,  5793.91  ,  5806.73  ,  5809.22  ,\n",
        "        5837.7   ,  5852.22  ,  5855.08  ,  5856.09  ,  5859.59  ,\n",
        "        5862.36  ,  5905.67  ,  5929.68  ,  5956.69  ,  6027.05  ,\n",
        "        6056.01  ,  6078.49  ,  6079.01  ,  6085.26  ,  6093.64  ,\n",
        "        6096.67  ,  6151.62  ,  6165.36  ,  6173.33  ,  6187.99  ,\n",
        "        6200.31  ,  6219.28  ,  6252.56  ,  6265.13  ,  6335.33  ,\n",
        "        6344.15  ,  6380.74  ,  6393.6   ,  6421.35  ,  6430.85  ,\n",
        "        6498.94  ,  6593.87  ,  6597.56  ,  6703.57  ,  6705.1   ,\n",
        "        6713.75  ,  6750.15  ,  6752.71  ,  6810.26  ,  6828.59  ,\n",
        "        6841.34  ,  6843.66  ,  6855.16  ,  6858.15  ,  5132.66  ,\n",
        "        5414.07  ,  5425.26  ,  5525.12  ,  6084.09  ,  6149.24  ,\n",
        "        6238.38  ,  6369.46  ,  6432.68  ,  5052.167 ,  5380.3369,\n",
        "        6587.6099,  7111.469 ,  7771.9438,  7774.1611,  7775.3901,\n",
        "        5853.696 , -5853.697 , -5853.697 , -5853.698 , -5853.699 ,\n",
        "       -5853.699 , -5853.7   , -5853.7   , -5853.7   , -5853.7   ,\n",
        "       -5853.7   , -5853.7   , -5853.7   , -5853.7   , -5853.7   ,\n",
        "       -5853.701 , -5853.702 , -5853.703 , -5853.703 , -5853.704 ,\n",
        "       -5853.704 ,  6141.695 , -6141.695 , -6141.697 , -6141.697 ,\n",
        "       -6141.698 , -6141.698 , -6141.699 , -6141.699 , -6141.699 ,\n",
        "       -6141.699 , -6141.7   , -6141.7   , -6141.7   , -6141.701 ,\n",
        "       -6141.701 , -6141.701 , -6141.701 , -6141.702 , -6141.702 ,\n",
        "       -6141.702 , -6141.703 ,  6496.9   , -6496.906 , -6496.907 ,\n",
        "       -6496.889 , -6496.91  , -6496.892 , -6496.896 , -6496.9   ,\n",
        "       -6496.906 , -6496.908 , -6496.888 , -6496.912 , -6496.891 ,\n",
        "       -6496.896 , -6496.9   ])"
       ]
      }
     ],
     "prompt_number": 9
    },
    {
     "cell_type": "markdown",
     "metadata": {},
     "source": [
      "We should be familiar enough with q2 at this point to know that this is all that is needed to calculate the abundances. We just need to tell q2 which species we are interested in measuring. Our linelist contains not only the C and O lines, but also the Fe lines. We do this with a species_id list that we pass to q2.abundances.one. The latter is a function that calculates abundances of elements in species_id for a star object."
     ]
    },
    {
     "cell_type": "code",
     "collapsed": false,
     "input": [
      "species_ids = ['CI', 'OI']\n",
      "q2.abundances.one(star, species_ids)"
     ],
     "language": "python",
     "metadata": {},
     "outputs": []
    },
    {
     "cell_type": "markdown",
     "metadata": {},
     "source": [
      "Oxygen is a special case in q2. By default it is NLTE corrected using the grid by Ramirez et al. (2007). For your reference, details of this correction are printed on screen. The q2.abundances.one function adds \"species\" attributes to the star object. For example, star.CI contains the results of the CI abundace calculation. This new attribute is an array, and the line-by-line abundances are in the 'ab' column."
     ]
    },
    {
     "cell_type": "code",
     "collapsed": false,
     "input": [
      "print(star.CI)\n",
      "print(star.CI['ab'])\n",
      "print(np.mean(star.CI['ab']))\n",
      "print(np.std(star.CI['ab']))"
     ],
     "language": "python",
     "metadata": {},
     "outputs": []
    },
    {
     "cell_type": "markdown",
     "metadata": {},
     "source": [
      "Calculating differential abundances is also easy. All we need to do is pass a Ref(erence) object to q2.abundances.one. We will use the vestaOct data as reference, creating a ref object and loading its data onto it, in addition to creating a model atmosphere of the same grid (marcs), for consistency."
     ]
    },
    {
     "cell_type": "code",
     "collapsed": false,
     "input": [
      "ref = q2.Star('vestaOct')\n",
      "ref.get_data_from(data)\n",
      "ref.get_model_atmosphere('marcs')\n",
      "q2.abundances.one(star, species_ids, Ref=ref)"
     ],
     "language": "python",
     "metadata": {},
     "outputs": []
    },
    {
     "cell_type": "markdown",
     "metadata": {},
     "source": [
      "Something else"
     ]
    },
    {
     "cell_type": "code",
     "collapsed": false,
     "input": [
      "print(star.OI)\n",
      "print(star.OI['ab'])\n",
      "print(star.OI['difab'])\n",
      "print(np.mean(star.OI['difab']))\n",
      "print(np.std(star.OI['difab']))"
     ],
     "language": "python",
     "metadata": {},
     "outputs": []
    },
    {
     "cell_type": "markdown",
     "metadata": {},
     "source": [
      "Something something"
     ]
    },
    {
     "cell_type": "code",
     "collapsed": false,
     "input": [
      "q2.abundances.all(data, ['CI', 'OI'], 'marcs', 'Hyades_abundances.csv', 'vestaOct')"
     ],
     "language": "python",
     "metadata": {},
     "outputs": []
    },
    {
     "cell_type": "markdown",
     "metadata": {},
     "source": [
      "That's it!"
     ]
    }
   ],
   "metadata": {}
  }
 ]
}