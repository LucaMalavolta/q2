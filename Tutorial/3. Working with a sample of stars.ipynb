{
 "metadata": {
  "name": ""
 },
 "nbformat": 3,
 "nbformat_minor": 0,
 "worksheets": [
  {
   "cells": [
    {
     "cell_type": "heading",
     "level": 2,
     "metadata": {},
     "source": [
      "q2 Tutorial - 3. Working with a sample of stars"
     ]
    },
    {
     "cell_type": "markdown",
     "metadata": {},
     "source": [
      "Let's say we have N stars and we want to derive the spectroscopic parameters for all of them. We could use q2.specpars.solve_one on each star, as we did for Arcturus before, but q2 offers a better option: q2.specpars.solve_all. As the name suggests, this one will solve for parameters for all stars in our input files.\n",
      "\n",
      "For this part of the tutorial we will use data for a couple of Hyades stars. Take a look at the \"stars\" and \"lines\" CSV files to know what we are working with. Note that the files contain vestaOct, which corresponds to a solar spectrum to be used as reference.\n",
      "\n",
      "In Parts 1 and 2 of this Tutorial, both stars had EW measurements for all lines, but q2 is smart enough to identify missing data and will have no problems performing calculations for stars that do not have EW measurements for all lines in the reference star (or viceversa). In fact, our Hyades lines file has some missing EW data.\n",
      "\n",
      "As usual, we move to the Demo folder, import q2, and upload the data."
     ]
    },
    {
     "cell_type": "code",
     "collapsed": false,
     "input": [
      "import os\n",
      "os.chdir('Demo')\n",
      "\n",
      "import q2\n",
      "\n",
      "data = q2.Data('../hyades_stars.csv', '../hyades_lines.csv')"
     ],
     "language": "python",
     "metadata": {},
     "outputs": [],
     "prompt_number": 1
    },
    {
     "cell_type": "markdown",
     "metadata": {},
     "source": [
      "The solve_all function works very much like solve_one, except that instead of referring to a star object, we refer to the data object. q2 will figure out which stars need to be solved (excludes the reference, for example, which in this case is vestaOct --yes, we are doing differential analysis!, and stars that do not have any EWs in the Lines CSV file --that is not the case of this example, though).\n",
      "\n",
      "Note that in this example we are not setting the steps for SolvePars (step_teff, etc.), so they will be large at the beginning. As the parameters converge within those steps, they will reduce automatically. This is common practice when we work on a sample of unknown stars and all we know is that they are solar-type stars. That's why the input parameters for all stars are set to solar.\n",
      "\n",
      "Finally, when working on a sample of stars, the results are saved to an output CSV file, which we are calling Hyades_solution.csv. The output on screen can be informative as well, so we should keep an eye on it (if the number of stars is large, it may be best to send it to a logfile)."
     ]
    },
    {
     "cell_type": "code",
     "collapsed": false,
     "input": [
      "sp = q2.specpars.SolvePars()\n",
      "sp.grid = 'marcs'\n",
      "\n",
      "q2.specpars.solve_all(data, sp, 'Hyades_solution.csv', 'vestaOct')"
     ],
     "language": "python",
     "metadata": {},
     "outputs": [
      {
       "output_type": "stream",
       "stream": "stdout",
       "text": [
        "------------------------------------------------------\n",
        "Initializing ...\n",
        "- Date and time: 2014-02-19 15:10:07.020591\n",
        "- Model atmospheres: marcs\n",
        "- Star data: ../hyades_stars.csv\n",
        "- Line list: ../hyades_lines.csv\n",
        "------------------------------------------------------\n",
        "\n",
        "*******\n",
        "hd28099\n",
        "*******\n",
        "it Teff logg [Fe/H]  vt"
       ]
      },
      {
       "output_type": "stream",
       "stream": "stdout",
       "text": [
        "\n",
        "-- ---- ---- ------ ----\n",
        " 0 5777 4.44  0.000 1.00 --->  0.176"
       ]
      },
      {
       "output_type": "stream",
       "stream": "stdout",
       "text": [
        "\n",
        " 1 5745 4.76  0.176 1.32 --->  0.085"
       ]
      },
      {
       "output_type": "stream",
       "stream": "stdout",
       "text": [
        "\n",
        " 2 5777 4.44  0.085 1.00 --->  0.182"
       ]
      },
      {
       "output_type": "stream",
       "stream": "stdout",
       "text": [
        "\n",
        " 3 5745 4.76  0.182 1.32 --->  0.086"
       ]
      },
      {
       "output_type": "stream",
       "stream": "stdout",
       "text": [
        "\n",
        " 4 5777 4.44  0.086 1.00 --->  0.182"
       ]
      },
      {
       "output_type": "stream",
       "stream": "stdout",
       "text": [
        "\n",
        "-- Converged at iteration 4 of 50\n",
        " 5 5761 4.60  0.182 1.16 --->  0.136"
       ]
      },
      {
       "output_type": "stream",
       "stream": "stdout",
       "text": [
        "\n",
        " 6 5777 4.44  0.136 1.00 --->  0.187"
       ]
      },
      {
       "output_type": "stream",
       "stream": "stdout",
       "text": [
        "\n",
        " 7 5761 4.60  0.187 1.16 --->  0.136"
       ]
      },
      {
       "output_type": "stream",
       "stream": "stdout",
       "text": [
        "\n",
        "-- Converged at iteration 7 of 50\n",
        " 8 5769 4.52  0.136 1.08 --->  0.160"
       ]
      },
      {
       "output_type": "stream",
       "stream": "stdout",
       "text": [
        "\n",
        " 9 5761 4.44  0.160 1.16 --->  0.145"
       ]
      },
      {
       "output_type": "stream",
       "stream": "stdout",
       "text": [
        "\n",
        "10 5769 4.36  0.145 1.24 --->  0.133"
       ]
      },
      {
       "output_type": "stream",
       "stream": "stdout",
       "text": [
        "\n",
        "11 5777 4.44  0.133 1.32 --->  0.118"
       ]
      },
      {
       "output_type": "stream",
       "stream": "stdout",
       "text": [
        "\n",
        "12 5785 4.36  0.118 1.24 --->  0.141"
       ]
      },
      {
       "output_type": "stream",
       "stream": "stdout",
       "text": [
        "\n",
        "13 5793 4.44  0.141 1.32 --->  0.128"
       ]
      },
      {
       "output_type": "stream",
       "stream": "stdout",
       "text": [
        "\n",
        "14 5801 4.52  0.128 1.24 --->  0.146"
       ]
      },
      {
       "output_type": "stream",
       "stream": "stdout",
       "text": [
        "\n",
        "15 5809 4.44  0.146 1.16 --->  0.174"
       ]
      },
      {
       "output_type": "stream",
       "stream": "stdout",
       "text": [
        "\n",
        "16 5801 4.52  0.174 1.24 --->  0.151"
       ]
      },
      {
       "output_type": "stream",
       "stream": "stdout",
       "text": [
        "\n",
        "17 5809 4.44  0.151 1.16 --->  0.174"
       ]
      },
      {
       "output_type": "stream",
       "stream": "stdout",
       "text": [
        "\n",
        "-- Converged at iteration 17 of 50\n",
        "18 5805 4.48  0.174 1.20 --->  0.165"
       ]
      },
      {
       "output_type": "stream",
       "stream": "stdout",
       "text": [
        "\n",
        "19 5801 4.44  0.165 1.24 --->  0.153"
       ]
      },
      {
       "output_type": "stream",
       "stream": "stdout",
       "text": [
        "\n",
        "20 5805 4.48  0.153 1.28 --->  0.145"
       ]
      },
      {
       "output_type": "stream",
       "stream": "stdout",
       "text": [
        "\n",
        "21 5809 4.44  0.145 1.24 --->  0.156"
       ]
      },
      {
       "output_type": "stream",
       "stream": "stdout",
       "text": [
        "\n",
        "22 5813 4.48  0.156 1.28 --->  0.150"
       ]
      },
      {
       "output_type": "stream",
       "stream": "stdout",
       "text": [
        "\n",
        "23 5817 4.52  0.150 1.24 --->  0.158"
       ]
      },
      {
       "output_type": "stream",
       "stream": "stdout",
       "text": [
        "\n",
        "24 5813 4.48  0.158 1.20 --->  0.168"
       ]
      },
      {
       "output_type": "stream",
       "stream": "stdout",
       "text": [
        "\n",
        "25 5809 4.52  0.168 1.24 --->  0.156"
       ]
      },
      {
       "output_type": "stream",
       "stream": "stdout",
       "text": [
        "\n",
        "-- Converged at iteration 25 of 50\n",
        "26 5811 4.50  0.156 1.22 --->  0.162"
       ]
      },
      {
       "output_type": "stream",
       "stream": "stdout",
       "text": [
        "\n",
        "27 5809 4.48  0.162 1.24 --->  0.157"
       ]
      },
      {
       "output_type": "stream",
       "stream": "stdout",
       "text": [
        "\n",
        "28 5811 4.50  0.157 1.26 --->  0.153"
       ]
      },
      {
       "output_type": "stream",
       "stream": "stdout",
       "text": [
        "\n",
        "29 5813 4.48  0.153 1.24 --->  0.159"
       ]
      },
      {
       "output_type": "stream",
       "stream": "stdout",
       "text": [
        "\n",
        "-- Converged at iteration 29 of 50\n",
        "-- Begin final loop\n",
        "30 5812 4.49  0.159 1.25 --->  0.156"
       ]
      },
      {
       "output_type": "stream",
       "stream": "stdout",
       "text": [
        "\n",
        "31 5813 4.50  0.156 1.24 --->  0.159"
       ]
      },
      {
       "output_type": "stream",
       "stream": "stdout",
       "text": [
        "\n",
        "32 5814 4.49  0.159 1.23 --->  0.162"
       ]
      },
      {
       "output_type": "stream",
       "stream": "stdout",
       "text": [
        "\n",
        "33 5813 4.50  0.162 1.24 --->  0.159"
       ]
      },
      {
       "output_type": "stream",
       "stream": "stdout",
       "text": [
        "\n",
        "-- Converged at iteration 33 of 50\n",
        "------------------------------------------------------"
       ]
      },
      {
       "output_type": "stream",
       "stream": "stdout",
       "text": [
        "\n",
        "   D[Fe/H]    ||    D[Fe/H] Fe I   |   D[Fe/H] Fe II\n",
        " 0.159  0.029 ||  0.159  0.030  83 |  0.161  0.021   9\n",
        "------------------------------------------------------\n",
        "\n",
        "*******\n",
        "hd29310\n",
        "*******\n",
        "it Teff logg [Fe/H]  vt"
       ]
      },
      {
       "output_type": "stream",
       "stream": "stdout",
       "text": [
        "\n",
        "-- ---- ---- ------ ----\n",
        " 0 5777 4.44  0.000 1.00 --->  0.067"
       ]
      },
      {
       "output_type": "stream",
       "stream": "stdout",
       "text": [
        "\n",
        " 1 5809 4.12  0.067 1.32 --->  0.037"
       ]
      },
      {
       "output_type": "stream",
       "stream": "stdout",
       "text": [
        "\n",
        " 2 5841 3.80  0.037 1.64 ---> -0.016"
       ]
      },
      {
       "output_type": "stream",
       "stream": "stdout",
       "text": [
        "\n",
        " 3 5873 4.12 -0.016 1.32 --->  0.073"
       ]
      },
      {
       "output_type": "stream",
       "stream": "stdout",
       "text": [
        "\n",
        " 4 5905 4.44  0.073 1.64 --->  0.026"
       ]
      },
      {
       "output_type": "stream",
       "stream": "stdout",
       "text": [
        "\n",
        " 5 5937 4.12  0.026 1.32 --->  0.111"
       ]
      },
      {
       "output_type": "stream",
       "stream": "stdout",
       "text": [
        "\n",
        " 6 5969 4.44  0.111 1.64 --->  0.061"
       ]
      },
      {
       "output_type": "stream",
       "stream": "stdout",
       "text": [
        "\n",
        " 7 6001 4.12  0.061 1.32 --->  0.145"
       ]
      },
      {
       "output_type": "stream",
       "stream": "stdout",
       "text": [
        "\n",
        " 8 5969 4.44  0.145 1.64 --->  0.063"
       ]
      },
      {
       "output_type": "stream",
       "stream": "stdout",
       "text": [
        "\n",
        " 9 6001 4.12  0.063 1.32 --->  0.145"
       ]
      },
      {
       "output_type": "stream",
       "stream": "stdout",
       "text": [
        "\n",
        "-- Converged at iteration 9 of 50\n",
        "10 5985 4.28  0.145 1.48 --->  0.101"
       ]
      },
      {
       "output_type": "stream",
       "stream": "stdout",
       "text": [
        "\n",
        "11 6001 4.44  0.101 1.32 --->  0.138"
       ]
      },
      {
       "output_type": "stream",
       "stream": "stdout",
       "text": [
        "\n",
        "12 5985 4.28  0.138 1.48 --->  0.100"
       ]
      },
      {
       "output_type": "stream",
       "stream": "stdout",
       "text": [
        "\n",
        "-- Converged at iteration 12 of 50\n",
        "13 5993 4.36  0.100 1.40 --->  0.118"
       ]
      },
      {
       "output_type": "stream",
       "stream": "stdout",
       "text": [
        "\n",
        "14 6001 4.28  0.118 1.48 --->  0.107"
       ]
      },
      {
       "output_type": "stream",
       "stream": "stdout",
       "text": [
        "\n",
        "15 6009 4.36  0.107 1.40 --->  0.128"
       ]
      },
      {
       "output_type": "stream",
       "stream": "stdout",
       "text": [
        "\n",
        "16 6017 4.44  0.128 1.48 --->  0.118"
       ]
      },
      {
       "output_type": "stream",
       "stream": "stdout",
       "text": [
        "\n",
        "17 6025 4.36  0.118 1.40 --->  0.139"
       ]
      },
      {
       "output_type": "stream",
       "stream": "stdout",
       "text": [
        "\n",
        "18 6017 4.44  0.139 1.48 --->  0.119"
       ]
      },
      {
       "output_type": "stream",
       "stream": "stdout",
       "text": [
        "\n",
        "19 6025 4.36  0.119 1.40 --->  0.139"
       ]
      },
      {
       "output_type": "stream",
       "stream": "stdout",
       "text": [
        "\n",
        "-- Converged at iteration 19 of 50\n",
        "20 6021 4.40  0.139 1.44 --->  0.129"
       ]
      },
      {
       "output_type": "stream",
       "stream": "stdout",
       "text": [
        "\n",
        "21 6025 4.36  0.129 1.40 --->  0.139"
       ]
      },
      {
       "output_type": "stream",
       "stream": "stdout",
       "text": [
        "\n",
        "22 6021 4.40  0.139 1.44 --->  0.129"
       ]
      },
      {
       "output_type": "stream",
       "stream": "stdout",
       "text": [
        "\n",
        "-- Converged at iteration 22 of 50\n",
        "23 6023 4.38  0.129 1.42 --->  0.134"
       ]
      },
      {
       "output_type": "stream",
       "stream": "stdout",
       "text": [
        "\n",
        "24 6025 4.40  0.134 1.44 --->  0.131"
       ]
      },
      {
       "output_type": "stream",
       "stream": "stdout",
       "text": [
        "\n",
        "25 6027 4.42  0.131 1.42 --->  0.137"
       ]
      },
      {
       "output_type": "stream",
       "stream": "stdout",
       "text": [
        "\n",
        "26 6029 4.40  0.137 1.40 --->  0.142"
       ]
      },
      {
       "output_type": "stream",
       "stream": "stdout",
       "text": [
        "\n",
        "27 6027 4.42  0.142 1.42 --->  0.137"
       ]
      },
      {
       "output_type": "stream",
       "stream": "stdout",
       "text": [
        "\n",
        "28 6029 4.40  0.137 1.40 --->  0.142"
       ]
      },
      {
       "output_type": "stream",
       "stream": "stdout",
       "text": [
        "\n",
        "-- Converged at iteration 28 of 50\n",
        "-- Begin final loop\n",
        "29 6028 4.41  0.142 1.41 --->  0.140"
       ]
      },
      {
       "output_type": "stream",
       "stream": "stdout",
       "text": [
        "\n",
        "30 6029 4.40  0.140 1.42 --->  0.138"
       ]
      },
      {
       "output_type": "stream",
       "stream": "stdout",
       "text": [
        "\n",
        "31 6030 4.41  0.138 1.43 --->  0.137"
       ]
      },
      {
       "output_type": "stream",
       "stream": "stdout",
       "text": [
        "\n",
        "32 6031 4.42  0.137 1.42 --->  0.139"
       ]
      },
      {
       "output_type": "stream",
       "stream": "stdout",
       "text": [
        "\n",
        "33 6032 4.41  0.139 1.41 --->  0.142"
       ]
      },
      {
       "output_type": "stream",
       "stream": "stdout",
       "text": [
        "\n",
        "34 6031 4.42  0.142 1.42 --->  0.140"
       ]
      },
      {
       "output_type": "stream",
       "stream": "stdout",
       "text": [
        "\n",
        "35 6032 4.41  0.140 1.41 --->  0.142"
       ]
      },
      {
       "output_type": "stream",
       "stream": "stdout",
       "text": [
        "\n",
        "-- Converged at iteration 35 of 50\n",
        "------------------------------------------------------"
       ]
      },
      {
       "output_type": "stream",
       "stream": "stdout",
       "text": [
        "\n",
        "   D[Fe/H]    ||    D[Fe/H] Fe I   |   D[Fe/H] Fe II\n",
        " 0.142  0.048 ||  0.143  0.049  81 |  0.139  0.037   9\n",
        "------------------------------------------------------\n",
        "\n",
        "********\n",
        "vestaOct\n",
        "********\n",
        "Reference star. No calculations needed.\n",
        "it Teff logg [Fe/H]  vt"
       ]
      },
      {
       "output_type": "stream",
       "stream": "stdout",
       "text": [
        "\n",
        "-- ---- ---- ------ ----\n",
        " 0 5777 4.44  0.000 1.00 --->  0.000\n",
        "--\n",
        "------------------------------------------------------\n",
        "   D[Fe/H]    ||    D[Fe/H] Fe I   |   D[Fe/H] Fe II\n",
        " 0.000  0.000 ||  0.000  0.000   0 |  0.000  0.000   0\n",
        "------------------------------------------------------\n",
        "\n",
        "------------------------------------------------------\n",
        "- Date and time: 2014-02-19 15:11:35.832256\n",
        "- Time elapsed: 0:01:28.811665\n",
        "Done!\n",
        "------------------------------------------------------\n",
        "\n"
       ]
      }
     ],
     "prompt_number": 2
    },
    {
     "cell_type": "markdown",
     "metadata": {},
     "source": [
      "Let's have a look at the output file (Hyades_solution.csv). It contains all the final parameters that we would now use to derive abundances of elements other than iron, for example, or whatever it is that we need them for.\n",
      "\n",
      "We should always check the column converged. They should all be True; otherwise we need to re-iterate.\n",
      "\n",
      "Automating MOOG has many advantages. Let's say, for example, that for whatever reason we want to re-do all the calculations, but using Kurucz's ODFNEW model atmospheres instead of MARCS. All we have to do then is re-define sp.grid and re-do the calculations.\n",
      "\n",
      "By default, q2.specpars.solve_all does not calculate the formal errors (hence the -1 values in the error columns of the output file). The reason is that error calculation can be time-consuming and we only really need to do it once we are happy with our solutions. To turn-on error calculation, simply change the errors attribute of the SolvePars object to True.\n",
      "\n",
      "Also, here we are setting PlotPars so that the range of D[Fe/H] in the plots is the same for all stars. In addition, the figures will be saved in eps format. By default, q2 saves figures in png format, but that can be changed via the figure_format attribute of the PlotPars object.\n",
      "\n",
      "One last thing: to keep things in order, we will send the plots to a directory odfnew."
     ]
    },
    {
     "cell_type": "code",
     "collapsed": false,
     "input": [
      "sp.grid = 'odfnew'\n",
      "sp.errors = True\n",
      "\n",
      "pp = q2.specpars.PlotPars()\n",
      "pp.afe = [-0.05, 0.35]\n",
      "pp.figure_format = 'eps'\n",
      "pp.directory = 'odfnew'\n",
      "\n",
      "q2.specpars.solve_all(data, sp, 'Hyades_solution_odfnew_err.csv', 'vestaOct', pp)"
     ],
     "language": "python",
     "metadata": {},
     "outputs": [
      {
       "output_type": "stream",
       "stream": "stdout",
       "text": [
        "------------------------------------------------------\n",
        "Initializing ...\n",
        "- Date and time: 2014-02-19 15:12:37.750960\n",
        "- Model atmospheres: odfnew\n",
        "- Star data: ../hyades_stars.csv\n",
        "- Line list: ../hyades_lines.csv\n",
        "------------------------------------------------------\n",
        "\n",
        "*******\n",
        "hd28099\n",
        "*******\n",
        "it Teff logg [Fe/H]  vt"
       ]
      },
      {
       "output_type": "stream",
       "stream": "stdout",
       "text": [
        "\n",
        "-- ---- ---- ------ ----\n",
        " 0 5777 4.44  0.000 1.00 --->  0.184"
       ]
      },
      {
       "output_type": "stream",
       "stream": "stdout",
       "text": [
        "\n",
        " 1 5745 4.76  0.184 1.32 --->  0.091"
       ]
      },
      {
       "output_type": "stream",
       "stream": "stdout",
       "text": [
        "\n",
        " 2 5777 4.44  0.091 1.00 --->  0.186"
       ]
      },
      {
       "output_type": "stream",
       "stream": "stdout",
       "text": [
        "\n",
        " 3 5745 4.76  0.186 1.32 --->  0.092"
       ]
      },
      {
       "output_type": "stream",
       "stream": "stdout",
       "text": [
        "\n",
        " 4 5777 4.44  0.092 1.00 --->  0.186"
       ]
      },
      {
       "output_type": "stream",
       "stream": "stdout",
       "text": [
        "\n",
        "-- Converged at iteration 4 of 50\n",
        " 5 5761 4.60  0.186 1.16 --->  0.142"
       ]
      },
      {
       "output_type": "stream",
       "stream": "stdout",
       "text": [
        "\n",
        " 6 5777 4.44  0.142 1.00 --->  0.191"
       ]
      },
      {
       "output_type": "stream",
       "stream": "stdout",
       "text": [
        "\n",
        " 7 5761 4.60  0.191 1.16 --->  0.143"
       ]
      },
      {
       "output_type": "stream",
       "stream": "stdout",
       "text": [
        "\n",
        "-- Converged at iteration 7 of 50\n",
        " 8 5769 4.52  0.143 1.08 --->  0.165"
       ]
      },
      {
       "output_type": "stream",
       "stream": "stdout",
       "text": [
        "\n",
        " 9 5761 4.44  0.165 1.16 --->  0.149"
       ]
      },
      {
       "output_type": "stream",
       "stream": "stdout",
       "text": [
        "\n",
        "10 5769 4.36  0.149 1.24 --->  0.137"
       ]
      },
      {
       "output_type": "stream",
       "stream": "stdout",
       "text": [
        "\n",
        "11 5777 4.44  0.137 1.32 --->  0.121"
       ]
      },
      {
       "output_type": "stream",
       "stream": "stdout",
       "text": [
        "\n",
        "12 5785 4.36  0.121 1.24 --->  0.144"
       ]
      },
      {
       "output_type": "stream",
       "stream": "stdout",
       "text": [
        "\n",
        "13 5793 4.44  0.144 1.32 --->  0.132"
       ]
      },
      {
       "output_type": "stream",
       "stream": "stdout",
       "text": [
        "\n",
        "14 5801 4.52  0.132 1.24 --->  0.151"
       ]
      },
      {
       "output_type": "stream",
       "stream": "stdout",
       "text": [
        "\n",
        "15 5809 4.44  0.151 1.16 --->  0.177"
       ]
      },
      {
       "output_type": "stream",
       "stream": "stdout",
       "text": [
        "\n",
        "16 5801 4.52  0.177 1.24 --->  0.158"
       ]
      },
      {
       "output_type": "stream",
       "stream": "stdout",
       "text": [
        "\n",
        "17 5809 4.44  0.158 1.16 --->  0.178"
       ]
      },
      {
       "output_type": "stream",
       "stream": "stdout",
       "text": [
        "\n",
        "-- Converged at iteration 17 of 50\n",
        "18 5805 4.48  0.178 1.20 --->  0.168"
       ]
      },
      {
       "output_type": "stream",
       "stream": "stdout",
       "text": [
        "\n",
        "19 5801 4.52  0.168 1.24 --->  0.156"
       ]
      },
      {
       "output_type": "stream",
       "stream": "stdout",
       "text": [
        "\n",
        "20 5805 4.48  0.156 1.20 --->  0.165"
       ]
      },
      {
       "output_type": "stream",
       "stream": "stdout",
       "text": [
        "\n",
        "-- Converged at iteration 20 of 50\n",
        "21 5803 4.50  0.165 1.22 --->  0.160"
       ]
      },
      {
       "output_type": "stream",
       "stream": "stdout",
       "text": [
        "\n",
        "22 5805 4.48  0.160 1.24 --->  0.157"
       ]
      },
      {
       "output_type": "stream",
       "stream": "stdout",
       "text": [
        "\n",
        "23 5807 4.50  0.157 1.26 --->  0.154"
       ]
      },
      {
       "output_type": "stream",
       "stream": "stdout",
       "text": [
        "\n",
        "24 5809 4.48  0.154 1.24 --->  0.158"
       ]
      },
      {
       "output_type": "stream",
       "stream": "stdout",
       "text": [
        "\n",
        "25 5811 4.50  0.158 1.26 --->  0.156"
       ]
      },
      {
       "output_type": "stream",
       "stream": "stdout",
       "text": [
        "\n",
        "26 5813 4.48  0.156 1.24 --->  0.161"
       ]
      },
      {
       "output_type": "stream",
       "stream": "stdout",
       "text": [
        "\n",
        "27 5811 4.50  0.161 1.26 --->  0.156"
       ]
      },
      {
       "output_type": "stream",
       "stream": "stdout",
       "text": [
        "\n",
        "28 5813 4.48  0.156 1.24 --->  0.161"
       ]
      },
      {
       "output_type": "stream",
       "stream": "stdout",
       "text": [
        "\n",
        "-- Converged at iteration 28 of 50\n",
        "-- Begin final loop\n",
        "29 5812 4.49  0.161 1.25 --->  0.159"
       ]
      },
      {
       "output_type": "stream",
       "stream": "stdout",
       "text": [
        "\n",
        "30 5813 4.50  0.159 1.26 --->  0.157"
       ]
      },
      {
       "output_type": "stream",
       "stream": "stdout",
       "text": [
        "\n",
        "31 5814 4.49  0.157 1.25 --->  0.160"
       ]
      },
      {
       "output_type": "stream",
       "stream": "stdout",
       "text": [
        "\n",
        "32 5813 4.50  0.160 1.26 --->  0.158"
       ]
      },
      {
       "output_type": "stream",
       "stream": "stdout",
       "text": [
        "\n",
        "-- Converged at iteration 32 of 50\n",
        "------------------------------------------------------"
       ]
      },
      {
       "output_type": "stream",
       "stream": "stdout",
       "text": [
        "\n",
        "   D[Fe/H]    ||    D[Fe/H] Fe I   |   D[Fe/H] Fe II\n",
        " 0.158  0.031 ||  0.157  0.032  83 |  0.158  0.021   9\n",
        "------------------------------------------------------\n",
        "Solution with formal errors:"
       ]
      },
      {
       "output_type": "stream",
       "stream": "stdout",
       "text": [
        "\n",
        "Teff    =   5813 +/-    28\n",
        "log g   =  4.500 +/- 0.041\n",
        "D[Fe/H] =  0.158 +/- 0.020\n",
        "vt      =   1.26 +/-  0.05\n",
        "------------------------------------------------------\n",
        "\n",
        "*******\n",
        "hd29310\n",
        "*******\n",
        "it Teff logg [Fe/H]  vt"
       ]
      },
      {
       "output_type": "stream",
       "stream": "stdout",
       "text": [
        "\n",
        "-- ---- ---- ------ ----\n",
        " 0 5777 4.44  0.000 1.00 --->  0.067"
       ]
      },
      {
       "output_type": "stream",
       "stream": "stdout",
       "text": [
        "\n",
        " 1 5809 4.12  0.067 1.32 --->  0.038"
       ]
      },
      {
       "output_type": "stream",
       "stream": "stdout",
       "text": [
        "\n",
        " 2 5841 3.80  0.038 1.64 ---> -0.015"
       ]
      },
      {
       "output_type": "stream",
       "stream": "stdout",
       "text": [
        "\n",
        " 3 5873 4.12 -0.015 1.32 --->  0.073"
       ]
      },
      {
       "output_type": "stream",
       "stream": "stdout",
       "text": [
        "\n",
        " 4 5905 4.44  0.073 1.64 --->  0.025"
       ]
      },
      {
       "output_type": "stream",
       "stream": "stdout",
       "text": [
        "\n",
        " 5 5937 4.12  0.025 1.32 --->  0.108"
       ]
      },
      {
       "output_type": "stream",
       "stream": "stdout",
       "text": [
        "\n",
        " 6 5969 4.44  0.108 1.64 --->  0.059"
       ]
      },
      {
       "output_type": "stream",
       "stream": "stdout",
       "text": [
        "\n",
        " 7 6001 4.12  0.059 1.32 --->  0.144"
       ]
      },
      {
       "output_type": "stream",
       "stream": "stdout",
       "text": [
        "\n",
        " 8 5969 4.44  0.144 1.64 --->  0.061"
       ]
      },
      {
       "output_type": "stream",
       "stream": "stdout",
       "text": [
        "\n",
        " 9 6001 4.12  0.061 1.32 --->  0.144"
       ]
      },
      {
       "output_type": "stream",
       "stream": "stdout",
       "text": [
        "\n",
        "-- Converged at iteration 9 of 50\n",
        "10 5985 4.28  0.144 1.48 --->  0.098"
       ]
      },
      {
       "output_type": "stream",
       "stream": "stdout",
       "text": [
        "\n",
        "11 6001 4.44  0.098 1.32 --->  0.138"
       ]
      },
      {
       "output_type": "stream",
       "stream": "stdout",
       "text": [
        "\n",
        "12 5985 4.28  0.138 1.48 --->  0.098"
       ]
      },
      {
       "output_type": "stream",
       "stream": "stdout",
       "text": [
        "\n",
        "-- Converged at iteration 12 of 50\n",
        "13 5993 4.36  0.098 1.40 --->  0.115"
       ]
      },
      {
       "output_type": "stream",
       "stream": "stdout",
       "text": [
        "\n",
        "14 6001 4.44  0.115 1.48 --->  0.107"
       ]
      },
      {
       "output_type": "stream",
       "stream": "stdout",
       "text": [
        "\n",
        "15 6009 4.36  0.107 1.40 --->  0.127"
       ]
      },
      {
       "output_type": "stream",
       "stream": "stdout",
       "text": [
        "\n",
        "16 6001 4.44  0.127 1.48 --->  0.108"
       ]
      },
      {
       "output_type": "stream",
       "stream": "stdout",
       "text": [
        "\n",
        "17 6009 4.36  0.108 1.40 --->  0.127"
       ]
      },
      {
       "output_type": "stream",
       "stream": "stdout",
       "text": [
        "\n",
        "-- Converged at iteration 17 of 50\n",
        "18 6005 4.40  0.127 1.44 --->  0.118"
       ]
      },
      {
       "output_type": "stream",
       "stream": "stdout",
       "text": [
        "\n",
        "19 6009 4.36  0.118 1.40 --->  0.128"
       ]
      },
      {
       "output_type": "stream",
       "stream": "stdout",
       "text": [
        "\n",
        "20 6013 4.40  0.128 1.44 --->  0.123"
       ]
      },
      {
       "output_type": "stream",
       "stream": "stdout",
       "text": [
        "\n",
        "21 6017 4.36  0.123 1.48 --->  0.117"
       ]
      },
      {
       "output_type": "stream",
       "stream": "stdout",
       "text": [
        "\n",
        "22 6021 4.40  0.117 1.44 --->  0.128"
       ]
      },
      {
       "output_type": "stream",
       "stream": "stdout",
       "text": [
        "\n",
        "23 6025 4.44  0.128 1.48 --->  0.123"
       ]
      },
      {
       "output_type": "stream",
       "stream": "stdout",
       "text": [
        "\n",
        "24 6029 4.40  0.123 1.44 --->  0.133"
       ]
      },
      {
       "output_type": "stream",
       "stream": "stdout",
       "text": [
        "\n",
        "25 6025 4.44  0.133 1.48 --->  0.124"
       ]
      },
      {
       "output_type": "stream",
       "stream": "stdout",
       "text": [
        "\n",
        "26 6029 4.40  0.124 1.44 --->  0.133"
       ]
      },
      {
       "output_type": "stream",
       "stream": "stdout",
       "text": [
        "\n",
        "-- Converged at iteration 26 of 50\n",
        "27 6027 4.42  0.133 1.46 --->  0.128"
       ]
      },
      {
       "output_type": "stream",
       "stream": "stdout",
       "text": [
        "\n",
        "28 6029 4.40  0.128 1.44 --->  0.133"
       ]
      },
      {
       "output_type": "stream",
       "stream": "stdout",
       "text": [
        "\n",
        "29 6027 4.42  0.133 1.46 --->  0.128"
       ]
      },
      {
       "output_type": "stream",
       "stream": "stdout",
       "text": [
        "\n",
        "-- Converged at iteration 29 of 50\n",
        "-- Begin final loop\n",
        "30 6028 4.41  0.128 1.45 --->  0.131"
       ]
      },
      {
       "output_type": "stream",
       "stream": "stdout",
       "text": [
        "\n",
        "31 6029 4.42  0.131 1.46 --->  0.129"
       ]
      },
      {
       "output_type": "stream",
       "stream": "stdout",
       "text": [
        "\n",
        "32 6030 4.41  0.129 1.45 --->  0.132"
       ]
      },
      {
       "output_type": "stream",
       "stream": "stdout",
       "text": [
        "\n",
        "33 6031 4.42  0.132 1.46 --->  0.131"
       ]
      },
      {
       "output_type": "stream",
       "stream": "stdout",
       "text": [
        "\n",
        "34 6032 4.41  0.131 1.45 --->  0.133"
       ]
      },
      {
       "output_type": "stream",
       "stream": "stdout",
       "text": [
        "\n",
        "35 6033 4.42  0.133 1.46 --->  0.132"
       ]
      },
      {
       "output_type": "stream",
       "stream": "stdout",
       "text": [
        "\n",
        "36 6034 4.41  0.132 1.45 --->  0.135"
       ]
      },
      {
       "output_type": "stream",
       "stream": "stdout",
       "text": [
        "\n",
        "37 6033 4.42  0.135 1.46 --->  0.132"
       ]
      },
      {
       "output_type": "stream",
       "stream": "stdout",
       "text": [
        "\n",
        "38 6034 4.41  0.132 1.45 --->  0.135"
       ]
      },
      {
       "output_type": "stream",
       "stream": "stdout",
       "text": [
        "\n",
        "-- Converged at iteration 38 of 50\n",
        "------------------------------------------------------"
       ]
      },
      {
       "output_type": "stream",
       "stream": "stdout",
       "text": [
        "\n",
        "   D[Fe/H]    ||    D[Fe/H] Fe I   |   D[Fe/H] Fe II\n",
        " 0.135  0.055 ||  0.135  0.057  81 |  0.131  0.037   9\n",
        "------------------------------------------------------\n",
        "Solution with formal errors:"
       ]
      },
      {
       "output_type": "stream",
       "stream": "stdout",
       "text": [
        "\n",
        "Teff    =   6034 +/-    42\n",
        "log g   =  4.410 +/- 0.084\n",
        "D[Fe/H] =  0.135 +/- 0.030\n",
        "vt      =   1.45 +/-  0.06\n",
        "------------------------------------------------------\n",
        "\n",
        "********\n",
        "vestaOct\n",
        "********\n",
        "Reference star. No calculations needed.\n",
        "it Teff logg [Fe/H]  vt"
       ]
      },
      {
       "output_type": "stream",
       "stream": "stdout",
       "text": [
        "\n",
        "-- ---- ---- ------ ----\n",
        " 0 5777 4.44  0.000 1.00 --->  0.000\n",
        "--\n",
        "------------------------------------------------------\n",
        "   D[Fe/H]    ||    D[Fe/H] Fe I   |   D[Fe/H] Fe II\n",
        " 0.000  0.000 ||  0.000  0.000   0 |  0.000  0.000   0\n",
        "------------------------------------------------------\n",
        "\n",
        "------------------------------------------------------\n",
        "- Date and time: 2014-02-19 15:15:06.287636\n",
        "- Time elapsed: 0:02:28.536676\n",
        "Done!\n",
        "------------------------------------------------------\n",
        "\n"
       ]
      }
     ],
     "prompt_number": 3
    },
    {
     "cell_type": "markdown",
     "metadata": {},
     "source": [
      "Let's have a look at the output file Hyades_solution_odfnew_err.csv. Our final \"spectroscopic\" parameters and their formal errors are there (teff_out, logg_out, etc.). The information from the last iteration of iron_stats is also copied there for reference.\n",
      "\n",
      "The most tedious part of elemental abundance work is the derivation of fundamental parameters Teff, logg, vt. Once those are set (as they are now in this Hyades example) deriving abundances is really straightforward. In Part 4 of this Tutorial we will deal with that."
     ]
    }
   ],
   "metadata": {}
  }
 ]
}