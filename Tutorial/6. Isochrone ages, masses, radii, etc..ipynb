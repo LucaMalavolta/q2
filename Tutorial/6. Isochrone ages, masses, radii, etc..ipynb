{
 "metadata": {
  "name": "",
  "signature": "sha256:50924a8527903bcd791a0a0acadde3d7e66b03b0f2fe296319d430342b8101ea"
 },
 "nbformat": 3,
 "nbformat_minor": 0,
 "worksheets": [
  {
   "cells": [
    {
     "cell_type": "markdown",
     "metadata": {},
     "source": [
      "*Under Construction*\n",
      "\n",
      "#q<sup>2</sup> Tutorial - 6. Isochrone ages, masses, radii, etc."
     ]
    },
    {
     "cell_type": "code",
     "collapsed": false,
     "input": [],
     "language": "python",
     "metadata": {},
     "outputs": []
    }
   ],
   "metadata": {}
  }
 ]
}