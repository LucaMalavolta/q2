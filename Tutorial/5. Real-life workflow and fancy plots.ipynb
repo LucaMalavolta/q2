{
 "metadata": {
  "name": "",
  "signature": "sha256:a86b2422d08f0a066e04cde715acb87e065291a44c9b298185f4c20ef1c9ace9"
 },
 "nbformat": 3,
 "nbformat_minor": 0,
 "worksheets": [
  {
   "cells": [
    {
     "cell_type": "markdown",
     "metadata": {},
     "source": [
      "*Under Construction*\n",
      "\n",
      "#q<sup>2</sup> Tutorial - 5. Real-life workflow and fancy plots"
     ]
    },
    {
     "cell_type": "code",
     "collapsed": false,
     "input": [],
     "language": "python",
     "metadata": {},
     "outputs": []
    }
   ],
   "metadata": {}
  }
 ]
}