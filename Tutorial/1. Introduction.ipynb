{
 "metadata": {
  "name": ""
 },
 "nbformat": 3,
 "nbformat_minor": 0,
 "worksheets": [
  {
   "cells": [
    {
     "cell_type": "heading",
     "level": 2,
     "metadata": {},
     "source": [
      "q2 Tutorial - 1. Introduction"
     ]
    },
    {
     "cell_type": "markdown",
     "metadata": {},
     "source": [
      "Welcome to the q2 Python package!\n",
      "\n",
      "Before we begin this tutorial, we need to make sure that we have <a href=\"http://www.as.utexas.edu/~chris/moog.html\">MOOGSILENT</a> installed, but compiled using the modified Lineinfo.f file available on \n",
      "<a href=\"https://github.com/astroChasqui/q2\" >the q2 Github page</a>.\n",
      "\n",
      "Go!\n",
      "\n",
      "First, let's create a directory Demo, move other there, and import the q2 package."
     ]
    },
    {
     "cell_type": "code",
     "collapsed": false,
     "input": [
      "import os\n",
      "if not os.path.exists('Demo'):\n",
      "    os.mkdir('Demo')\n",
      "os.chdir('Demo')\n",
      "\n",
      "import q2"
     ],
     "language": "python",
     "metadata": {},
     "outputs": [],
     "prompt_number": 1
    },
    {
     "cell_type": "markdown",
     "metadata": {},
     "source": [
      "For any given project, two CSV files are required: one with star data such as Teff, logg, etc., and the other one with spectral line data, i.e., a line list with atomic data and measured equivalent widths. Take a look at the two files used in this example to have an idea of the format. Column order is not important, but a few columns are required: id, teff_in, logg_in, feh_in, and vt_in in the \"stars\" file and wavelength, species, ep, and gf in the \"lines\" file. The EW values of the stars should be given in the \"lines\" file with a heading corresponding to the id of the star.\n",
      "\n",
      "In this first step, the data from the CSV files are loaded into an object called data. Nothing will happen to our CSV files from now on; in fact, q2 will never modify them."
     ]
    },
    {
     "cell_type": "code",
     "collapsed": false,
     "input": [
      "data = q2.Data('../standards_stars.csv', '../standards_lines.csv')"
     ],
     "language": "python",
     "metadata": {},
     "outputs": [],
     "prompt_number": 2
    },
    {
     "cell_type": "markdown",
     "metadata": {},
     "source": [
      "We can inspect our data by calling the object attributes star_data and lines. All the columns from our CSV files are available, but only some of them are required to continue working with q2."
     ]
    },
    {
     "cell_type": "code",
     "collapsed": false,
     "input": [
      "print(data.star_data['id', 'teff_in', 'logg_in', 'feh_in'])\n",
      "print('')\n",
      "print(data.lines['wavelength', 'ep', 'gf', 'Arcturus', 'Sun'])"
     ],
     "language": "python",
     "metadata": {},
     "outputs": [
      {
       "output_type": "stream",
       "stream": "stdout",
       "text": [
        "   id    teff_in logg_in feh_in\n",
        "-------- ------- ------- ------\n",
        "     Sun    5777    4.44    0.0\n",
        "Arcturus    4286    1.66  -0.52\n",
        "\n",
        "wavelength   ep    gf   Arcturus Sun \n",
        "---------- ----- ------ -------- ----\n",
        " 5295.3101  4.42  -1.59     47.7 29.0\n",
        " 5379.5698  3.69  -1.51     99.0 62.5\n",
        " 5386.3301  4.15  -1.67     56.0 32.6\n",
        " 5441.3398  4.31  -1.63     55.7 32.5\n",
        " 5638.2598  4.22  -0.77    104.9 80.0\n",
        " 5679.0229 4.652  -0.75     72.7 59.6\n",
        " 5705.4639 4.301 -1.355     62.7 38.0\n",
        " 5731.7598  4.26   -1.2     83.0 57.7\n",
        " 5778.4531 2.588  -3.44     74.7 22.1\n",
        " 5793.9141  4.22 -1.619     56.6 34.2\n",
        " 5855.0762 4.608 -1.478     37.1 22.4\n",
        "       ...   ...    ...      ...  ...\n",
        " 7022.9502  4.19  -1.15     89.9 64.5\n",
        " 7132.9902  4.08  -1.65     68.6 43.1\n",
        "  4576.333 2.844  -2.95     76.7 64.6\n",
        " 4620.5132 2.828  -3.21     60.1 50.4\n",
        "  5234.624 3.221  -2.18     88.7 82.9\n",
        " 5264.8042  3.23  -3.13     47.9 46.1\n",
        " 5414.0718 3.221  -3.58     31.0 27.3\n",
        " 5425.2568   3.2  -3.22     45.4 41.9\n",
        " 6369.4619 2.891  -4.11     23.1 19.2\n",
        " 6432.6758 2.891  -3.57     47.0 41.3\n",
        " 6516.0771 2.891  -3.31     59.0 54.7\n"
       ]
      }
     ],
     "prompt_number": 3
    },
    {
     "cell_type": "markdown",
     "metadata": {},
     "source": [
      "To begin using q2 we need to create Star objects."
     ]
    },
    {
     "cell_type": "code",
     "collapsed": false,
     "input": [
      "sun = q2.Star('Sun')\n",
      "arcturus = q2.Star('Arcturus')"
     ],
     "language": "python",
     "metadata": {},
     "outputs": [],
     "prompt_number": 4
    },
    {
     "cell_type": "markdown",
     "metadata": {},
     "source": [
      "To asign the correct attributes to these stars, as given in our CSV files, use the get_data_from method. Our CSV files are no longer being used to get this information; the data object is instead employed for that. Let's get the input data for our two stars and print their Teff and logg values (nicely)."
     ]
    },
    {
     "cell_type": "code",
     "collapsed": false,
     "input": [
      "sun.get_data_from(data)\n",
      "arcturus.get_data_from(data)\n",
      "\n",
      "print(\"Sun:      Teff = {0:4.0f} K, logg = {1:4.2f}\".\n",
      "      format(sun.teff, sun.logg))\n",
      "print(\"Arcturus: Teff = {0:4.0f} K, logg = {1:4.2f}\".\n",
      "      format(arcturus.teff, arcturus.logg))"
     ],
     "language": "python",
     "metadata": {},
     "outputs": [
      {
       "output_type": "stream",
       "stream": "stdout",
       "text": [
        "Sun:      Teff = 5777 K, logg = 4.44\n",
        "Arcturus: Teff = 4286 K, logg = 1.66\n"
       ]
      }
     ],
     "prompt_number": 5
    },
    {
     "cell_type": "markdown",
     "metadata": {},
     "source": [
      "Since we also uploaded a master line list (the \"lines\" CSV file), the star objects now also have their own linelist data. These data were also asigned by the get_data_from method."
     ]
    },
    {
     "cell_type": "code",
     "collapsed": false,
     "input": [
      "print(sun.linelist['wavelength'], sun.linelist['ew'])"
     ],
     "language": "python",
     "metadata": {},
     "outputs": [
      {
       "output_type": "stream",
       "stream": "stdout",
       "text": [
        "(<Column name='wavelength' units=None format=None description=None>\n",
        "array([ 5295.3101,  5379.5698,  5386.3301,  5441.3398,  5638.2598,\n",
        "        5679.0229,  5705.4639,  5731.7598,  5778.4531,  5793.9141,\n",
        "        5855.0762,  5905.6699,  5927.79  ,  5929.6802,  6003.0098,\n",
        "        6027.0498,  6056.    ,  6079.0098,  6093.644 ,  6096.665 ,\n",
        "        6151.6182,  6165.3599,  6187.9902,  6240.646 ,  6270.2251,\n",
        "        6703.5669,  6705.1021,  6713.7451,  6726.667 ,  6793.2588,\n",
        "        6810.2632,  6828.5898,  6842.6899,  6843.6602,  6999.8799,\n",
        "        7022.9502,  7132.9902,  4576.333 ,  4620.5132,  5234.624 ,\n",
        "        5264.8042,  5414.0718,  5425.2568,  6369.4619,  6432.6758,\n",
        "        6516.0771]), <Column name='Sun' units=None format=None description=None>\n",
        "array([ 29. ,  62.5,  32.6,  32.5,  80. ,  59.6,  38. ,  57.7,  22.1,\n",
        "        34.2,  22.4,  58.6,  42.9,  40. ,  84. ,  64.2,  72.6,  45.6,\n",
        "        30.9,  37.6,  49.8,  44.8,  47.6,  48.2,  52.4,  36.8,  46.4,\n",
        "        21.2,  46.9,  12.8,  50. ,  55.9,  39.1,  60.9,  53.9,  64.5,\n",
        "        43.1,  64.6,  50.4,  82.9,  46.1,  27.3,  41.9,  19.2,  41.3,  54.7]))\n"
       ]
      }
     ],
     "prompt_number": 6
    },
    {
     "cell_type": "markdown",
     "metadata": {},
     "source": [
      "Since our stars have all fundamental atmospheric parameters defined (they can be input guess values at this point), we can use the get_model_atmosphere method to look for models or interpolate them from the available grids. For that we pass the 'marcs' string; for Kurucz models we can use 'odfnew', 'aodfnew', 'over', or 'nover'."
     ]
    },
    {
     "cell_type": "code",
     "collapsed": false,
     "input": [
      "sun.get_model_atmosphere('marcs')\n",
      "arcturus.get_model_atmosphere('marcs')"
     ],
     "language": "python",
     "metadata": {},
     "outputs": [],
     "prompt_number": 7
    },
    {
     "cell_type": "markdown",
     "metadata": {},
     "source": [
      "What we just did is to add an attribute model_atmosphere to our star objects sun and arcturus. This attribute is a table with the model atmosphere information. The code below allows us to see the temperature structure, for example. We can check what grid these model was taken or interpolated from by looking at the model_atmosphere_grid attribute."
     ]
    },
    {
     "cell_type": "code",
     "collapsed": false,
     "input": [
      "print(sun.model_atmosphere['T'])\n",
      "print(sun.model_atmosphere_grid)"
     ],
     "language": "python",
     "metadata": {},
     "outputs": [
      {
       "output_type": "stream",
       "stream": "stdout",
       "text": [
        "[ 4213.9502353   4218.16840371  4259.9562701   4302.09919638  4344.51512902\n",
        "  4387.04030103  4429.64053065  4472.12522505  4505.14635567  4526.74913314\n",
        "  4548.22664789  4569.67114497  4591.13928657  4612.77057248  4634.44127594\n",
        "  4656.44552277  4678.64758141  4701.20190089  4724.34783569  4748.18717857\n",
        "  4772.91894031  4798.81446303  4826.14672422  4855.25374417  4886.57040481\n",
        "  4920.46963535  4957.2192707   4997.77726003  5041.85271333  5091.39388065\n",
        "  5146.4590601   5208.36693611  5277.69718551  5355.55115712  5443.52173163\n",
        "  5542.53557923  5654.01534043  5779.96481647  5921.83628483  6081.3864005\n",
        "  6260.18473315  6461.25056086  6685.87448146  6950.91384655  7250.79121848\n",
        "  7539.27367474  7791.96581258  8010.32656639  8201.31133173  8371.3073374\n",
        "  8525.91820706  8709.01127338  8968.18290967  9212.76737797  9450.41264464\n",
        "  9686.19469518]\n",
        "marcs\n"
       ]
      }
     ],
     "prompt_number": 8
    },
    {
     "cell_type": "markdown",
     "metadata": {},
     "source": [
      "Note that the model_atmosphere attribute/table has all the necessary physical information to run a MOOG abfind calculation (and our star objects have the linelist data as well):"
     ]
    },
    {
     "cell_type": "code",
     "collapsed": false,
     "input": [
      "print(sun.model_atmosphere.dtype.names)"
     ],
     "language": "python",
     "metadata": {},
     "outputs": [
      {
       "output_type": "stream",
       "stream": "stdout",
       "text": [
        "('RHOX', 'T', 'P', 'XNE', 'ABROSS')\n"
       ]
      }
     ],
     "prompt_number": 9
    },
    {
     "cell_type": "markdown",
     "metadata": {},
     "source": [
      "So, why don't we try just that? We will now use the q2.specpars module. Let's keep our fingers crossed. This is when q2 actually talks to MOOG!"
     ]
    },
    {
     "cell_type": "code",
     "collapsed": false,
     "input": [
      "q2.specpars.iron_stats(sun, plot='sun')"
     ],
     "language": "python",
     "metadata": {},
     "outputs": [],
     "prompt_number": 10
    },
    {
     "cell_type": "markdown",
     "metadata": {},
     "source": [
      "Not only did we make a nice figure (look in the Demo folder for the 'sun.png' file; the name of this file is set by the plot argument above), but the sun object now has an iron_stats attribute with the results of this calculation, so we can use these for future statistics. By the way, in the figure, blue crosses here are the FeI lines and green circles the FeII lines. We should not need to be told that by now!"
     ]
    },
    {
     "cell_type": "code",
     "collapsed": false,
     "input": [
      "print(sun.iron_stats.keys())\n",
      "print(\"\")\n",
      "print(\"A(Fe I)  = {0:4.2f} +/- {1:4.2f}\".\n",
      "      format(sun.iron_stats['afe1'], sun.iron_stats['err_afe1']))\n",
      "print(\"A(Fe II) = {0:4.2f} +/- {1:4.2f}\".\n",
      "      format(sun.iron_stats['afe2'], sun.iron_stats['err_afe2']))"
     ],
     "language": "python",
     "metadata": {},
     "outputs": [
      {
       "output_type": "stream",
       "stream": "stdout",
       "text": [
        "['err_slope_rew', 'reference', 'slope_ep', 'afe2', 'afe1', 'err_afe2', 'nfe2', 'nfe1', 'err_afe1', 'afe', 'slope_rew', 'err_slope_ep', 'err_afe']\n",
        "\n",
        "A(Fe I)  = 7.42 +/- 0.05\n",
        "A(Fe II) = 7.40 +/- 0.05\n"
       ]
      }
     ],
     "prompt_number": 11
    },
    {
     "cell_type": "markdown",
     "metadata": {},
     "source": [
      "There is some flexibility to modify the plots generated by q2 with a PlotPars object, which can be passed on to q2.specpars. For example, we can set the y-axis to be +/-0.25 from the mean iron abundance derived as follows. Also, note that now we are doing a calculation for Arcturus (check the Demo folder again after this calculation for the output figure: 'arcturus.png')."
     ]
    },
    {
     "cell_type": "code",
     "collapsed": false,
     "input": [
      "pp = q2.specpars.PlotPars()\n",
      "pp.afe = [-1000, 0.25]\n",
      "\n",
      "q2.specpars.iron_stats(arcturus, plot='arcturus', PlotPars=pp)"
     ],
     "language": "python",
     "metadata": {},
     "outputs": [],
     "prompt_number": 12
    },
    {
     "cell_type": "markdown",
     "metadata": {},
     "source": [
      "So far we have used q2 to calculate absolute abundances of the Sun and Arcturus, but what about a differential analysis? We can run q2.specpars.iron_stats for Arcturus using the Sun as the reference star and all we have to do is pass the object sun as Ref(erence):"
     ]
    },
    {
     "cell_type": "code",
     "collapsed": false,
     "input": [
      "q2.specpars.iron_stats(arcturus, Ref=sun, plot='arcturus_sun', PlotPars=pp)"
     ],
     "language": "python",
     "metadata": {},
     "outputs": [],
     "prompt_number": 14
    },
    {
     "cell_type": "markdown",
     "metadata": {},
     "source": [
      "Have a look at the arcturus_sun.png figure. Note that we didn't have to deal with the MOOG outputs, match line lists, create tables and do the math separately. All that was handled by q2.\n",
      "\n",
      "This concludes the Introduction. Note that so far we have calculated iron abundances using input parameters as given in our CSV files. As shown in the figure we just made (arcturus_sun.png), the iron abundances of Arcturus show trends with excitation potential and line-strength. Also, the mean FeI and FeII abundances are a bit different. This could be indicating that the input parameters used are not correct (within our 1D-LTE model assumptions, of course). Now let's move on to Part 2 of this Tutorial and use q2 to derive \"better\" fundamental stellar parameters of stars.\n",
      "\n",
      "[If you are using the terminal, exit Python and re-launch it at the start of each Part of this Tutorial.]"
     ]
    }
   ],
   "metadata": {}
  }
 ]
}