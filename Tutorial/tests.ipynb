{
 "metadata": {
  "name": "",
  "signature": "sha256:4e3442eb2a628d094aeef19a2ab0f1732871963d9948a8a0c63caf4012769d2e"
 },
 "nbformat": 3,
 "nbformat_minor": 0,
 "worksheets": [
  {
   "cells": [
    {
     "cell_type": "code",
     "collapsed": false,
     "input": [
      "import q2"
     ],
     "language": "python",
     "metadata": {},
     "outputs": [],
     "prompt_number": 6
    },
    {
     "cell_type": "code",
     "collapsed": false,
     "input": [
      "reload(q2.star)\n",
      "sun = q2.star.Star('Sun')\n",
      "print sun\n",
      "data = q2.star.Data(\"standards_stars.csv\", \"standards_lines.csv\")\n",
      "print data\n",
      "sun.get_data_from(data)\n",
      "sun"
     ],
     "language": "python",
     "metadata": {},
     "outputs": [
      {
       "output_type": "stream",
       "stream": "stdout",
       "text": [
        "Star object named 'Sun':\n",
        "  Teff = None K, logg = None, feh = None, vt = None km/s\n",
        "Data object built from:\n",
        "  stars file = standards_stars.csv\n",
        "  lines file = standards_lines.csv\n"
       ]
      },
      {
       "metadata": {},
       "output_type": "pyout",
       "prompt_number": 59,
       "text": [
        "Star object named 'Sun':\n",
        "  Teff = 5777 K, logg = 4.44, feh = 0.0, vt = 0.97 km/s"
       ]
      }
     ],
     "prompt_number": 59
    },
    {
     "cell_type": "code",
     "collapsed": false,
     "input": [],
     "language": "python",
     "metadata": {},
     "outputs": []
    }
   ],
   "metadata": {}
  }
 ]
}